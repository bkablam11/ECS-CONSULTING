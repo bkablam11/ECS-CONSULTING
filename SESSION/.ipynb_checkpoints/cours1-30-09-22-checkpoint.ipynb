{
 "cells": [
  {
   "cell_type": "markdown",
   "id": "3dcdf7f5-2413-455b-a803-008100d72116",
   "metadata": {},
   "source": [
    "# Hi, I'm Blanchard! 👋\n",
    "\n",
    "# Project : Seance du 03/09/22\n",
    "\n",
    "Plan de la séance:\n",
    "- Présentation du formateur et des apprenants\n",
    "- Qu'est ce que SOJL et le contenu de la formation\n",
    "- Creation d'une plateforme (WhatsApp) et autres\n",
    "- Revision sur les chaines de caracteres\n",
    "- Module Turtle \n",
    "la classe str et ses methodes (slicing, ...)\n",
    "\n",
    "## Badges\n",
    "\n",
    "Add badges from somewhere like: [shields.io](https://shields.io/)\n",
    "\n",
    "[![MIT License](https://img.shields.io/badge/License-MIT-green.svg)](https://choosealicense.com/licenses/mit/)\n",
    "[![GPLv3 License](https://img.shields.io/badge/License-GPL%20v3-yellow.svg)](https://opensource.org/licenses/)\n",
    "[![AGPL License](https://img.shields.io/badge/license-AGPL-blue.svg)](http://www.gnu.org/licenses/agpl-3.0)\n",
    "\n",
    "\n",
    "## Authors\n",
    "\n",
    "- [@bkablam11](https://github.com/bkablam11)\n",
    "\n",
    "\n",
    "## Features\n",
    "\n",
    "- POO\n",
    "- Challenge\n",
    "\n",
    "\n",
    "## Travail à faire\n",
    "👩‍💻 Exo1: Afficher une phrase de plusieurs lignes sur une seule ligne en utilisant (\"), ('); (\"\"\")\n",
    "\n",
    "🧠 Exo2: Manipuler les chaines de caractere avec les index, le slicing, la concatenation, la methode find pour retrouver les index, la methode join\n",
    "\n",
    "👯‍♀️ Exo3: Écrivez un script qui recopie une chaîne (dans une nouvelle variable) en l'inversant.\n",
    "Ainsi par exemple,  “zorglub” deviendra  “bulgroz”.\n",
    "\n",
    "🤔 Exo4: Ecrivez un programme qui affiche les 20 premiers termes de la table de multiplication par 7, en signalant au passage (à l'aide d'un astérisque) ceux qui sont des multiples de 3. Exemple : 7 14 21 * 28 35 42 * 49\n",
    "\n",
    "💬 Exo5: Ecrivez un programme qui affiche la suite de symboles suivante :\n",
    "*\n",
    "**\n",
    "***\n",
    "****\n",
    "*****\n",
    "******\n",
    "*******\n",
    "********\n",
    "\n",
    "\n",
    "📫 Exo39: Soit la liste suivante : ['Jean-Michel', 'Marc', 'Vanessa', 'Anne', 'Maximilien', 'AlexandreBenoît', 'Louise']. Ecrivez un script qui affiche chacun de ces noms avec le nombre de\n",
    "caractères correspondant.\n",
    "\n",
    "\n",
    "😄 Exo40. Écrire une boucle de programme qui demande à l'utilisateur d'entrer des notes d'élèves. La\n",
    "boucle se terminera seulement si l'utilisateur entre une valeur négative. Avec les notes ainsi\n",
    "entrées, construire progressivement une liste. Après chaque entrée d'une nouvelle note (et\n",
    "donc à chaque itération de la boucle), afficher le nombre de notes entrées, la note la plus\n",
    "élevée, la note la plus basse, la moyenne de toutes les notes.\n",
    "\n",
    "⚡️ Exo68.Découpez une grande chaîne en fragments de 5 caractères chacun. Rassemblez ces morceaux\n",
    "dans l'ordre inverse.\n",
    "\n",
    "## Tips\n",
    "- shift + tab pour faire sortir la documentation \n",
    "- les chaines de caracteres et tuples sont immuables: on ne peu pas faire des affectations dessus\n",
    "- Faire attention au type de retour des informations car ils des méthodes qui ne peuvent être appliqué sur autre type de variable\n",
    "- travailler sur l'algorithme pour developper son mindset\n",
    "\n",
    "\n",
    "## 🛠 Langage utilisé\n",
    "**Python**\n",
    "\n",
    "## links\n",
    "[Methode String](https://snakify.org/fr/lessons/strings_str/#:~:text=Par%20exemple%2C%20pour%20supprimer%20le,la%20tranche%20S%5B%3A%2D1%5D%20.)\n",
    "[Link](https://python.sdv.univ-paris-diderot.fr/10_plus_sur_les_chaines_de_caracteres/)\n"
   ]
  },
  {
   "cell_type": "code",
   "execution_count": 7,
   "id": "614fd966-27ad-4d97-af9c-3f7d84689a64",
   "metadata": {},
   "outputs": [],
   "source": [
    "nom1 = \"olivier\"\n",
    "nom2 = 'olivier'\n",
    "nom3 = \"\"\"olivier\"\"\""
   ]
  },
  {
   "cell_type": "code",
   "execution_count": 8,
   "id": "302ca515-aff8-43c9-bd53-451e98649a45",
   "metadata": {},
   "outputs": [
    {
     "data": {
      "text/plain": [
       "True"
      ]
     },
     "execution_count": 8,
     "metadata": {},
     "output_type": "execute_result"
    }
   ],
   "source": [
    "nom1 == nom3"
   ]
  },
  {
   "cell_type": "code",
   "execution_count": 9,
   "id": "73633785-d6d3-4e0c-8bb4-d06c34640416",
   "metadata": {},
   "outputs": [
    {
     "data": {
      "text/plain": [
       "'olivier'"
      ]
     },
     "execution_count": 9,
     "metadata": {},
     "output_type": "execute_result"
    }
   ],
   "source": [
    "nom3"
   ]
  },
  {
   "cell_type": "code",
   "execution_count": 112,
   "id": "939de6fc-141f-460e-869b-30e0dcb34995",
   "metadata": {},
   "outputs": [],
   "source": [
    "# info = 'je m'appelle \n",
    "# George'\n",
    "\n",
    "#   Input In [11]\n",
    "#     info = 'je m'appelle\n",
    "#                  ^\n",
    "# SyntaxError: invalid syntax"
   ]
  },
  {
   "cell_type": "code",
   "execution_count": 13,
   "id": "b7c5fbb1-d7ef-4552-8b96-66b7c6686ce7",
   "metadata": {},
   "outputs": [],
   "source": [
    "info = \"\"\"je m'appelle \n",
    "George\"\"\""
   ]
  },
  {
   "cell_type": "code",
   "execution_count": 14,
   "id": "f29a5d18-279c-461c-b460-bfd3ec9d993b",
   "metadata": {},
   "outputs": [
    {
     "name": "stdout",
     "output_type": "stream",
     "text": [
      "je m'appelle \n",
      "George\n"
     ]
    }
   ],
   "source": [
    "print(info)"
   ]
  },
  {
   "cell_type": "code",
   "execution_count": 24,
   "id": "53554812-5189-4701-a019-acc7ba09b7df",
   "metadata": {},
   "outputs": [],
   "source": [
    "info2 = \"je m'appelle \\\n",
    "George\""
   ]
  },
  {
   "cell_type": "code",
   "execution_count": 25,
   "id": "0be172ad-e13d-4dcc-9a9d-410a458ef53e",
   "metadata": {},
   "outputs": [
    {
     "data": {
      "text/plain": [
       "\"je m'appelle George\""
      ]
     },
     "execution_count": 25,
     "metadata": {},
     "output_type": "execute_result"
    }
   ],
   "source": [
    "info2"
   ]
  },
  {
   "cell_type": "code",
   "execution_count": 26,
   "id": "4e40da3a-49a5-4608-b5fa-f12dceacdf69",
   "metadata": {},
   "outputs": [],
   "source": [
    "info3 = 'je m\\'appelle \\\n",
    "George'"
   ]
  },
  {
   "cell_type": "code",
   "execution_count": 27,
   "id": "4105512b-6a7a-4c51-ba1f-43c675e0a1bf",
   "metadata": {},
   "outputs": [
    {
     "data": {
      "text/plain": [
       "\"je m'appelle George\""
      ]
     },
     "execution_count": 27,
     "metadata": {},
     "output_type": "execute_result"
    }
   ],
   "source": [
    "info3"
   ]
  },
  {
   "cell_type": "code",
   "execution_count": 40,
   "id": "f7dc6e58-0066-4d04-a810-6df6b42323eb",
   "metadata": {},
   "outputs": [],
   "source": [
    "var1 = \"maman\""
   ]
  },
  {
   "cell_type": "code",
   "execution_count": 29,
   "id": "27202430-cb53-4be4-b0c1-633854628c8f",
   "metadata": {},
   "outputs": [
    {
     "data": {
      "text/plain": [
       "'a'"
      ]
     },
     "execution_count": 29,
     "metadata": {},
     "output_type": "execute_result"
    }
   ],
   "source": [
    "var1[1]"
   ]
  },
  {
   "cell_type": "code",
   "execution_count": 32,
   "id": "ca56808e-eb49-4eaf-936d-5077556a1940",
   "metadata": {},
   "outputs": [
    {
     "data": {
      "text/plain": [
       "-1"
      ]
     },
     "execution_count": 111,
     "metadata": {},
     "output_type": "execute_result"
    }
   ],
   "source": [
    "var1.find(\"a\")\n",
    "# elle ramene -1 si elle n'a rien trouver"
   ]
  },
  {
   "cell_type": "code",
   "execution_count": 49,
   "id": "f74f2f64-c8af-44a7-b63d-2827e33f9403",
   "metadata": {},
   "outputs": [
    {
     "data": {
      "text/plain": [
       "'mam'"
      ]
     },
     "execution_count": 49,
     "metadata": {},
     "output_type": "execute_result"
    }
   ],
   "source": [
    "var1[:3]"
   ]
  },
  {
   "cell_type": "code",
   "execution_count": 41,
   "id": "581c21c9-81eb-4992-82e4-9a3c09c75af1",
   "metadata": {},
   "outputs": [
    {
     "data": {
      "text/plain": [
       "'man'"
      ]
     },
     "execution_count": 41,
     "metadata": {},
     "output_type": "execute_result"
    }
   ],
   "source": [
    "var1[2:]"
   ]
  },
  {
   "cell_type": "code",
   "execution_count": 51,
   "id": "38f32894-a37c-4447-8791-f49d057cfccb",
   "metadata": {},
   "outputs": [
    {
     "data": {
      "text/plain": [
       "'man'"
      ]
     },
     "execution_count": 51,
     "metadata": {},
     "output_type": "execute_result"
    }
   ],
   "source": [
    "var1[0]+var1[1]+var1[4]"
   ]
  },
  {
   "cell_type": "code",
   "execution_count": 52,
   "id": "b41cdcc4-2b69-4494-9832-d8be9bb6341f",
   "metadata": {},
   "outputs": [
    {
     "data": {
      "text/plain": [
       "'man'"
      ]
     },
     "execution_count": 52,
     "metadata": {},
     "output_type": "execute_result"
    }
   ],
   "source": [
    "var1[0]+var1[1]+var1[-1]"
   ]
  },
  {
   "cell_type": "code",
   "execution_count": 53,
   "id": "e611923b-cb4d-4f43-b353-1ebcb20ff311",
   "metadata": {},
   "outputs": [
    {
     "data": {
      "text/plain": [
       "['m', 'a', 'm', 'a', 'n']"
      ]
     },
     "execution_count": 53,
     "metadata": {},
     "output_type": "execute_result"
    }
   ],
   "source": [
    "list(var1)"
   ]
  },
  {
   "cell_type": "code",
   "execution_count": 55,
   "id": "9e3cad65-a2a0-4325-b8f5-304329d01d55",
   "metadata": {},
   "outputs": [
    {
     "data": {
      "text/plain": [
       "['maman']"
      ]
     },
     "execution_count": 55,
     "metadata": {},
     "output_type": "execute_result"
    }
   ],
   "source": [
    "var1.split(\" \")"
   ]
  },
  {
   "cell_type": "code",
   "execution_count": 60,
   "id": "477e0012-a6ab-4d2b-b1bd-ac9f80beef94",
   "metadata": {},
   "outputs": [
    {
     "data": {
      "text/plain": [
       "['m', 'm', 'n']"
      ]
     },
     "execution_count": 60,
     "metadata": {},
     "output_type": "execute_result"
    }
   ],
   "source": [
    "var2= var1.split(\"a\")\n",
    "var2"
   ]
  },
  {
   "cell_type": "code",
   "execution_count": 58,
   "id": "7896345c-140b-422e-81b2-f0222d7588e8",
   "metadata": {},
   "outputs": [
    {
     "data": {
      "text/plain": [
       "['maman']"
      ]
     },
     "execution_count": 58,
     "metadata": {},
     "output_type": "execute_result"
    }
   ],
   "source": [
    "var1.split(\"#\")"
   ]
  },
  {
   "cell_type": "code",
   "execution_count": 65,
   "id": "48071dcd-d43c-4544-a83f-b76f123a80a5",
   "metadata": {},
   "outputs": [
    {
     "data": {
      "text/plain": [
       "'m m n'"
      ]
     },
     "execution_count": 65,
     "metadata": {},
     "output_type": "execute_result"
    }
   ],
   "source": [
    "\" \".join(var2)"
   ]
  },
  {
   "cell_type": "code",
   "execution_count": 66,
   "id": "8a1d94f9-7092-4baa-8080-d284a0bc52bb",
   "metadata": {},
   "outputs": [
    {
     "data": {
      "text/plain": [
       "'maman'"
      ]
     },
     "execution_count": 66,
     "metadata": {},
     "output_type": "execute_result"
    }
   ],
   "source": [
    "\"a\".join(var2)"
   ]
  },
  {
   "cell_type": "code",
   "execution_count": 67,
   "id": "ab0944c0-e5d4-49a6-9c06-fe1dabece02e",
   "metadata": {},
   "outputs": [
    {
     "data": {
      "text/plain": [
       "['maman']"
      ]
     },
     "execution_count": 67,
     "metadata": {},
     "output_type": "execute_result"
    }
   ],
   "source": [
    "var1.split()"
   ]
  },
  {
   "cell_type": "code",
   "execution_count": 71,
   "id": "e1e8d239-cedd-428e-b665-d259eab63326",
   "metadata": {},
   "outputs": [
    {
     "data": {
      "text/plain": [
       "['m', 'man']"
      ]
     },
     "execution_count": 71,
     "metadata": {},
     "output_type": "execute_result"
    }
   ],
   "source": [
    "var3 = var1.split(\"a\",1)\n",
    "var3"
   ]
  },
  {
   "cell_type": "code",
   "execution_count": 72,
   "id": "a80a9c67-78c0-4c6b-aae6-54aeb3b3dbf6",
   "metadata": {},
   "outputs": [
    {
     "data": {
      "text/plain": [
       "list"
      ]
     },
     "execution_count": 72,
     "metadata": {},
     "output_type": "execute_result"
    }
   ],
   "source": [
    "type(var3)"
   ]
  },
  {
   "cell_type": "code",
   "execution_count": 92,
   "id": "74871ad1-ea06-41e8-b0c3-0c383319af92",
   "metadata": {},
   "outputs": [
    {
     "name": "stdin",
     "output_type": "stream",
     "text": [
      "Entrer une lettre b\n"
     ]
    },
    {
     "name": "stdout",
     "output_type": "stream",
     "text": [
      "b n'existe dans maman\n"
     ]
    }
   ],
   "source": [
    "lettre = input(\"Entrer une lettre\")\n",
    "if lettre in \"maman\":\n",
    "    print(f\"{lettre} existe dans maman\")\n",
    "else:\n",
    "    print(f\"{lettre} n'existe dans maman\")"
   ]
  },
  {
   "cell_type": "code",
   "execution_count": 110,
   "id": "1a15c33b-91a8-4d91-8dbc-36b889336318",
   "metadata": {},
   "outputs": [
    {
     "data": {
      "text/plain": [
       "'mémé'"
      ]
     },
     "execution_count": 110,
     "metadata": {},
     "output_type": "execute_result"
    }
   ],
   "source": [
    "nom3 = \"marmaille\"\n",
    "nom4 = nom3.replace(\"a\", \"é\").replace(\"ille\",\"\").replace(\"r\",\"\")\n",
    "nom4"
   ]
  },
  {
   "cell_type": "code",
   "execution_count": 98,
   "id": "8f943860-1cad-4090-99a9-ef23c2538d30",
   "metadata": {},
   "outputs": [
    {
     "data": {
      "text/plain": [
       "'mém'"
      ]
     },
     "execution_count": 98,
     "metadata": {},
     "output_type": "execute_result"
    }
   ],
   "source": [
    "\"é\".join()"
   ]
  },
  {
   "cell_type": "code",
   "execution_count": 100,
   "id": "52843c45-9498-4dee-9157-0cd1c8c80b3d",
   "metadata": {},
   "outputs": [],
   "source": [
    "# \"ma\"[0]=\"t\"\n",
    "# TypeError: 'str' object does not support item assignment"
   ]
  },
  {
   "cell_type": "markdown",
   "id": "4c6b8df4-d03b-414f-8106-c646e5672389",
   "metadata": {},
   "source": [
    "Ecrivez un script qui permette de créer et de relire aisément un fichier texte, voure programme demandera d'abord à l'utilisateur d'entrer le nom du fichier. Ensuite ili proposera le choix, soit d'enregistrer de nouvelles lignes de texte, soit d'afficher le core du fichier.\n",
    "L'utilisateur devra pouvoir entrer ses lignes de texte successives en utilisant simple... touche <Enter> pour les séparer les unes des autres. Pour terminer les entrées, il lui suft d'entrer une ligne vide (c.a.d. d'utiliser la touche <Enter> seule).\n",
    "L'affichage du contenu devra montrer les lignes du fichier séparées les unes des autres de la manière la plus naturelle (les codes de fin de ligne ne doivent pas apparaître).\n",
    "Considérons que vous avez à votre disposition un fichier texte contenant des phrases de différentes longueurs. Ecrivez un script qui recherche et affiche la phrase la plus longue.\n",
    "** Ecrivez un script qui génère automatiquement un fichier texte contenant les tables de\n",
    "multiplication de 2 à 30 (chacune d'entre elles incluant 20 termes seulement).\n",
    "Ecrivez un script qui recopie un fichier texte en triplant tous les espaces entre les mote\n",
    "    \n",
    "[link](https://snakify.org/fr/lessons/strings_str/#:~:text=Par%20exemple%2C%20pour%20supprimer%20le,la%20tranche%20S%5B%3A%2D1%5D%20.)\n"
   ]
  },
  {
   "cell_type": "code",
   "execution_count": 101,
   "id": "3fdbc37f-a88b-4001-b3f4-bfc8dfc160d1",
   "metadata": {},
   "outputs": [
    {
     "name": "stdout",
     "output_type": "stream",
     "text": [
      "0\n",
      "1\n"
     ]
    }
   ],
   "source": [
    "for i in range(2):\n",
    "    print(i)"
   ]
  },
  {
   "cell_type": "code",
   "execution_count": 102,
   "id": "8d8b2a49-ea4c-4801-9b99-b4b3dc464d06",
   "metadata": {},
   "outputs": [
    {
     "data": {
      "text/plain": [
       "9"
      ]
     },
     "execution_count": 102,
     "metadata": {},
     "output_type": "execute_result"
    }
   ],
   "source": [
    "len(nom3)"
   ]
  },
  {
   "cell_type": "code",
   "execution_count": 103,
   "id": "0042bfd4-c31c-48c4-accf-47ef51ecf737",
   "metadata": {},
   "outputs": [
    {
     "name": "stdout",
     "output_type": "stream",
     "text": [
      "mémé\n"
     ]
    }
   ],
   "source": [
    "nom = str()\n",
    "nom3 = \"marmaille\"\n",
    "for i in range (len(nom3)):\n",
    "    if nom3[i] in \"ma\":\n",
    "        if nom3[i] == \"m\":\n",
    "            nom = nom + \"m\"\n",
    "        else:\n",
    "            nom = nom + \"é\"\n",
    "\n",
    "print(nom)\n",
    "            "
   ]
  },
  {
   "cell_type": "code",
   "execution_count": 106,
   "id": "14f277f2-5488-41a7-8c48-a9d2e6b380c1",
   "metadata": {},
   "outputs": [
    {
     "name": "stdout",
     "output_type": "stream",
     "text": [
      "mémé\n"
     ]
    }
   ],
   "source": [
    "nom2 = str()\n",
    "for i in nom3:\n",
    "    if i in \"ma\":\n",
    "        if i == \"m\":\n",
    "            nom2 = nom2 + \"m\"\n",
    "        else:\n",
    "            nom2 = nom2 + \"é\"\n",
    "print(nom2)"
   ]
  },
  {
   "cell_type": "code",
   "execution_count": 127,
   "id": "ea9b8fb4-42a8-4a55-9b8a-54196806182e",
   "metadata": {},
   "outputs": [
    {
     "data": {
      "text/plain": [
       "[0, -1, -2, -3, -4, -5, -6, -7, -8, -9]"
      ]
     },
     "execution_count": 127,
     "metadata": {},
     "output_type": "execute_result"
    }
   ],
   "source": [
    "list(range(0, -10, -1))"
   ]
  },
  {
   "cell_type": "code",
   "execution_count": 138,
   "id": "68ec7609-62ae-4f5a-9a63-f96dcb495d7f",
   "metadata": {},
   "outputs": [
    {
     "name": "stdout",
     "output_type": "stream",
     "text": [
      "0\n",
      "2\n",
      "4\n",
      "6\n",
      "8\n"
     ]
    }
   ],
   "source": [
    "for i in range(0, 10, 2):\n",
    "    print(i)"
   ]
  },
  {
   "cell_type": "code",
   "execution_count": 142,
   "id": "4fe804f9-81bc-49c0-887e-94b402388635",
   "metadata": {},
   "outputs": [
    {
     "data": {
      "text/plain": [
       "'bulgroz'"
      ]
     },
     "execution_count": 142,
     "metadata": {},
     "output_type": "execute_result"
    }
   ],
   "source": [
    "chaine = \"zorglub\"\n",
    "rchaine = str()\n",
    "for i in range(len(chaine) - 1, -1, -1):\n",
    "    rchaine = rchaine + chaine[i]\n",
    "rchaine"
   ]
  },
  {
   "cell_type": "code",
   "execution_count": 146,
   "id": "791eedcc-c097-4c21-99d6-f35d68c19ab4",
   "metadata": {},
   "outputs": [
    {
     "name": "stdout",
     "output_type": "stream",
     "text": [
      "6\n",
      "5\n",
      "4\n",
      "3\n",
      "2\n",
      "1\n"
     ]
    }
   ],
   "source": [
    "for i in range(len(chaine) - 1, 0, -1):\n",
    "    print(i)"
   ]
  },
  {
   "cell_type": "code",
   "execution_count": 147,
   "id": "7ae79d7b-bbed-4c5e-a8aa-d75c7faebd7f",
   "metadata": {},
   "outputs": [
    {
     "name": "stdout",
     "output_type": "stream",
     "text": [
      "zorglub\n",
      "bulgroz\n"
     ]
    }
   ],
   "source": [
    "chaine = \"zorglub\"\n",
    "print(chaine)\n",
    "print(chaine[::-1])"
   ]
  },
  {
   "cell_type": "code",
   "execution_count": 154,
   "id": "c49dc7a3-628f-489a-bfe0-39baffb3ca7e",
   "metadata": {},
   "outputs": [
    {
     "data": {
      "text/plain": [
       "'bulgroz'"
      ]
     },
     "execution_count": 154,
     "metadata": {},
     "output_type": "execute_result"
    }
   ],
   "source": [
    "chaine[::-1]"
   ]
  },
  {
   "cell_type": "code",
   "execution_count": 155,
   "id": "224d317d-9926-4b77-abac-d1ef1fa35d7f",
   "metadata": {},
   "outputs": [
    {
     "data": {
      "text/plain": [
       "'bulgroz'"
      ]
     },
     "execution_count": 155,
     "metadata": {},
     "output_type": "execute_result"
    }
   ],
   "source": [
    "chaine = \"zorglub\"\n",
    "rchaine = str()\n",
    "for i in chaine:\n",
    "    rchaine = i + rchaine\n",
    "rchaine"
   ]
  },
  {
   "cell_type": "code",
   "execution_count": 173,
   "id": "408ea51e-e8a6-4392-b04c-8aa8af2a8b8e",
   "metadata": {},
   "outputs": [
    {
     "name": "stdout",
     "output_type": "stream",
     "text": [
      "7 14 21 * 28 35 42 * 49 56 63 * 70 77 84 * 91 98 105 * 112 119 126 * 133 140 "
     ]
    }
   ],
   "source": [
    "for i in range(1,21):\n",
    "    result = 7*i\n",
    "    if result%3==0:\n",
    "        print(result, \"*\" ,end=\" \")\n",
    "    else:\n",
    "        print(result ,end=\" \")"
   ]
  },
  {
   "cell_type": "code",
   "execution_count": 178,
   "id": "08f60cf6-9cf6-4248-b37d-d711ab1fe3b4",
   "metadata": {},
   "outputs": [
    {
     "name": "stdout",
     "output_type": "stream",
     "text": [
      "\n",
      "*\n",
      "**\n",
      "***\n",
      "****\n",
      "*****\n",
      "******\n",
      "*******\n",
      "********\n",
      "*********\n",
      "**********\n",
      "***********\n",
      "************\n",
      "*************\n",
      "**************\n",
      "***************\n",
      "****************\n",
      "*****************\n",
      "******************\n",
      "*******************\n"
     ]
    }
   ],
   "source": [
    "for i in range(20):\n",
    "    print(i*\"*\")"
   ]
  },
  {
   "cell_type": "code",
   "execution_count": 186,
   "id": "599c52e5-2d5a-471e-ac07-d169dc7b847a",
   "metadata": {},
   "outputs": [
    {
     "name": "stdout",
     "output_type": "stream",
     "text": [
      "\n",
      "*\n",
      "**\n",
      "***\n",
      "****\n",
      "*****\n",
      "******\n",
      "*******\n",
      "********\n",
      "*********\n",
      "**********\n"
     ]
    }
   ],
   "source": [
    "etoile= str()\n",
    "while etoile != \"***********\":\n",
    "    print(etoile)\n",
    "    etoile+=\"*\""
   ]
  },
  {
   "cell_type": "code",
   "execution_count": 188,
   "id": "d7c1c233-c5e5-4a6b-b4b0-5aa7e02ddb8a",
   "metadata": {},
   "outputs": [
    {
     "name": "stdout",
     "output_type": "stream",
     "text": [
      "Jean-Michel 11\n",
      "Marc 4\n",
      "Vanessa 7\n",
      "Anne 4\n",
      "Maximilien 10\n",
      "AlexandreBenoît 15\n",
      "Louise 6\n"
     ]
    }
   ],
   "source": [
    "names = ['Jean-Michel', 'Marc', 'Vanessa', 'Anne', 'Maximilien', 'AlexandreBenoît', 'Louise']\n",
    "for i in names:\n",
    "    print(i, len(i))"
   ]
  },
  {
   "cell_type": "code",
   "execution_count": 196,
   "id": "341af66a-e98d-4ebc-8c26-2a51b4bc1cf1",
   "metadata": {},
   "outputs": [
    {
     "name": "stdout",
     "output_type": "stream",
     "text": [
      "2\n",
      "0\n",
      "1\n",
      "1\n",
      "1\n",
      "3\n",
      "1\n"
     ]
    }
   ],
   "source": [
    "names = ['Jean-Michel', 'Marc', 'Vanessa', 'Anne', 'Maximilien', 'AlexandreBenoît', 'Louise']\n",
    "for i in names:\n",
    "    print(i.count(\"e\"))"
   ]
  },
  {
   "cell_type": "code",
   "execution_count": null,
   "id": "b7b1faf0-57dd-4726-a5e1-625cee839f28",
   "metadata": {},
   "outputs": [],
   "source": [
    "Lnote = []\n",
    "note = 0\n",
    "while (note>=0):\n",
    "    note = int(input(\"Enter note : \"))\n",
    "    if note <0:\n",
    "        break\n",
    "    else:\n",
    "        Lnote.append(note)\n",
    "        moy = sum(Lnote)/len(Lnote)\n",
    "        print(f\"le nombre de notes entrées est {len(Lnote)}\")\n",
    "        print(f\"la plus forte note est {max(Lnote)}\")\n",
    "        print(f\"la plus petite note est {min(Lnote)}\")\n",
    "        print(f\"la moyenne est {moy}\")"
   ]
  },
  {
   "cell_type": "code",
   "execution_count": 214,
   "id": "05546857-28d7-4acc-88ae-77f9e5d11557",
   "metadata": {},
   "outputs": [
    {
     "name": "stdout",
     "output_type": "stream",
     "text": [
      "nocitna\n",
      "itutits\n",
      "ellenno\n",
      "tnem\n"
     ]
    }
   ],
   "source": [
    "chaine = \"anticonstitutionnellement\"\n",
    "Lchaine = str()\n",
    "\n",
    "for i in chaine:\n",
    "    Lchaine+=i\n",
    "    if len(Lchaine)==7:\n",
    "        print(Lchaine[::-1])\n",
    "        Lchaine = str()\n",
    "print(Lchaine[::-1])"
   ]
  },
  {
   "cell_type": "code",
   "execution_count": 107,
   "id": "224e05c3-f247-4a11-a100-a37651ccff14",
   "metadata": {},
   "outputs": [],
   "source": [
    "from  turtle  import  *\n",
    "up()\n",
    "goto(-100,100)\n",
    "down()\n",
    "color('blue')\n",
    "width(3)\n",
    "forward(100)\n",
    "left(90)\n",
    "forward(50)\n",
    "left(90)\n",
    "forward(100)\n",
    "left(90)\n",
    "forward(200)\n",
    "\n",
    "up()\n",
    "goto(100,150)\n",
    "down()\n",
    "color('red')\n",
    "width(3)\n",
    "left(45)\n",
    "forward(100)\n",
    "right(45)\n",
    "forward(130)\n",
    "backward(130)\n",
    "setheading(90)\n",
    "right(45)\n",
    "forward(100)\n",
    "pos()\n",
    "exitonclick()\n",
    "#done()"
   ]
  },
  {
   "cell_type": "code",
   "execution_count": null,
   "id": "d093390a-4da0-46ef-bf8b-b8b1f1d493c2",
   "metadata": {},
   "outputs": [],
   "source": []
  }
 ],
 "metadata": {
  "kernelspec": {
   "display_name": "Python 3 (ipykernel)",
   "language": "python",
   "name": "python3"
  },
  "language_info": {
   "codemirror_mode": {
    "name": "ipython",
    "version": 3
   },
   "file_extension": ".py",
   "mimetype": "text/x-python",
   "name": "python",
   "nbconvert_exporter": "python",
   "pygments_lexer": "ipython3",
   "version": "3.8.5"
  }
 },
 "nbformat": 4,
 "nbformat_minor": 5
}
