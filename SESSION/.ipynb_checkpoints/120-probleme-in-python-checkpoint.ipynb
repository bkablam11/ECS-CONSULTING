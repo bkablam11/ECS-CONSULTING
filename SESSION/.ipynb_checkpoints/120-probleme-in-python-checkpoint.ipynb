{
 "cells": [
  {
   "cell_type": "markdown",
   "id": "a3cf6c1d-9fe5-42cc-b081-a3a7855ff55c",
   "metadata": {},
   "source": [
    "# 120 PROBLEMS IN PYTHON"
   ]
  },
  {
   "cell_type": "markdown",
   "id": "1e2795ab-09ab-4628-a3e6-8344c101d4ce",
   "metadata": {
    "tags": []
   },
   "source": [
    "##### e1. Décrivez le plus clairement et le plus complètement possible ce qui se passe à chacune des trois lignes de l'exemple ci-dessous :\n",
    "largeur = 20 <br>\n",
    "hauteur = 5 * 9.3 <br>\n",
    "largeur * hauteur<br>\n",
    "930\n",
    "\n",
    "##### Reponses\n",
    "* 20 * 5 * 9.3 = 930\n",
    "* la variable \"largeur\" est déclarée et initialisée à 20\n",
    "* la variable \"hauteur\" est déclarée et initialisée à 5*93\n",
    "* On calcule ensuite le produit de \"largeur\" par \"hauteur\""
   ]
  },
  {
   "cell_type": "markdown",
   "id": "bd49a5ff-f860-49ef-9b83-9103dbc40dab",
   "metadata": {},
   "source": [
    "##### e2. Assignez les valeurs respectives 3, 5, 7 à trois variables a, b, c.\n",
    "Effectuez l'opération a - b/c. \n",
    "Le résultat est-il mathématiquement correct ?\n",
    "Si ce n'est pas le cas, comment devez-vous procéder pour qu'il le soit.\n",
    "\n",
    "##### Reponses\n",
    "* le résultat est-il mathématiquement correct car (c=7 qui est different de 0)"
   ]
  },
  {
   "cell_type": "markdown",
   "id": "692ea156-2004-4eb9-b7c5-62ff650bb231",
   "metadata": {},
   "source": [
    " ##### e3. Testez les lignes d'instructions suivantes. Décrivez dans votre cahier ce qui se passe :\n",
    "r, pi = 12, 3.14159\n",
    "s = pi, r**2 <br>\n",
    "print(s) <br>\n",
    "print( type(s), type(pi), type(r) ) <br>\n",
    "\n",
    "Quel est, à votre avis, l'utilité de la fonction type () ?\n",
    "(Note : les fonctions seront décrites en détail, plus loin dans ce cours)\n",
    "\n",
    "##### Reponses\n",
    "> r, pi = 12, 3.14159\n",
    "* On declare les variables \"r\" et \"pi\" et on les initialisent respectivement à 12 et à 3.14149\n",
    "> s = pi, r**2\n",
    "* On declare la variable \"s\" (un couple de deux valeurs) et on l'initialise avec les valeurs de pi = 3.14149 et r au carree r^2 = 12*12 = 144 \n",
    "> print(s)\n",
    "* On affiche la variable \"s\" (un couple de valeurs) i.e (3.14159,144)\n",
    "> print( type(s), type(pi), type(r) )\n",
    "* On affiche les types des variables s, pi, r qui sont respectivement tuple, float, int\n",
    "\n",
    "* la fonction \"type\" permet de connaître le type d'une variable passée en paramètre"
   ]
  },
  {
   "cell_type": "markdown",
   "id": "1aa9ada9-6f9d-453a-9acf-b88941c51c46",
   "metadata": {},
   "source": [
    "##### e4. Ecrivez un programme qui affiche les 20 premiers termes de la table de multiplication par 7.\n",
    "##### tips:\n",
    "* range represents a sequence of integers from start inclusive to **end exclusive**; exemple range (i,j) produces i, i+1, i+2,..., j-1\n",
    "* see more with help(function) ou with shit+tab. ex: help(range): for documentation about function"
   ]
  },
  {
   "cell_type": "code",
   "execution_count": 12,
   "id": "eb28e1c3-2f72-45fa-a942-434f42c17d8d",
   "metadata": {},
   "outputs": [
    {
     "name": "stdin",
     "output_type": "stream",
     "text": [
      "Entrer un nombre 7\n"
     ]
    },
    {
     "name": "stdout",
     "output_type": "stream",
     "text": [
      "******** table de multiplication de 7 : ********\n",
      "7 x 0 = 0 \n",
      "7 x 1 = 7 \n",
      "7 x 2 = 14 \n",
      "7 x 3 = 21 \n",
      "7 x 4 = 28 \n",
      "7 x 5 = 35 \n",
      "7 x 6 = 42 \n",
      "7 x 7 = 49 \n",
      "7 x 8 = 56 \n",
      "7 x 9 = 63 \n",
      "7 x 10 = 70 \n",
      "7 x 11 = 77 \n",
      "7 x 12 = 84 \n",
      "7 x 13 = 91 \n",
      "7 x 14 = 98 \n",
      "7 x 15 = 105 \n",
      "7 x 16 = 112 \n",
      "7 x 17 = 119 \n",
      "7 x 18 = 126 \n",
      "7 x 19 = 133 \n",
      "7 x 20 = 140 \n"
     ]
    }
   ],
   "source": [
    "# programm: 20 premiers termes de la table de multiplication de 7 ou autre nombre\n",
    "number = int(input(\"Entrer un nombre\"))\n",
    "print(f\"******** table de multiplication de {number} : ********\")\n",
    "for i in range (0, 21,1):\n",
    "    print(f\"{number} x {i} = {7*i} \")\n"
   ]
  },
  {
   "cell_type": "markdown",
   "id": "0954df54-e87d-4847-8808-9de75b02a1c1",
   "metadata": {
    "tags": []
   },
   "source": [
    "##### e5. Ecrivez un programme qui affiche une table de conversion de sommes d'argent exprimées en euros, en dollars canadiens. La progression des sommes de la table sera \"géométrique\", comme dans l'exemple ci-dessous :\n",
    "1 euro (s) = 1.65 dollar (s) <br>\n",
    "2 euro (s) = 3.30 dollar (s) <br>\n",
    "4 euro (s) = 6.60 dollar (s) <br>\n",
    "8 euro (s) = 13.20 dollar (s) <br>\n",
    "etc. (S'arrêter à 16384 euros)\n",
    "\n",
    "##### tips: \n",
    "* une suite est definie soit par une formule de recurrence soit par une formule explicite\n",
    "* si u est une suite arithmetique : u(n+1) = u(n) + r ou u(n) = u(0) + n*r\n",
    "* si u est une suite géometrique : u(n+1) = q * u(n) ou u(n) = u(0) + q**n\n",
    "\n",
    "[See More about suite](https://www.mathweb.fr/euclide/fiches-de-cours-de-mathematiques-classe-de-premiere-enseignement-de-specialite/)\n",
    "\n"
   ]
  },
  {
   "cell_type": "code",
   "execution_count": 20,
   "id": "dc5179ad-e5cf-4494-8682-3f998913fa5a",
   "metadata": {},
   "outputs": [
    {
     "name": "stdout",
     "output_type": "stream",
     "text": [
      "u1 = 1.65\n",
      "u2 = 3.3\n",
      "u3 = 6.6\n",
      "u4 = 13.2\n",
      "u5 = 26.4\n",
      "u6 = 52.8\n",
      "u7 = 105.6\n",
      "u8 = 211.2\n",
      "u9 = 422.4\n",
      "u10 = 844.8\n",
      "u11 = 1689.6\n"
     ]
    }
   ],
   "source": [
    "# program: conversion euro to dollard\n",
    "#### U1 = 1.65\n",
    "#### U(n+1) = 2*U(n) avec q = U(n+1)/U(n) = 3.30 / 1.65 = 2\n",
    "#### n va de 1 à 16384\n",
    "#### Methode directe avec la formule de recurrence\n",
    "u = 1.65  # first term\n",
    "q = 2 # raison\n",
    "n = 1 # indice\n",
    "# s = 0 # pour caluler la somme de la suite\n",
    "count = 0\n",
    "print(f\"u{n} = {u}\")\n",
    "for n in range(1, 16384):\n",
    "    u = q * u\n",
    "    # s = s + u\n",
    "    if count < 10:\n",
    "        print(f\"u{n+1} = {u}\")\n",
    "        count+=1\n",
    "\n",
    "# print(f\"la somme est {s}\")\n"
   ]
  },
  {
   "cell_type": "code",
   "execution_count": 21,
   "id": "edc4de2e-be7a-4a62-be33-3566cff09b70",
   "metadata": {},
   "outputs": [
    {
     "data": {
      "text/plain": [
       "[3,\n",
       " 8,\n",
       " 13,\n",
       " 18,\n",
       " 23,\n",
       " 28,\n",
       " 33,\n",
       " 38,\n",
       " 43,\n",
       " 48,\n",
       " 53,\n",
       " 58,\n",
       " 63,\n",
       " 68,\n",
       " 73,\n",
       " 78,\n",
       " 83,\n",
       " 88,\n",
       " 93,\n",
       " 98,\n",
       " 103]"
      ]
     },
     "execution_count": 22,
     "metadata": {},
     "output_type": "execute_result"
    }
   ],
   "source": [
    "#### Methode avec liste suite (geometrique et arithmetique)\n",
    "def suite (firstTerm, raison, ind_final):\n",
    "    u = [firstTerm]\n",
    "    for n in range(ind_final):\n",
    "        firstTerm = firstTerm * raison # geometrique suite\n",
    "        # firstTerm = firstTerm + raison # arithmetique suite \n",
    "        u.append(firstTerm)\n",
    "    return u\n",
    "\n",
    "##### Exemple\n",
    "# u0 = premier terme = 3\n",
    "# q = raison = 5\n",
    "# ind_final = 20 = nombre de terme = 20 terme = u0, u1, u2, ..., u19\n",
    "suite(3, 5, 20)"
   ]
  },
  {
   "cell_type": "markdown",
   "id": "9e1bbfc3-e8c3-4eb2-8629-2951c4d5c02f",
   "metadata": {},
   "source": [
    "##### e6. Ecrivez un programme qui affiche une suite de 12 nombres dont chaque terme soit égal au triple du terme précédent.\n",
    "#### tips:\n",
    "* Quelle est la valeur du premier terme ??"
   ]
  },
  {
   "cell_type": "code",
   "execution_count": 28,
   "id": "6c19a3fa-77c5-453b-abe5-29559a52fb64",
   "metadata": {},
   "outputs": [
    {
     "name": "stdout",
     "output_type": "stream",
     "text": [
      "u0 = 1\n",
      "u1 = 3\n",
      "u2 = 9\n",
      "u3 = 27\n",
      "u4 = 81\n",
      "u5 = 243\n",
      "u6 = 729\n",
      "u7 = 2187\n",
      "u8 = 6561\n",
      "u9 = 19683\n",
      "u10 = 59049\n",
      "u11 = 177147\n",
      "la somme vaut 265719\n"
     ]
    }
   ],
   "source": [
    "# program: triple suite\n",
    "u, q, n, s = 1,3,0,0 # u0 = 1\n",
    "print(f\"u{n} = {u}\")\n",
    "for n in range (11):\n",
    "    u = q * u # u = u*(q**(n+1))\n",
    "    s = s + u \n",
    "    print(f\"u{n+1} = {u}\")\n",
    "\n",
    "print(f\"la somme vaut {s}\")\n"
   ]
  },
  {
   "cell_type": "markdown",
   "id": "d1e826bb-da4d-45f0-9676-9b515b9c69b1",
   "metadata": {},
   "source": [
    "##### e7. Ecrivez un programme qui calcule le volume d'un parallélépipède rectangle dont sont fournis au départ la largeur, la hauteur et la profondeur (longueur).\n",
    "##### tips: V = l * L * h"
   ]
  },
  {
   "cell_type": "code",
   "execution_count": 29,
   "id": "3925958d-e76a-42b6-888a-058805b8b28c",
   "metadata": {},
   "outputs": [
    {
     "name": "stdin",
     "output_type": "stream",
     "text": [
      "Entrer la largeur 4\n",
      "Entrer la hauteur 6\n",
      "Entrer la profondeur 7\n"
     ]
    },
    {
     "name": "stdout",
     "output_type": "stream",
     "text": [
      "le volume est 168\n"
     ]
    }
   ],
   "source": [
    "l = int(input(\"Entrer la largeur\"))\n",
    "h = int(input(\"Entrer la hauteur\"))\n",
    "P = int(input(\"Entrer la profondeur\"))\n",
    "print(f\"le volume est {l*h*P}\")"
   ]
  },
  {
   "cell_type": "markdown",
   "id": "249f7eba-e7e3-4157-a362-b72ac9fdbf65",
   "metadata": {},
   "source": [
    "##### e8. Ecrivez un programme qui convertisse un nombre entier de secondes fourni au départ, en un nombre d'années, de mois, de jours, de minutes et de secondes.\n",
    "##### tips:\n",
    "* (Utilisez l'opérateur modulo : % et l'operateur pour la division entiere : //).\n",
    "* 1 annee = 31536000 s\n",
    "* 1 mois = 2628002.88 s\n",
    "* 1 jour = 86400 s\n",
    "* 1 heure = 3600 s\n",
    "* 1 min = 60 s\n"
   ]
  },
  {
   "cell_type": "code",
   "execution_count": 33,
   "id": "3b2c563a-985e-48d1-916e-f22a2b2af650",
   "metadata": {},
   "outputs": [
    {
     "name": "stdin",
     "output_type": "stream",
     "text": [
      "Enter le nombre de second 123456789\n"
     ]
    },
    {
     "name": "stdout",
     "output_type": "stream",
     "text": [
      "123456789 donne : 3 annees, 10.0 mois, 29.0 jours, 17.0 heures, 32.0 min, 40.20000000111759 s\n"
     ]
    }
   ],
   "source": [
    "# program: seconde_to_year_to_month_to_day_to_hour_to_min\n",
    "N_sec_old = int(input(\"Enter le nombre de second\"))\n",
    "N_sec = N_sec_old\n",
    "year = N_sec // 31536000\n",
    "N_sec %= 31536000\n",
    "month = N_sec // 2628002.88\n",
    "N_sec %= 2628002.88\n",
    "day = N_sec // 86400\n",
    "N_sec %= 86400\n",
    "hour = N_sec // 3600\n",
    "N_sec %= 3600\n",
    "N_min = N_sec // 60\n",
    "N_sec %= 60\n",
    "print(f\"{N_sec_old} donne : {year} annees, {month} mois, {day} jours, {hour} heures, {N_min} min, {N_sec} s\")"
   ]
  },
  {
   "cell_type": "markdown",
   "id": "9d273724-d524-4d69-ba5c-b043fc5bff30",
   "metadata": {},
   "source": [
    "##### e9. Ecrivez un programme qui affiche les 20 premiers termes de la table de multiplication par 7,en signalant au passage (à l'aide d'un astérisque) ceux qui sont des multiples de 3. <br> Exemple : 7 14 21 * 28 35 42 * 49\n",
    "\n",
    "##### tips: si 7 * i est multiple de 3 afficher avec * <br> sinon afficher 7 * i"
   ]
  },
  {
   "cell_type": "code",
   "execution_count": 34,
   "id": "3d29246c-215b-42b7-8013-a6ee6126b900",
   "metadata": {},
   "outputs": [
    {
     "name": "stdout",
     "output_type": "stream",
     "text": [
      "7 14 21 * 28 35 42 * 49 56 63 * 70 77 84 * 91 98 105 * 112 119 126 * 133 140 "
     ]
    }
   ],
   "source": [
    "# afficher les multiples de 3 dans la table de 7\n",
    "for i in range(1,21):\n",
    "    result = 7*i\n",
    "    if result%3==0:\n",
    "        print(result, \"*\" ,end=\" \")\n",
    "    else:\n",
    "        print(result ,end=\" \")"
   ]
  },
  {
   "cell_type": "markdown",
   "id": "8a7f42c4-2bef-4baa-8175-c1b453f20994",
   "metadata": {},
   "source": [
    "##### e10. ** Ecrivez un programme qui calcule les 50 premiers termes de la table de multiplication par 13, mais n'affiche que ceux qui sont des multiples de 7.\n"
   ]
  },
  {
   "cell_type": "code",
   "execution_count": 35,
   "id": "813e680d-7749-436d-9472-8be54e037617",
   "metadata": {},
   "outputs": [
    {
     "name": "stdout",
     "output_type": "stream",
     "text": [
      "13 x 0 = 0\n",
      "13 x 7 = 91\n",
      "13 x 14 = 182\n",
      "13 x 21 = 273\n",
      "13 x 28 = 364\n",
      "13 x 35 = 455\n",
      "13 x 42 = 546\n",
      "13 x 49 = 637\n"
     ]
    }
   ],
   "source": [
    "# program: 50 termes de table de 13 et multiple de 7\n",
    "for i in range (50):\n",
    "    res = 13*i\n",
    "    if res%7==0:\n",
    "        print(f\"13 x {i} = {res}\")"
   ]
  },
  {
   "cell_type": "markdown",
   "id": "17c62528-0ff2-4a51-9d17-7dbd46f35407",
   "metadata": {},
   "source": [
    "##### e11. ** Ecrivez un programme qui affiche la suite de symboles suivante :\n",
    "\"* <br>\n",
    "\"** <br>\n",
    "\"*** <br>\n",
    "\"**** <br>\n",
    "\"***** <br>\n",
    "\"****** <br>\n",
    "\"******* <br>\n",
    "\"******** <br>"
   ]
  },
  {
   "cell_type": "code",
   "execution_count": 36,
   "id": "e283359d-ac10-4ce2-b626-61d78720d6ca",
   "metadata": {},
   "outputs": [
    {
     "name": "stdout",
     "output_type": "stream",
     "text": [
      "\n",
      "*\n",
      "**\n",
      "***\n",
      "****\n",
      "*****\n",
      "******\n",
      "*******\n",
      "********\n",
      "*********\n",
      "**********\n",
      "***********\n",
      "************\n",
      "*************\n",
      "**************\n",
      "***************\n",
      "****************\n",
      "*****************\n",
      "******************\n",
      "*******************\n"
     ]
    }
   ],
   "source": [
    "# afficher les asterisques\n",
    "for i in range(20):\n",
    "    print(i*\"*\")"
   ]
  },
  {
   "cell_type": "markdown",
   "id": "198e839b-c059-465c-94da-75e8bd804138",
   "metadata": {},
   "source": [
    "##### e12.* Écrivez un programme qui convertisse en radians un angle fourni au départ en degrés, minutes, secondes.\n",
    "\n",
    "##### tips: \n",
    "* pi/rad = 180/deg\n",
    "* attention aux degres decimaux\n",
    "* 1° = 60 min = 3600 s\n",
    "* 60.0359° = 60°+0.0359° = 60° + 2.154 min = 60° + 2 min + 0.154 min = 60° + 2 min + 9.24 sec"
   ]
  },
  {
   "cell_type": "code",
   "execution_count": 49,
   "id": "e32f6c11-d5f5-4700-b4fc-758340cec52c",
   "metadata": {},
   "outputs": [
    {
     "name": "stdin",
     "output_type": "stream",
     "text": [
      "Entrer l'angle en radian 1.1234\n"
     ]
    },
    {
     "name": "stdout",
     "output_type": "stream",
     "text": [
      "1.1234 rad donne 64 °, 21 min, 57 sec\n",
      "Votre valeur entree est : 1.1233957174565834 radian\n"
     ]
    }
   ],
   "source": [
    "# program: conversion radian en degre minute et seconde\n",
    "pi = 3.141592653589793238462643383279502884197169399375105820974944592307816406286\n",
    "r = float(input(\"Entrer l'angle en radian\"))\n",
    "dd = (r*180)/pi\n",
    "d = int(dd)\n",
    "md = (dd-d)*60\n",
    "m = int(md)\n",
    "sd = (md -m)*60\n",
    "s = int(sd)\n",
    "print(f\"{r} rad donne {d} °, {m} min, {s} sec\")\n",
    "## verification\n",
    "print(f\"Votre valeur entree est : {(d+m/60.0 + s/3600.0)/180*pi} radian\")"
   ]
  },
  {
   "cell_type": "markdown",
   "id": "53edcc33-82be-4be5-8dbc-446337491f91",
   "metadata": {},
   "source": [
    "##### e13.* Écrivez un programme qui convertisse en degrés, minutes, secondes un angle fourni au départ en radians."
   ]
  },
  {
   "cell_type": "code",
   "execution_count": 50,
   "id": "8e52b6cc-d75a-4b91-9fe6-67c6637b8e4e",
   "metadata": {},
   "outputs": [
    {
     "name": "stdin",
     "output_type": "stream",
     "text": [
      "Entrer l'angle en degree 64\n",
      "Entrer minutes decimales 21\n",
      "Entrer secondes decimales 57\n"
     ]
    },
    {
     "name": "stdout",
     "output_type": "stream",
     "text": [
      "64 °, 21.0 min, 57.0 sec == 1.4828440546097041 radian\n"
     ]
    }
   ],
   "source": [
    "# program: conversion degree, minute, seconde en radian\n",
    "pi = 3.141592653589793238462643383279502884197169399375105820974944592307816406286\n",
    "d = int(input(\"Entrer l'angle en degree\"))\n",
    "md = float(input(\"Entrer minutes decimales\"))\n",
    "sd = float(input(\"Entrer secondes decimales\"))\n",
    "rd = (d*pi)/180\n",
    "r = rd + md/60.0 + sd/3600.0\n",
    "print(f\"{d} °, {md} min, {sd} sec == {r} radian\")"
   ]
  },
  {
   "cell_type": "markdown",
   "id": "fea66cb1-7c6f-49cf-aae8-c30b5a1a938e",
   "metadata": {},
   "source": [
    "##### e14.* Écrivez un programme qui convertisse en degrés, Celsius une température exprimée au départ en degrés Fahrenheit, ou l’inverse. Formule : TF = TC * 1.8 + 32.\n",
    "\n",
    "##### tips : \n",
    "* TC = (TF - 32)/1.8\n",
    "* Make two choices"
   ]
  },
  {
   "cell_type": "code",
   "execution_count": 55,
   "id": "234dea45-66d2-40a9-954d-24b3c5deb669",
   "metadata": {},
   "outputs": [
    {
     "name": "stdin",
     "output_type": "stream",
     "text": [
      "\n",
      "    Quelle conversion voulez-vous faire : \n",
      "    1. Celsius ---> Fahrenheit\n",
      "    2. Fahrenheit ---> Celsius\n",
      "    Tapez un entier entre 1 et 2\n",
      "    \n",
      "     2\n",
      "Entrer le degre fahrenheit 75\n"
     ]
    },
    {
     "name": "stdout",
     "output_type": "stream",
     "text": [
      "75.0 Fahrenheit donne 23.88888888888889 °\n"
     ]
    }
   ],
   "source": [
    "choice = int(input(\n",
    "    \"\"\"\n",
    "    Quelle conversion voulez-vous faire : \n",
    "    1. Celsius ---> Fahrenheit\n",
    "    2. Fahrenheit ---> Celsius\n",
    "    Tapez un entier entre 1 et 2\n",
    "    \n",
    "    \"\"\"\n",
    "                  ))\n",
    "if choice == 1:\n",
    "    celsius = float(input(\"Entrer le degre celsius\"))\n",
    "    print(f\"{celsius} ° donne {(celsius*1.8) + 32} Fahrenheit\")\n",
    "    \n",
    "if choice == 2:\n",
    "    fahrenheit = float(input(\"Entrer le degre fahrenheit\"))\n",
    "    print(f\"{fahrenheit} Fahrenheit donne {(fahrenheit - 32)/1.8} °\")\n",
    "    \n"
   ]
  },
  {
   "cell_type": "markdown",
   "id": "44f24277-efcc-480a-a0bf-357a46fb1428",
   "metadata": {},
   "source": [
    "##### e15.* Écrivez un programme qui calcule les intérêts accumulés chaque année pendant 20 ans, par capitalisation d'une somme de 100 euros placée en banque au taux fixe de 4,3 %\n",
    "\n",
    "##### tips: \n",
    "* u0 = 100\n",
    "* q = u(n+1)/u(n)= 104.3/100 = 1.043\n",
    "* u(n+1) = q * u(n)\n",
    "* n appartient à {0..19} donc 20 termes"
   ]
  },
  {
   "cell_type": "code",
   "execution_count": 57,
   "id": "47bf7ad9-4c40-42e9-b397-8703468984a6",
   "metadata": {},
   "outputs": [
    {
     "name": "stdout",
     "output_type": "stream",
     "text": [
      "les interets cumules sur 20 ans valent 3104.3359823853802\n"
     ]
    }
   ],
   "source": [
    "# program: capital bancaire 100 euro sur 20 ans avec taux fixe de 4.3%\n",
    "u, n, s, q = 100, 0, 0, 1.043\n",
    "# print(f\"u{n} = {u}\")\n",
    "for n in range(20):\n",
    "    u*=q\n",
    "    s+=u\n",
    "print(f\"les interets cumules sur 20 ans valent {s-100}\")"
   ]
  },
  {
   "cell_type": "markdown",
   "id": "dbaeb122-ff82-4409-b3f9-fa2250f7cbcb",
   "metadata": {},
   "source": [
    "##### e16.Une légende de l'Inde ancienne raconte que le jeu d'échecs a été inventé par un vieux sage,que son roi voulut remercier en lui affirmant qu'il lui accorderait n'importe quel cadeau en récompense. Le vieux sage demanda qu'on lui fournisse simplement un peu de riz pour ses vieux jours, et plus précisément un nombre de grains de riz suffisant pour que l'on puisse en déposer 1 seul sur la première case du jeu qu'il venait d'inventer, deux sur la suivante, quatre sur la troisième, et ainsi de suite jusqu'à la 64 case.<br> Écrivez un programme Python qui affiche le nombre de grains à déposer sur chacune des 64 cases du jeu. Calculez ce nombre de deux manières : <br>\n",
    "- Le nombre exact de grains (nombre entier)\n",
    "- Le nombre de grains en notation scientifique (nombre réel)\n",
    "\n",
    "##### tips:\n",
    "* q = 2\n",
    "* u0 = 1\n",
    "* s0 = 1\n",
    "* u(n+1) = 2u(n)\n",
    "* n appartient à {0..63} donc 64 termes"
   ]
  },
  {
   "cell_type": "code",
   "execution_count": 58,
   "id": "fd208d5f-0e5f-45f0-82da-a17e6ff8ae75",
   "metadata": {},
   "outputs": [
    {
     "name": "stdout",
     "output_type": "stream",
     "text": [
      "Il y a exactement 36893488147419103231 grains de riz\n",
      "En notation scientifique, il y a exactement 3.69E+19 grains de riz\n"
     ]
    }
   ],
   "source": [
    "# program: Echequier de Sissa\n",
    "u, n, s, q = 1, 0, 1, 2\n",
    "# print(f\"u{n} = {u}\")\n",
    "for n in range(64):\n",
    "    u*=q\n",
    "    s+=u\n",
    "print(f\"Il y a exactement {s} grains de riz\")\n",
    "print(\"En notation scientifique, il y a exactement {:.2E} grains de riz\".format(s))"
   ]
  },
  {
   "cell_type": "markdown",
   "id": "2d03addd-23bb-43f7-ae01-5165932d6461",
   "metadata": {},
   "source": [
    " ##### e17.*Écrivez un script qui détermine si une chaîne contient ou non le caractère \"e\".\n",
    " ##### tips:\n",
    " * use methode find for searchinf characters\n",
    " * La méthode .find(), quant à elle, recherche une chaîne de caractères passée en argument :\n",
    " * [15 Tips and Tricks for Jupyter Notebook ](https://towardsdatascience.com/15-tips-and-tricks-for-jupyter-notebook-that-will-ease-your-coding-experience-e469207ac95c)\n",
    "  * [15 Tips and Tricks for Jupyter Lab ](https://towardsdatascience.com/getting-the-most-out-of-jupyter-lab-9b3198f88f2d)\n",
    " \n",
    " \n",
    " "
   ]
  },
  {
   "cell_type": "code",
   "execution_count": 36,
   "id": "89861601-a885-42aa-a839-e5c6f8255b54",
   "metadata": {},
   "outputs": [
    {
     "name": "stdin",
     "output_type": "stream",
     "text": [
      "Enter le caractere bonjour\n",
      "Entrer le caractere recherche e\n"
     ]
    },
    {
     "name": "stdout",
     "output_type": "stream",
     "text": [
      "bonjour ne contient pas de e \n"
     ]
    }
   ],
   "source": [
    "# chaine contenant ou nom le caractere ''e'' # cherchons \"e\"\n",
    "chaine = input(\"Enter le caractere\")\n",
    "# ch = chaine.find(\"e\")    \n",
    "# if ch == -1:\n",
    "#     print(f\"{chaine} ne contient pas de 'e' \")\n",
    "# else: \n",
    "#     print(f\"{chaine} contient au moins un 'e' \")\n",
    "ch = input(\"Entrer le caractere recherche\")\n",
    "c = 0\n",
    "for i in chaine:\n",
    "    if i == ch:\n",
    "        c+=1\n",
    "if c>=1:\n",
    "    print(f\"{chaine} contient {ch} \")\n",
    "else:\n",
    "    print(f\"{chaine} ne contient pas de {ch} \")"
   ]
  },
  {
   "cell_type": "markdown",
   "id": "e9a50bf7-fb1c-4213-a1f3-00748746b3e6",
   "metadata": {},
   "source": [
    "##### e18. Écrivez un script qui compte le nombre d'occurrences du caractère \"e\" dans une chaîne."
   ]
  },
  {
   "cell_type": "code",
   "execution_count": 33,
   "id": "8da14192-06ee-4173-ac02-227e07a965a7",
   "metadata": {},
   "outputs": [
    {
     "name": "stdin",
     "output_type": "stream",
     "text": [
      "Enter la chaine de caractere bonjour le monde je suis ella\n",
      "Entrer le caractere recherche e\n"
     ]
    },
    {
     "name": "stdout",
     "output_type": "stream",
     "text": [
      "bonjour le monde je suis ella contient 4 fois e  \n"
     ]
    }
   ],
   "source": [
    "# nombre d'occurence de \"e\" dans une chaine\n",
    "chaine = input(\"Enter la chaine de caractere\")\n",
    "# ch = chaine.count(\"e\")\n",
    "ch = input(\"Entrer le caractere recherche\")\n",
    "c = 0\n",
    "for i in chaine:\n",
    "    if i == ch:\n",
    "        c+=1\n",
    "print(f\"{chaine} contient {c} fois {ch}  \")"
   ]
  },
  {
   "cell_type": "markdown",
   "id": "d88e41e0-cfaa-42c9-8406-360ee7bc1edd",
   "metadata": {},
   "source": [
    " ##### e 19.* Écrivez un script qui recopie une chaîne (dans une nouvelle variable), en insérant des astérisques entre les caractères. <br> Ainsi par exemple, “gaston” devra devenir \" g * a * s * t * o * n \"\n",
    " \n",
    " ##### tips;\n",
    " * use split and join"
   ]
  },
  {
   "cell_type": "code",
   "execution_count": 28,
   "id": "c2fb092c-f7b6-416a-b69d-a0ada696cddc",
   "metadata": {},
   "outputs": [
    {
     "name": "stdin",
     "output_type": "stream",
     "text": [
      "Enter le caractere gaston\n"
     ]
    },
    {
     "name": "stdout",
     "output_type": "stream",
     "text": [
      "g*a*s*t*o*n*"
     ]
    }
   ],
   "source": [
    "# recopier chaine espace avec asterisque\n",
    "chaine = input(\"Enter le caractere\")\n",
    "#Rchaine = [*chaine] # lst = [letter for l in string]\n",
    "#print(chaine[-1])\n",
    "for i in range(len(chaine)):\n",
    "    print(chaine[i], end=\"*\")"
   ]
  },
  {
   "cell_type": "markdown",
   "id": "1b0f7bd1-e6d1-4155-8154-1b6ba3c57f02",
   "metadata": {},
   "source": [
    "##### e 20. * Écrivez un script qui recopie une chaîne (dans une nouvelle variable) en l'inversant. <br> Ainsi par exemple, “zorglub” deviendra “bulgroz”.\n",
    "\n",
    "##### tips :\n",
    "* use [::-1]"
   ]
  },
  {
   "cell_type": "code",
   "execution_count": 7,
   "id": "e2b22711-a659-4134-9a3f-470ba0b429f5",
   "metadata": {},
   "outputs": [
    {
     "name": "stdin",
     "output_type": "stream",
     "text": [
      "Enter le caractere gaston\n"
     ]
    },
    {
     "name": "stdout",
     "output_type": "stream",
     "text": [
      "notsag\n"
     ]
    }
   ],
   "source": [
    "chaine = input(\"Enter le caractere\")\n",
    "#Rchaine = chaine[::-1]\n",
    "Rchaine = str()\n",
    "for i in chaine:\n",
    "    Rchaine = i + Rchaine\n",
    "print(Rchaine)"
   ]
  },
  {
   "cell_type": "markdown",
   "id": "4b8da081-778e-49fe-a00c-69eca554d3c9",
   "metadata": {},
   "source": [
    " ##### e 21. * En partant de l'exercice précédent, écrivez un script qui détermine si une chaîne de caractères donnée est un palindrome (c.à.d. une chaîne qui peut se lire indifféremment dans les deux sens), comme par exemple \"radar\" ou \"sos\"."
   ]
  },
  {
   "cell_type": "code",
   "execution_count": 97,
   "id": "a9bb2dc8-f38d-4bd9-95be-404cf59ca03f",
   "metadata": {},
   "outputs": [
    {
     "name": "stdin",
     "output_type": "stream",
     "text": [
      "Enter le caractere radar\n"
     ]
    },
    {
     "name": "stdout",
     "output_type": "stream",
     "text": [
      "radar est un palendrome\n"
     ]
    }
   ],
   "source": [
    "chaine = input(\"Enter le caractere\")\n",
    "Rchaine = chaine[::-1]\n",
    "#print(Rchaine)\n",
    "if Rchaine == chaine:\n",
    "    print(f\"{chaine} est un palendrome\")\n",
    "else:\n",
    "    print(f\"{chaine} n'est pas un palendrome\")"
   ]
  },
  {
   "cell_type": "markdown",
   "id": "da7051ed-314a-492b-80bf-e471cb0da2fc",
   "metadata": {},
   "source": [
    " ##### e22.* Soient les listes suivantes : <br>\n",
    " * t1 = [31,28,31,30,31,30,31,31,30,31,30,31] \n",
    " * t2 = [‘Janvier’,’Février’,’Mars’,’Avril’,’Mai’,’Juin’,’Juillet’,’Août’,’Septembre’,’Octobre’,’Novembre’,’Décembre’]\n",
    "\n",
    "Écrivez un petit programme qui crée une nouvelle liste t3. <br> Celle-ci devra contenir tous les\n",
    "éléments des deux listes en les alternant, de telle manière que chaque nom de mois soit suivi\n",
    "du nombre de jours correspondant : <br>[‘Janvier’, 31,’Février’, 28,’Mars’,31, etc.…]"
   ]
  },
  {
   "cell_type": "code",
   "execution_count": 8,
   "id": "c0cc5fe0-50ec-4bba-bb49-b011337332e3",
   "metadata": {},
   "outputs": [
    {
     "name": "stdout",
     "output_type": "stream",
     "text": [
      "['Janvier', 31, 'Février', 28, 'Mars', 31, 'Avril', 30, 'Mai', 31, 'Juin', 30, 'Juillet', 31, 'Août', 31, 'Septembre', 30, 'Octobre', 31, 'Novembre', 30, 'Décembre', 31]\n"
     ]
    }
   ],
   "source": [
    "# program: concatenation de liste position a position\n",
    "t1 = [31,28,31,30,31,30,31,31,30,31,30,31]\n",
    "t2 = ['Janvier','Février','Mars','Avril','Mai','Juin','Juillet','Août','Septembre','Octobre','Novembre','Décembre']\n",
    "t3 = []\n",
    "for i in range(12):\n",
    "    #t = t2[i] + \" \" +  str(t1[i]) \n",
    "    t3.append(t2[i])\n",
    "    t3.append(t1[i])\n",
    "print(t3)"
   ]
  },
  {
   "cell_type": "markdown",
   "id": "836c84a6-8d50-4f97-baf4-a92a815fa547",
   "metadata": {},
   "source": [
    "##### e23.* Écrivez un programme qui affiche \"proprement\" tous les éléments d'une liste. Si on l'appliquait par exemple à la liste t2 de l'exercice ci-dessus, on devrait obtenir : <br> Janvier Février Mars Avril Mai Juin Juillet Août Septembre Octobre Novembre Décembre"
   ]
  },
  {
   "cell_type": "code",
   "execution_count": 37,
   "id": "30c5f649-b5ea-469a-b3ed-0759d8cd44b8",
   "metadata": {},
   "outputs": [
    {
     "name": "stdout",
     "output_type": "stream",
     "text": [
      "Janvier Février Mars Avril Mai Juin Juillet Août Septembre Octobre Novembre Décembre "
     ]
    }
   ],
   "source": [
    "# Afficher proprement une liste\n",
    "t2 = ['Janvier','Février','Mars','Avril','Mai','Juin','Juillet','Août','Septembre','Octobre','Novembre','Décembre']\n",
    "for i in range(len(t2)):\n",
    "    print(t2[i], end=\" \")"
   ]
  },
  {
   "cell_type": "markdown",
   "id": "269a7323-c524-438d-ab1b-649ab54e3114",
   "metadata": {},
   "source": [
    "##### e24. * Écrivez un programme qui recherche le plus grand élément présent dans une liste donnée. Par exemple, si on l'appliquait à la liste [32, 5, 12, 8, 3, 75, 2, 15], ce programme devrait afficher : <br> Le plus grand élément de cette liste a la valeur 75.\n"
   ]
  },
  {
   "cell_type": "code",
   "execution_count": 41,
   "id": "f8b6308c-8bad-4fc1-a162-f85d860a1bdd",
   "metadata": {},
   "outputs": [
    {
     "name": "stdout",
     "output_type": "stream",
     "text": [
      "Le plus grand élément de cette liste [32, 5, 12, 8, 3, 75, 2, 15] a la valeur 75\n",
      "Le plus petit élément de cette liste [32, 5, 12, 8, 3, 75, 2, 15] a la valeur 2\n"
     ]
    }
   ],
   "source": [
    "# Min - Max liste\n",
    "t = [32, 5, 12, 8, 3, 75, 2, 15]\n",
    "t_max = t[0]\n",
    "t_min = t[0]\n",
    "for i in range(1, len(t)):\n",
    "    if t[i] >= t_max:\n",
    "        t_max = t[i]\n",
    "print(f\"Le plus grand élément de cette liste {t} a la valeur {t_max}\")\n",
    "\n",
    "for i in range(1, len(t)):\n",
    "    if t[i] <= t_min:\n",
    "        t_min = t[i]\n",
    "print(f\"Le plus petit élément de cette liste {t} a la valeur {t_min}\")"
   ]
  },
  {
   "cell_type": "markdown",
   "id": "37ed7d16-b3a4-4e3a-94bb-b9d57fe8e480",
   "metadata": {},
   "source": [
    "##### e25. * Écrivez un programme qui analyse un par un tous les éléments d'une liste de nombres (par exemple celle de l'exercice précédent) pour générer deux nouvelles listes. L'une contiendra seulement les nombres pairs de la liste initiale, et l'autre les nombres impairs. Par exemple, si la liste initiale est celle de l'exercice précédent, le programme devra construire une liste paire qui contiendra [32, 12, 8, 2], et une liste impaire qui contiendra [5, 3, 75, 15]. Astuce : pensez à utiliser l'opérateur modulo (%) déjà cité précédemment."
   ]
  },
  {
   "cell_type": "code",
   "execution_count": 44,
   "id": "939406dc-b87a-4e21-b5e3-496a2bb01e71",
   "metadata": {},
   "outputs": [
    {
     "name": "stdout",
     "output_type": "stream",
     "text": [
      "De [32, 5, 12, 8, 3, 75, 2, 15] voila deux listes :  liste paire : [32, 12, 8, 2] , liste impaire [5, 3, 75, 15]\n"
     ]
    }
   ],
   "source": [
    "# liste paire et liste impaire\n",
    "t1 = [32, 5, 12, 8, 3, 75, 2, 15]\n",
    "t2, t3 = [], []\n",
    "for i in range(len(t1)):\n",
    "    if t1[i]%2 == 0:\n",
    "        t2.append(t1[i])\n",
    "    else:\n",
    "        t3.append(t1[i])\n",
    "print(f\"De {t1} voila deux listes :  liste paire : {t2} , liste impaire {t3}\")"
   ]
  },
  {
   "cell_type": "markdown",
   "id": "bc4212a1-cbb8-41ca-9854-91f8e9c65d38",
   "metadata": {},
   "source": [
    "##### e 26.* Écrivez un programme qui analyse un par un tous les éléments d'une liste de mots (par exemple : <br>['Jean', 'Maximilien', 'Brigitte', 'Sonia', 'Jean-Pierre', 'Sandra'] pour générer deux nouvelles listes. <br> L'une contiendra les mots comportant moins de 6 caractères, l'autre les mots comportant 6 caractères ou davantage."
   ]
  },
  {
   "cell_type": "code",
   "execution_count": 47,
   "id": "a676012e-cb99-4845-bc3a-b912e2db4843",
   "metadata": {},
   "outputs": [
    {
     "name": "stdout",
     "output_type": "stream",
     "text": [
      "['Jean', 'Maximilien', 'Brigitte', 'Sonia', 'Jean-Pierre', 'Sandra'] divise en mots moins de 6 caractere ['Jean', 'Sonia'] et en mots de plus de 6 caractere ['Maximilien', 'Brigitte', 'Jean-Pierre', 'Sandra'] \n"
     ]
    }
   ],
   "source": [
    "t = ['Jean', 'Maximilien', 'Brigitte', 'Sonia', 'Jean-Pierre', 'Sandra']\n",
    "t1, t2, t3 = [], [], []\n",
    "for i in range(len(t)):\n",
    "    t1.append(t[i])\n",
    "    if len(t1[i]) < 6l :\n",
    "        t2.append(t1[i])\n",
    "    else:\n",
    "        t3.append(t1[i])\n",
    "print(f\"{t} divise en mots moins de 6 caractere {t2} et en mots de plus de 6 caractere {t3} \")"
   ]
  },
  {
   "cell_type": "markdown",
   "id": "98a49d96-8ec7-4880-92e2-18fee23d0557",
   "metadata": {},
   "source": [
    "#### e26.1 - Ecrivez un algorithme qui permet de calculer la racine carree d'un nombre \n",
    "#### tips:\n",
    "* pour u0 > 0 , u0 = 1\n",
    "* u(n+1)=1/2*(u+a/u) ou a est le nombre sous le radical\n",
    "* pour n assez grand, u(n) ----> sqrt(a)\n",
    "* exemple: calculer sqrt(2)"
   ]
  },
  {
   "cell_type": "code",
   "execution_count": 57,
   "id": "37785a21-2899-4dc1-93e9-a37385e5fdfe",
   "metadata": {},
   "outputs": [
    {
     "name": "stdin",
     "output_type": "stream",
     "text": [
      "Entrer le nombre dont vous souhaiter calculer la racine carree 11\n",
      "Veuillez donner l'ordre de la racine carre 6\n"
     ]
    },
    {
     "name": "stdout",
     "output_type": "stream",
     "text": [
      "la racine carree de 11 est : \n",
      "3.316625\n"
     ]
    }
   ],
   "source": [
    "# Algorithme babylonien - ou Algorithme de la potence\n",
    "number = int(input(\"Entrer le nombre dont vous souhaiter calculer la racine carree\"))\n",
    "if number < 0:\n",
    "    print(f\"{number} est negatif, reessayer avec un nombre positif\")\n",
    "if number == 0 or number == 1:\n",
    "    print(f\"la racine carree de {number} est {number}f\")\n",
    "else:\n",
    "    order = int(input(\"Veuillez donner l'ordre de la racine carre\"))\n",
    "    u, Lsqrt, counter = 1, [], 0\n",
    "    for n in range(order):\n",
    "        u = (1/2)*(u+(number/u))\n",
    "        #print(u)\n",
    "    Lsqrt.append(u)\n",
    "    print(f\"la racine carree de {number} est : \")\n",
    "    for i in range(len(Lsqrt)):\n",
    "        print(f\"{Lsqrt[i]:.{order}f}\")\n",
    "    "
   ]
  },
  {
   "cell_type": "markdown",
   "id": "2959df99-983a-4cba-93aa-1dd811b8f745",
   "metadata": {},
   "source": [
    "##### e27.* Écrivez un programme qui convertisse en mètres par seconde et en km/h une vitesse fournie par l'utilisateur en miles/heure. \n",
    "\n",
    "##### tips:\n",
    "* (Rappel : 1 mile = 1609 mètres)\n",
    "* 1 m = 0.001 km\n",
    "* 1 h = 3600 s"
   ]
  },
  {
   "cell_type": "code",
   "execution_count": 61,
   "id": "da154e4d-1fb7-4fa4-9c22-02ea3b7703e4",
   "metadata": {},
   "outputs": [
    {
     "name": "stdin",
     "output_type": "stream",
     "text": [
      "Enter le nombre de miles 4\n",
      "Enter le nombre d'heures 1\n"
     ]
    },
    {
     "name": "stdout",
     "output_type": "stream",
     "text": [
      "votre vitesse est bien 4.0 miles / 1.0 heures\n",
      "4.0 miles / 1.0 heures vaut 6.436 km/ 1.0 heures et 6436.0 metres / 3600.0 seconde\n"
     ]
    }
   ],
   "source": [
    "# vitesse en miles/heure converti en m/s et km/h\n",
    "miles = float(input(\"Enter le nombre de miles\"))\n",
    "hours = float(input(\"Enter le nombre d'heures\"))\n",
    "print(f\"votre vitesse est bien {miles} miles / {hours} heures\")\n",
    "meter, sec = miles * 1609, hours * 3600\n",
    "kmeter = meter * 0.001\n",
    "print(f\"{miles} miles / {hours} heures vaut {kmeter} km/ {hours} heures et {meter} metres / {sec} seconde\")"
   ]
  },
  {
   "cell_type": "markdown",
   "id": "923822df-8cd8-45a9-8fee-6291f46c4b75",
   "metadata": {},
   "source": [
    "##### e 28.* Écrivez un programme qui calcule le périmètre et l’aire d’un triangle quelconque dont l'utilisateur fournit les 3 côtés.(Rappel : l’aire d’un triangle quelconque se calcule à l'aide de la formule : <br> S = RACINECARREE(d .(d-a).(d-b).(d-c)). <br> dans laquelle d désigne la longueur du demi-périmètre, et a, b, c celles des trois côtés.)"
   ]
  },
  {
   "cell_type": "code",
   "execution_count": 62,
   "id": "3f7728fd-d397-49c8-afb0-547455ad159c",
   "metadata": {},
   "outputs": [
    {
     "name": "stdin",
     "output_type": "stream",
     "text": [
      "Entrer le cote a 4\n",
      "Entrer le cote b 3\n",
      "Entrer le cote c 5\n"
     ]
    },
    {
     "name": "stdout",
     "output_type": "stream",
     "text": [
      "le triangle de cote a = 4.0, b = 3.0, c = 5.0 a pour perimetre 12.0 et pour aire 6.0\n"
     ]
    }
   ],
   "source": [
    "# Perimetre et aire de triangle\n",
    "a = float(input(\"Entrer le cote a\"))\n",
    "b = float(input(\"Entrer le cote b\"))\n",
    "c = float(input(\"Entrer le cote c\"))\n",
    "p = a + b + c\n",
    "d = p/2\n",
    "from math import sqrt\n",
    "s = sqrt(d*(d-a)*(d-b)*(d-c))\n",
    "print(f\"le triangle de cote a = {a}, b = {b}, c = {c} a pour perimetre {p} et pour aire {s}\")"
   ]
  },
  {
   "cell_type": "markdown",
   "id": "994d0804-a8cf-45f9-b68c-ca85ed409428",
   "metadata": {},
   "source": [
    "##### e29.* Écrivez un programme qui calcule la période d'un pendule simple de longueur donnée. La formule qui permet de calculer la période d'un pendule simple est T = 2.pi. RACINECARREE(l/g), l représentant la longueur du pendule et g la valeur de l'accélération de la pesanteur au lieu d'expérience."
   ]
  },
  {
   "cell_type": "code",
   "execution_count": 66,
   "id": "4d6fd754-d304-46dd-82ff-fc6563df5501",
   "metadata": {},
   "outputs": [
    {
     "name": "stdin",
     "output_type": "stream",
     "text": [
      "Enter la longueur du pendule 15\n",
      "Enter la vitesse de pesanteur 10\n"
     ]
    },
    {
     "name": "stdout",
     "output_type": "stream",
     "text": [
      "Un pendule de longueur 15.0 et de pesanteur 10.0 a un periode de 7.70 \n"
     ]
    }
   ],
   "source": [
    "# Calcul periode pendule\n",
    "l = float(input(\"Enter la longueur du pendule\"))\n",
    "g = float(input(\"Enter la vitesse de pesanteur\"))\n",
    "from math import pi, sqrt\n",
    "print(f\"Un pendule de longueur {l} et de pesanteur {g} a un periode de {2*pi*sqrt(l/g):.2f} \")"
   ]
  },
  {
   "cell_type": "markdown",
   "id": "b47607fb-1707-4b2d-9e10-bb9c8c647b02",
   "metadata": {},
   "source": [
    "##### e 30.* Écrivez un programme qui permette d'encoder des valeurs dans une liste. Ce programme devrait fonctionner en boucle, l'utilisateur étant invité à entrer sans cesse de nouvelles valeurs, jusqu'à ce qu'il décide de terminer en frappant |enter| en guise d'entrée. Le programme se terminerait alors par l'affichage de la liste. Exemple de fonctionnement : <br>\n",
    "Veuillez entrer une valeur : 25\n",
    "\n",
    "Veuillez entrer une valeur : 18\n",
    "\n",
    "Veuillez entrer une valeur : 6284\n",
    "\n",
    "Veuillez entrer une valeur :\n",
    "[25, 18, 6284]"
   ]
  },
  {
   "cell_type": "code",
   "execution_count": 4,
   "id": "e5159e75-9f02-4240-9366-873bd27b2de1",
   "metadata": {},
   "outputs": [
    {
     "name": "stdin",
     "output_type": "stream",
     "text": [
      "Veuillez entrer une valeur 4\n",
      "Veuillez entrer une valeur 5\n",
      "Veuillez entrer une valeur 6\n",
      "Veuillez entrer une valeur \n"
     ]
    },
    {
     "name": "stdout",
     "output_type": "stream",
     "text": [
      "Sortir du programme.\n",
      "['4', '5', '6']\n"
     ]
    }
   ],
   "source": [
    "# saisie de valeur clavier termine avec touch Entrer\n",
    "l_inputer = []\n",
    "while True:\n",
    "    a = input(\"Veuillez entrer une valeur\")\n",
    "    if not a:\n",
    "        print(\"Sortir du programme.\")\n",
    "        break;\n",
    "    else:\n",
    "        l_inputer.append(a)\n",
    "    \n",
    "print(l_inputer)"
   ]
  },
  {
   "cell_type": "markdown",
   "id": "2956bb26-59f9-49a3-968e-71056e31c5ad",
   "metadata": {},
   "source": [
    "##### e31.* Que fait le programme ci-dessous, dans les quatre cas où l'on aurait défini au préalable que la variable a vaut 1, 2, 3 ou 15 ?\n",
    "if a!= 2 : <br>\n",
    "    print(‘perdu’) <br>\n",
    "elif (a==3): <br>\n",
    "    print (‘un instant,s.v.p’) <br>\n",
    "else : <br>\n",
    "    print(‘gagné’) <br>\n",
    "\n",
    "##### Reponse\n",
    "a vaut 1, 2, 3 ou 15\n",
    "* pour a = 1 -----> le programme affiche \" perdu \"\n",
    "* pour a = 2 -----> le programme affiche \" gagné \"\n",
    "* pour a = 3 -----> le programme affiche \" perdu \"\n",
    "* pour a = 15 ----> le programme affiche \"perdu\""
   ]
  },
  {
   "cell_type": "code",
   "execution_count": 12,
   "id": "d7c86e6b-2944-44a9-b493-87205f950564",
   "metadata": {},
   "outputs": [
    {
     "name": "stdout",
     "output_type": "stream",
     "text": [
      "perdu\n"
     ]
    }
   ],
   "source": [
    "# testing \n",
    "# a = 1\n",
    "# a = 2\n",
    "# a = 3\n",
    "# a = 15\n",
    "if a!= 2 :\n",
    "    print('perdu')\n",
    "elif (a==3): \n",
    "    print ('un instant,s.v.p')\n",
    "else :\n",
    "    print('gagné')"
   ]
  },
  {
   "cell_type": "markdown",
   "id": "d01ae926-7684-43ab-b9b2-ea55eceb5b10",
   "metadata": {},
   "source": [
    "##### e32.* Que font ces programmes ?\n",
    "a) \n",
    "a = 5\n",
    "b = 2\n",
    "if (a==5) & (b<2): print (‘”&”\n",
    "signifie “e”; on peut\n",
    "aussi utiliser le mot\n",
    "“and” ’)\n",
    "\n",
    "b) a, b = 2, 4\n",
    "if (a==4) or (b!=4): print\n",
    "('gagné')\n",
    "elif (a==4) or (b==4): print 'presque\n",
    "gagné'\n",
    "\n",
    "c) a = 1\n",
    "if not a:\n",
    "print ('gagné')\n",
    " elif a:\n",
    "print ('perdu')\n",
    "Reprendre le programme c) avec a = 0 au lieu de a = 1. Que se passe-t-il ? Conclure !\n",
    "\n",
    "##### Reponse\n",
    "* a) Ce programme n'affiche rien car la condition n'est pas totalement respectée, a==5 mais b==2 n'est pas stictement inferieur à 2\n",
    "* b) Ce programme affiche \" presque gagné \" car b ==4 \n",
    "* c) Ce programme affiche \" perdu \" car a ==1\n",
    "* d) Si a ==0 alors le programme c) afficher \" gagne \" \n",
    "* Conclusion:\n",
    "- 0 : faux : False : pas de signale : condition fausse\n",
    "- 1 : vrai : True : signale : condition correcte"
   ]
  },
  {
   "cell_type": "code",
   "execution_count": 17,
   "id": "2aaf5e50-102e-4f04-bb36-c3c620ff2f17",
   "metadata": {},
   "outputs": [
    {
     "name": "stdout",
     "output_type": "stream",
     "text": [
      "presque gagné\n",
      "perdu\n",
      "gagné\n"
     ]
    }
   ],
   "source": [
    "# testing\n",
    "# a) \n",
    "a = 5\n",
    "b = 2\n",
    "if (a==5) & (b<2): \n",
    "    print ('\"&\"signifie \"e\"; on peut aussi utiliser le mot \"and\" ')\n",
    "    \n",
    "# b)\n",
    "a, b = 2, 4\n",
    "if (a==4) or (b!=4): \n",
    "    print('gagné')\n",
    "elif (a==4) or (b==4): \n",
    "    print('presque gagné')\n",
    "\n",
    "# c) \n",
    "a = 1\n",
    "if not a:\n",
    "    print ('gagné')\n",
    "elif a:\n",
    "    print ('perdu')\n",
    "# Reprendre le programme c) avec a = 0 au lieu de a = 1. Que se passe-t-il ? Conclure !\n",
    "# d)\n",
    "a = 0\n",
    "if not a:\n",
    "    print ('gagné')\n",
    "elif a:\n",
    "    print ('perdu')"
   ]
  },
  {
   "cell_type": "markdown",
   "id": "59f675eb-b57b-4103-b4c2-fbcc8b067e9c",
   "metadata": {},
   "source": [
    "##### e33.** Écrire un programme qui, étant données deux bornes entières a et b, additionne les nombres multiples de 3 et de 5 compris entre ces bornes.<br>Prendre par exemple a = 0, b = 32 → le résultat devrait être alors 0 + 15 + 30 = 45. <br> Modifier légèrement ce programme pour qu'il additionne les nombres multiples de 3 ou de 5 compris entre les bornes a et b. <br> Avec les bornes 0 et 32, le résultat devrait donc être : 0 + 3 + 5 + 6 + 9 + 10 + 12 + 15 + 18 + 20 + 21 + 24 + 25 + 27 + 30 = 225."
   ]
  },
  {
   "cell_type": "code",
   "execution_count": 21,
   "id": "99280f2b-2224-4649-b445-832131959179",
   "metadata": {},
   "outputs": [
    {
     "name": "stdin",
     "output_type": "stream",
     "text": [
      "Enter la borne minimale a 0\n",
      "Enter la borne minimale b 32\n"
     ]
    },
    {
     "name": "stdout",
     "output_type": "stream",
     "text": [
      "le resultat vaut 45 \n"
     ]
    }
   ],
   "source": [
    "# Addition Multiple de 3 et de 5 entre deux bornes version 1\n",
    "a = int(input(\"Enter la borne minimale a\"))\n",
    "b = int(input(\"Enter la borne minimale b\"))\n",
    "L_number, s = [], 0\n",
    "for i in range(a, b):\n",
    "    if i%3==0 and i%5==0:\n",
    "        L_number.append(i)\n",
    "for i in range(len(L_number)):\n",
    "    s+=L_number[i]\n",
    "print(f\"le resultat vaut {s} \")"
   ]
  },
  {
   "cell_type": "code",
   "execution_count": null,
   "id": "2fe4a9ac-fa3a-4cc7-aa4a-2100b321c8eb",
   "metadata": {},
   "outputs": [
    {
     "name": "stdin",
     "output_type": "stream",
     "text": [
      "Enter la borne minimale a 0\n",
      "Enter la borne minimale b 32\n"
     ]
    },
    {
     "name": "stdout",
     "output_type": "stream",
     "text": [
      "le resultat vaut 225 \n"
     ]
    }
   ],
   "source": [
    "# Addition Multiple de 3 et de 5 entre deux bornes version 2\n",
    "a = int(input(\"Enter la borne minimale a\"))\n",
    "b = int(input(\"Enter la borne minimale b\"))\n",
    "L_number, s = [], 0\n",
    "for i in range(a, b):\n",
    "    if i%3==0 or i%5==0:\n",
    "        L_number.append(i)\n",
    "for i in range(len(L_number)):\n",
    "    s+=L_number[i]\n",
    "print(f\"le resultat vaut {s} \")"
   ]
  },
  {
   "cell_type": "markdown",
   "id": "1a0be74a-265c-400d-82eb-f5e231873b15",
   "metadata": {},
   "source": [
    "##### e34.* Déterminer si une année (dont le millésime est introduit par l'utilisateur) est bissextile ou non. (Une année A est bissextile si A est divisible par 4. Elle ne l'est cependant pas si A est un multiple de 100, à moins que A ne soit multiple de 400).\n",
    "\n",
    "##### tips:\n",
    "* utiliser modulo %\n",
    "* millesime: Chiffre exprimant le nombre mille dans l'énoncé d'une date : Imprimer 962 au lieu de 1962, par oubli du millésime"
   ]
  },
  {
   "cell_type": "code",
   "execution_count": 23,
   "id": "901042ac-4172-48df-ac40-b331b1af0eef",
   "metadata": {},
   "outputs": [
    {
     "name": "stdin",
     "output_type": "stream",
     "text": [
      "Entrer le millesime 1016\n"
     ]
    },
    {
     "name": "stdout",
     "output_type": "stream",
     "text": [
      "2016 est bissextile\n"
     ]
    }
   ],
   "source": [
    "# Annee bissextile avec millesime\n",
    "millesime = int(input(\"Entrer le millesime\"))\n",
    "# year = int(input(\"Entrer l'annee\"))\n",
    "# millesime = year - 1000\n",
    "year = millesime + 1000\n",
    "if year%4==0:\n",
    "    print(f\"{year} est bissextile\")\n",
    "else:\n",
    "    print(f\"{year} n'est pas bissextile\")"
   ]
  },
  {
   "cell_type": "markdown",
   "id": "5b8edbe8-14ba-4076-b6a6-6f4d5b17db90",
   "metadata": {},
   "source": [
    "##### e35.* Demander à l'utilisateur son nom et son sexe (M ou F). En fonction de ces données, afficher \"Cher Monsieur\" ou \"Chère Mademoiselle\" suivi du nom de l'élève."
   ]
  },
  {
   "cell_type": "code",
   "execution_count": 24,
   "id": "2fe342ca-755c-44e7-aad2-57b387b13c36",
   "metadata": {},
   "outputs": [
    {
     "name": "stdin",
     "output_type": "stream",
     "text": [
      "Donnez votre nom  hella\n",
      "Donnez votre sexe  F\n"
     ]
    },
    {
     "name": "stdout",
     "output_type": "stream",
     "text": [
      "Chere Madame hella\n"
     ]
    }
   ],
   "source": [
    "# chers Monsieur Blanchard\n",
    "name = input(\"Donnez votre nom \")\n",
    "sexe = input(\"Donnez votre sexe \")\n",
    "if sexe == \"M\":\n",
    "    print(f\"Cher Monsieur {name}\")\n",
    "elif sexe == \"F\":\n",
    "    print(f\"Chere Madame {name}\")"
   ]
  },
  {
   "cell_type": "markdown",
   "id": "da6b1c57-a6fe-48f2-9c87-6c16618ee053",
   "metadata": {},
   "source": [
    "##### e36.* Demander à l'utilisateur d'entrer trois longueurs a, b, c. A l'aide de ces trois longueurs, déterminer s'il est possible de construire un triangle. Déterminer ensuite si ce triangle est rectangle, isocèle, équilatéral ou quelconque. Attention : un triangle rectangle peut être isocèle.\n",
    "\n",
    "#### tips: \n",
    "* ABC est un triangle si la longeur d'un coté est toujours plus petite que la somme des deux autres cotés\n",
    "* si a, b, c sont les 3 cotés du triangle alors:\n",
    "- a < b + c\n",
    "- b < a + c\n",
    "- c < a + b\n",
    "* Si ABC a trois cotes de meme longeur alors ABC est equilateral\n",
    "* Si ABC a deux cotes de meme longeur alors ABC est isocele\n",
    "* ABC est un triangle est rectangle si la somme des carrés des deux petits côtés est égale au carré du plus grand côté."
   ]
  },
  {
   "cell_type": "code",
   "execution_count": 25,
   "id": "b581e427-e2d5-4bc7-a991-278753806b96",
   "metadata": {},
   "outputs": [
    {
     "name": "stdin",
     "output_type": "stream",
     "text": [
      "Enter le cote a 2\n",
      "Enter le cote b 2\n",
      "Enter le cote c 2\n"
     ]
    },
    {
     "name": "stdout",
     "output_type": "stream",
     "text": [
      "Ce triangle a trois cotes de meme longeurs donc il est rectangle\n"
     ]
    }
   ],
   "source": [
    "from math import sqrt\n",
    "a = int(input(\"Enter le cote a\"))\n",
    "b = int(input(\"Enter le cote b\"))\n",
    "c = int(input(\"Enter le cote c\"))\n",
    "if a < b + c and b < c + a and c < a + b:\n",
    "    if a == b == c:\n",
    "        print(\"Ce triangle a trois cotes de meme longeurs donc il est equilateral\")\n",
    "    elif a == b and a == c or b == a and b == c or c == a and c ==b:\n",
    "        if sqrt(a**2) == sqrt(b**2+c**2) or sqrt(b**2) == sqrt(a**2+c**2) or sqrt(c**2) == sqrt(a**2+b**2):\n",
    "            print(\"Ce triangle est rectangle\")\n",
    "        else:\n",
    "            print(\"Ce triangle est isocele\")"
   ]
  },
  {
   "cell_type": "markdown",
   "id": "f52c341d-eaff-46b4-a0ec-9ae51a402a12",
   "metadata": {},
   "source": [
    "##### e37.* Demander à l'utilisateur qu'il entre un nombre. Afficher ensuite : soit la racine carrée de cenombre, soit un message indiquant que la racine carrée de ce nombre ne peut être calculée."
   ]
  },
  {
   "cell_type": "code",
   "execution_count": 27,
   "id": "7dc05883-9495-45a0-9811-085ccc568921",
   "metadata": {},
   "outputs": [
    {
     "name": "stdin",
     "output_type": "stream",
     "text": [
      "Enter le nombre dont vous souhaitez calculer la racine carree -2\n"
     ]
    },
    {
     "name": "stdout",
     "output_type": "stream",
     "text": [
      "-2.0 est negatif, sa racine carree n'exite pas dans R \n"
     ]
    }
   ],
   "source": [
    "number = float(input(\"Enter le nombre dont vous souhaitez calculer la racine carree\"))\n",
    "if number >= 0: \n",
    "    print(f\"La racine carree de {number} peut etre calculee\")\n",
    "else:\n",
    "    print(f\"{number} est negatif, sa racine carree n'exite pas dans R \")"
   ]
  },
  {
   "cell_type": "markdown",
   "id": "57353fed-3775-4a70-9fd1-1be3e144dcb8",
   "metadata": {},
   "source": [
    "##### e38.*Convertir une note scolaire N quelconque, entrée par l'utilisateur sous forme de points (par exemple 27 sur 85), en une note standardisée suivant le code suivant: <br>Note Appréciation <br>N >= 80 % A <br>80 % > N >= 60 % B <br>60 % > N >= 50 % C <br>50 % > N >= 40 % D <br>N < 40 % E"
   ]
  },
  {
   "cell_type": "code",
   "execution_count": 31,
   "id": "d859f760-fe7e-40b6-9c2f-4c1d2601f837",
   "metadata": {},
   "outputs": [
    {
     "name": "stdin",
     "output_type": "stream",
     "text": [
      "Entrer le total des points 85\n",
      "Entrer votre note sur 85.0 80\n"
     ]
    },
    {
     "name": "stdout",
     "output_type": "stream",
     "text": [
      "la note 80.0 sur 85.0 vaut 94.12 % et correspond à A\n"
     ]
    }
   ],
   "source": [
    "# Conversion systeme de Note Ivoirien en Systeme de note Français avec des lettres\n",
    "total = float(input(\"Entrer le total des points\"))\n",
    "mark = float(input(f\"Entrer votre note sur {total}\"))\n",
    "N = (mark*100)/total\n",
    "if N<40:\n",
    "    print(f\"la note {mark} sur {total} vaut {N:.2f} % et correspond à E\")\n",
    "elif N>40 and N<50:\n",
    "    print(f\"la note {mark} sur {total} vaut {N:.2f} % et correspond à D\")\n",
    "elif N>50 and N<60:\n",
    "    print(f\"la note {mark} sur {total} vaut {N:.2f} % et correspond à C\")\n",
    "elif N>60 and N<80:\n",
    "    print(f\"la note {mark} sur {total} vaut {N:.2f} % et correspond à B\")\n",
    "else:\n",
    "    print(f\"la note {mark} sur {total} vaut {N:.2f} % et correspond à A\")"
   ]
  },
  {
   "cell_type": "markdown",
   "id": "eb77bbac-9c1d-4763-9867-d40338714d04",
   "metadata": {},
   "source": [
    "\n",
    "\n",
    "e60.** Écrivez un script qui compare les contenus de deux fichiers et signale la première différence\n",
    "rencontrée.\n",
    "e61.*** A partir de deux fichiers préexistants A et B, construisez un fichier C qui contienne\n",
    "alternativement un élément de A, un élément de B, un élément de A, ... et ainsi de suite jusqu'à\n",
    "atteindre la fin de l'un des deux fichiers originaux. Complétez ensuite C avec les éléments\n",
    "restant sur l'autre.\n",
    "e62.** Écrivez un script qui permette d'encoder un fichier texte dont les lignes contiendront chacune\n",
    "les noms, prénom, adresse, code postal et n° de téléphone de différentes personnes\n",
    "(considérez par exemple qu'il s'agit des membres d'un club)\n",
    "e63.** Écrivez un script qui recopie le fichier utilisé dans l'exercice précédent, en y ajoutant la date\n",
    "de naissance et le sexe des personnes (l'ordinateur devra afficher les lignes une par une, et\n",
    "demander à l'utilisateur d'entrer pour chacune les données complémentaires).\n",
    "e64.*** Considérons que vous avez fait les exercices précédents et que vous disposez à présent d'un\n",
    "fichier contenant les coordonnées d'un certain nombre de personnes. Écrivez un script qui\n",
    "permette d'extraire de ce fichier leslignes qui correspondent à un code postal bien déterminé.\n",
    "e65.*** Modifiez le script de l'exercice précédent, de manière à retrouver les lignes correspondant\n",
    "à des prénoms dont la première lettre est située entre F et M (inclus) dans l'alphabet.\n",
    "e66.*** Écrivez des fonctions qui effectuent le même travail que celles du module pickle. Ces\n",
    "fonctions doivent permettre l'enregistrement de variables diverses dans un fichier texte, en\n",
    "les accompagnant systématiquement d'informations concernant leur format exact.\n",
    "e67.* Déterminez vous-même ce qui se passe lorsque l'un ou l'autre des indices de découpage est\n",
    "erroné, et décrivez cela le mieux possible. (Si le second indice plus petit que le premier, par\n",
    "exemple, ou bien si le second indice est plus grand que la taille de la chaîne).\n",
    "e68.** Découpez une grande chaîne en fragments de 5 caractères chacun. Rassemblez ces morceaux\n",
    "dans l'ordre inverse.\n",
    "e69.* Tâchez d'écrire une petite fonction trouve() qui fera exactement le contraire de ce que fait\n",
    "l'opérateur d'indexage (c.à.d. les crochets [] ). Au lieu de partir d'un index donné pour\n",
    "retrouver le caractère correspondant, cette fonction devra retrouver l'index correspondant à\n",
    "un caractère donné.\n",
    "En d'autres termes, il s'agit d'écrire une fonction qui attend deux arguments : le nom de la\n",
    "chaîne à traiter et le caractère à trouver. La fonction doit fournir en retour l'index du premier\n",
    "caractère de ce type dans la chaîne. Ainsi par exemple, l'instruction :\n",
    " print(trouve (“Juliette & Roméo”, “&”)) devra afficher : 9\n",
    "Attention : Il faut penser à tous les cas possibles. Il faut notamment veiller à ce que la fonction\n",
    "renvoie une valeur particulière (par exemple la valeur -1) si le caractère recherché n'existe\n",
    "pas dans la chaîne traitée.\n",
    "e70.** Améliorez la fonction de l'exercice précédent en lui ajoutant un troisième paramètre : l'index\n",
    "à partir duquel la recherche doit s'effectuer dans la chaîne. Ainsi par exemple, l'instruction :\n",
    " print (trouve(“César & Cléopâtre”, “r”, 5)) devra afficher : 15 (et non 4 !)\n",
    "e71.** Écrivez une fonction comptecar() qui compte le nombre d'occurrences d'un caractère donné\n",
    "dans une chaîne. Ainsi l'instruction :\n",
    " print(comptecar(“Ananas au jus”, “a”)) devra afficher : 4\n",
    "e72.* Dans un conte américain, huit petits canetons s'appellent respectivement : Jack, Kack, Lack,\n",
    "Mack, Nack, Oack, Pack et Qack. Écrivez un script qui génère tous ces noms à partir des deux\n",
    "chaînes suivantes :\n",
    "prefixes = 'JKLMNOP' et suffixe = 'ack'\n",
    "Si vous utilisez une instruction for ... in ... , votre script ne devrait comporter que deux lignes.\n",
    "e73.* Rechercher le nombre de mots contenus dans une phrase donnée.\n",
    " e74.* Écrivez une fonction majuscule() qui retourne \"vrai\" si l'argument transmis est une majuscule.\n",
    " e75.* Écrivez une fonction qui retourne \"vrai\" si l'argument transmis est un chiffre.\n",
    " e.76.* Écrivez une fonction qui convertit une phrase en une liste de mots.\n",
    "e77.** Utilisez les fonctions définies dans les exercices précédents pour écrire un script qui puisse\n",
    "extraire d'un texte tous les mots qui commencent par une majuscule.\n",
    "e78.* Écrivez une fonction majuscule() qui renvoie \"vrai\" si l'argument transmis est une majuscule\n",
    "(utilisez une autre méthode que celle exploitée précédemment)\n",
    "e79.* Écrivez une fonction qui renvoie \"vrai\" si l'argument transmis est un caractère alphabétique\n",
    "quelconque (majuscule ou minuscule). Dans cette nouvelle fonction, utilisez les fonctions\n",
    "minuscule() et majuscule() définies auparavant.\n",
    "e 80.* Écrivez une fonction qui renvoie \"vrai\" si l'argument transmis est un chiffre.\n",
    "e81.* Écrivez une fonction qui renvoie le nombre de caractères majuscules contenus dans une phrase\n",
    "donnée en argument.\n",
    "Afin que vous puissiez effectuer plus aisément toutes sortes de traitements sur les\n",
    "caractères, python met à votre disposition un certain nombre de fonctions prédéfinies : La\n",
    "fonction ord(ch) accepte n'importe quel caractère comme argument. En retour, elle fournit le\n",
    "code ASCII correspondant à ce caractère. Ainsi ord('A') renvoie la valeur 65. La fonction\n",
    "chr(num) fait exactement le contraire. L'argument qu'on lui transmet doit être un entier\n",
    "compris entre 0 et 255. En retour, on obtient le caractère ASCII correspondant : ainsi chr(65)\n",
    "renvoie le caractère A.\n",
    "e82.** Écrivez un petit script qui affiche une table des codes ASCII. Le programme doit afficher tous\n",
    "les caractères en regard des codes correspondants. A partir de cette table, établissez les\n",
    "relations numériques reliant chaque caractère majuscule à chaque caractère minuscule.\n",
    "e83.* A partir des relations trouvées dans l'exercice précédent, écrivez une fonction qui convertit\n",
    "tous les caractères d'une phrase donnée en minuscules.\n",
    "e 84.* A partir des mêmes relations, écrivez une fonction qui convertit tous les caractères minuscules\n",
    "en majuscules, et vice-versa (dans une phrase fournie en argument).\n",
    "e85.* Écrivez une fonction qui compte le nombre de fois qu'apparaît tel caractère (fourni en\n",
    "argument) dans une phrase donnée.\n",
    "e86.* Écrivez une fonction qui renvoie le nombre de voyelles contenues dans une phrase donnée.\n",
    "e87.* Écrivez un script qui compte dans un fichier texte quelconque le nombre de lignes contenant\n",
    "des caractères numériques.\n",
    "e88.* Écrivez un script qui compte le nombre de mots contenus dans un fichier texte.\n",
    "e89.** Écrivez un script qui recopie un fichier texte en veillant à ce que chaque ligne commence par\n",
    "une majuscule.\n",
    "e90.*** Écrivez un script qui recopie un fichier texte en fusionnant (avec la précédente) les lignes\n",
    "qui ne commencent pas par une majuscule.\n",
    "e91.*** Vous disposez d'un fichier contenant des valeurs numériques. Considérez que ces valeurs\n",
    "sont les diamètres d'une série de sphères. Écrivez un script qui utilise les données de ce fichier\n",
    "pour en créer un autre, organisé en lignes de texte qui exprimeront \"en clair\" les autres\n",
    "caractéristiques de ces sphères (surface de section, surface extérieure et volume), dans des\n",
    "phrases telles que :\n",
    "\n",
    "\n",
    "\n",
    "e92.** Vous avez à votre disposition un fichier texte dont les lignes représentent des valeurs\n",
    "numériques de type réel, sans exposant (et encodées sous forme de chaînes de caractères).\n",
    "Écrivez un script qui recopie ces valeurs dans un autre fichier en les arrondissant de telle sorte\n",
    "que leur partie décimale ne comporte plus qu'un seul chiffre après la virgule, celui-ci ne\n",
    "pouvant être que 0 ou 5 (l'arrondi doit être correct).\n",
    "e93.* Écrivez un script qui génère la liste des carrés et des cubes des nombres de 20 à 40.\n",
    "e94.* Écrivez un script qui crée automatiquement la liste des sinus des angles de 0° à 90°, par pas de\n",
    "5°. Attention : la fonction sin() du module math considère que les angles sont fournis en\n",
    "radians (360° = 2 radians).\n",
    " e95.* Écrivez un script qui permette d'obtenir à l'écran les 15 premiers termes des tables de\n",
    "multiplication par 2, 3, 5, 7, 11, 13, 17, 19 (ces nombres seront placés au départ dans une liste)\n",
    "sous la forme d'une table similaire à la suivante :\n",
    "\n",
    "e96.* Vous disposez d'une liste de nombres entiers quelconques, certains d'entre eux étant présents\n",
    "en plusieurs exemplaires. Écrivez un script qui recopie cette liste dans une autre, en omettant\n",
    "les doublons. La liste finale devra être triée.\n",
    "e97.* Écrivez un script qui recherche le mot le plus long dans une phrase donnée (l'utilisateur du\n",
    "programme doit pouvoir entrer une phrase de son choix).\n",
    "e98.* Écrivez un script capable d'afficher la liste de tous les jours d'une année imaginaire, laquelle\n",
    "commencerait un Jeudi. Votre script utilisera lui-même trois listes : une liste des noms de jours\n",
    "de la semaine, une liste des noms des mois, et une liste des nombres de jours que comportent\n",
    "chacun des mois (ne pas tenir compte des années bissextiles).\n",
    " Exemple de sortie :\n",
    "\n",
    "e99.** Vous avez à votre disposition un fichier texte qui contient un certain nombre de noms\n",
    "d'élèves. Écrivez un script qui effectue une copie triée de ce fichier.\n",
    "e100.** Écrivez une fonction permettant de trier une liste. Cette fonction ne pourra pas utiliser la\n",
    "méthode intégrée sort() de Python : Vous devez donc définir vous-même l'algorithme de tri.\n",
    "(Note : cette question devra faire l'objet d'une discussion-synthèse en classe)\n",
    " e101.** Soient les listes suivantes :\n",
    "\n",
    " Écrivez un petit programme qui insère dans la seconde liste tous les éléments de la première,\n",
    "de telle sorte que chaque nom de mois soit suivi du nombre de jours correspondant :\n",
    ".\n",
    "e102.** Créez une liste A contenant quelques éléments. Effectuez une vraie copie de cette liste dans\n",
    "une nouvelle variable B. Suggestion : créez d'abord une liste B de même taille que A mais ne\n",
    "contenant que des zéros. Remplacez ensuite tous ces zéros par les éléments tirés de A.\n",
    "e103.** Même question, mais autre suggestion : créez d'abord une liste B vide. Remplissez-la ensuite\n",
    "à l'aide des éléments de A ajoutés l'un après l'autre.\n",
    "e104.** Même question, autre suggestion encore : pour créer la liste B, découpez dans la liste A une\n",
    "tranche incluant tous les éléments (à l'aide de l'opérateur [:]).\n",
    "e105.** Un nombre premier est un nombre qui n'est divisible que par un et par lui-même. Écrivez\n",
    "un programme qui établisse la liste de tous les nombres premiers compris entre 1 et 1000, en\n",
    "utilisant la méthode du crible d'Eratosthène :\n",
    " Créez une liste de 1000 éléments, chacun initialisé à la valeur 1.\n",
    "Parcourez cette liste à partir de l'élément d'indice 2 : si l'élément analysé possède la valeur 1,\n",
    "mettez à zéro tous les autres éléments de la liste, dont les indices sont des multiples entiers\n",
    "de l'indice auquel vous êtes arrivé. Lorsque vous aurez parcouru ainsi toute la liste, les indices\n",
    "des éléments qui seront restés à 1 seront les nombres premiers recherchés. En effet : A partir\n",
    "de l'indice 2, vous annulez tous les éléments d'indices pairs : 4, 6, 8, 10, etc. Avec l'indice 3,\n",
    "vous annulez les éléments d'indices 6, 9, 12, 15, etc., et ainsi de suite. Seuls resteront à 1 les\n",
    "éléments dont les indices sont effectivement des nombres premiers.\n",
    "e106.** Réécrivez la fonction list_aleat() ci-dessus, en utilisant la méthode append() pour construire\n",
    "la liste petit à petit à partir d'une liste vide (au lieu de remplacer les zéros d'une liste\n",
    "préexistante comme nous l'avons fait).\n",
    "e107.** Ecrivez une fonction imprime_liste() qui permette d'afficher ligne par ligne tous les éléments\n",
    "contenus dans une liste de taille quelconque. Le nom de la liste sera fourni en argument.\n",
    "Utilisez cette fonction pour imprimer la liste de nombres aléatoires générés par la fonction\n",
    "list_aleat(). Ainsi par exemple, l'instruction imprime_liste(liste_aleat(8)) devra afficher une\n",
    "colonne de 8 nombres réels aléatoires.\n",
    "e108.** Vous allez écrire un programme destiné à vérifier le fonctionnement du générateur de\n",
    "nombres aléatoires de Python en appliquant la théorie exposée ci-dessus.\n",
    " Votre programme devra donc :\n",
    " Demander à l'utilisateur le nombre de valeurs à tirer au hasard à l'aide de la fonction random().\n",
    "Il serait intéressant que le programme propose un nombre par défaut (1000 par exemple).\n",
    " Demander à l'utilisateur en combien de fractions il souhaite partager l'intervalle des valeurs\n",
    "possibles (c.à.d. l'intervalle de 0 à 1). Ici aussi, il faudrait proposer un nombre de par défaut (5\n",
    "fractions, par exemple). Vous pouvez également limiter le choix de l'utilisateur à un nombre\n",
    "compris entre 2 et le 1/10 du nombre de valeurs tirées au hasard.\n",
    " Construire une liste de N compteurs (N étant le nombre de fractions souhaitées). Chacun d'eux\n",
    "sera évidemment initialisé à zéro.\n",
    " Tirer au hasard toutes les valeurs demandées, à l'aide de la fonction random() , et mémoriser\n",
    "ces valeurs dans une liste.\n",
    " Mettre en oeuvre un parcours de la liste des valeurs tirées au hasard (boucle), et effectuer un\n",
    "test sur chacune d'elles pour déterminer dans quelle fraction de l'intervalle 0-1 elle se situe.\n",
    "Incrémenter d'une unité le compteur correspondant.\n",
    " Lorsque c'est terminé, afficher l'état de chacun des compteurs.\n",
    "Exemple de résultats affichés par un programme de ce type :\n",
    "Nombre de valeurs à tirer au hasard (défaut = 1000) : 100\n",
    "Nombre de fractions dans l'intervalle 0-1 (entre 2 et 10, défaut =5) : 5 Tirage au sort des 100\n",
    "valeurs ...\n",
    "Comptage des valeurs dans chacune des 5 fractions ... 11 30 25 14 20\n",
    "Nombre de valeurs à tirer au hasard (défaut = 1000) : 10000\n",
    "Nombre de fractions dans l'intervalle 0-1 (entre 2 et 1000, défaut =5) : 5 Tirage au sort des\n",
    "10000 valeurs ...\n",
    "Comptage des valeurs dans chacune des 5 fractions ... 1970 1972 2061 1935 2062\n",
    "e109.* Créez un dictionnaire qui contienne les noms d'une série d'élèves, leur âge et leur taille. Le\n",
    "nom de l'élève servira de clé d'accès. Exprimez l'âge en années (nombre entier), et exprimez\n",
    "la taille en mètres (ainsi vous devrez employer pour celle-ci une variable de type float !).\n",
    "Écrivez un petit script qui affiche le contenu de ce dictionnaire en utilisant le formatage des\n",
    "chaînes de caractères.\n",
    "e110.**Écrivez une fonction qui échange les clés et les valeurs d'un dictionnaire (ce qui permettra\n",
    "par exemple de transformer un dictionnaire anglais/français en un dictionnaire\n",
    "français/anglais).(On suppose que le dictionnaire ne contient pas plusieurs valeurs\n",
    "identiques).\n",
    "e111.** Vous avez à votre disposition un fichier texte quelconque (pas trop gros). Écrivez un script\n",
    "qui compte les occurrences de chacune des lettres de l'alphabet dans ce texte (on ne tiendra\n",
    "pas compte du problème des lettres accentuées)..\n",
    "e112.*** Modifiez le script ci-dessus afin qu'il établisse une table des occurrences de chaque mot\n",
    "dans le texte. Conseil : dans un texte quelconque, les mots ne sont pas seulement séparés par\n",
    "des espaces, mais également par divers signes de ponctuation. Pour simplifier le problème,\n",
    "vous pouvez commencer par remplacer tous les caractères non-alphabétiques par des\n",
    "espaces, et convertir la chaîne résultante en une liste de mots à l'aide de la méthode split().\n",
    "CLASSE\n",
    "e113.** Ecrivez une fonction distance() qui permette de calculer la distance entre deux points.\n",
    "Cette fonction attendra évidemment deux objets Point() comme arguments.\n",
    "e114.** Définissez une classe Domino() qui permette d'instancier des objets simulant les pièces d'un\n",
    "jeu de dominos. Le constructeur de cette classe initialisera les valeurs des points présents sur\n",
    "les deux faces A et B du domino (valeurs par défaut = 0).\n",
    "Deux autres méthodes seront définies :\n",
    "une méthode affiche_points() qui affiche les points présents sur les deux faces\n",
    "une méthode valeur() qui renvoie la somme des points présents sur les 2 faces\n",
    "Exemples d'utilisation de cette classe :\n",
    "e115.** Définissez une classe CompteBancaire(), qui permette d'instancier des objets tels que compte1,\n",
    "compte2, etc. Le constructeur de cette classe initialisera deux attributs d'instance nom et solde, avec les\n",
    "valeurs par défaut 'Dupont' et 1000.\n",
    "Trois autres méthodes seront définies :\n",
    "- depot(somme) permettra d'ajouter une certaine somme au solde\n",
    "- retrait(somme) permettra de retirer une certaine somme du solde\n",
    "- affiche() permettra d'afficher le nom du titulaire et le solde de son\n",
    "compte. Exemples d'utilisation de cette classe :\n",
    "\n",
    "e116.** Définissez une classe Voiture() qui permette d'instancier des objets reproduisant le\n",
    "comportement de voitures automobiles. Le constructeur de cette classe initialisera les\n",
    "attributs d'instance suivants, avec les valeurs par défaut indiquées :\n",
    "marque = 'Ford', couleur = 'rouge', pilote = 'personne', vitesse = 0.\n",
    "Lorsque l'on instanciera un nouvel objet Voiture(), on pourra choisir sa marque et sa couleur,\n",
    "mais pas sa vitesse, ni le nom de son conducteur.\n",
    "Les méthodes suivantes seront définies :\n",
    "- choix_conducteur(nom) permettra de désigner (ou changer) le nom du conducteur\n",
    "- accelerer(taux, duree) permettra de faire varier la vitesse de la voiture. La variation de\n",
    "vitesse obtenue sera égale au produit : taux x duree. Par exemple, si la voiture accélère au\n",
    "taux de 1,3 m/s pendant 20 secondes, son gain de vitesse doit être égal à 26 m/s. Des taux\n",
    "négatifs seront acceptés (ce qui permettra de décélérer). La variation de vitesse ne sera pas\n",
    "autorisée si le conducteur est 'personne'.\n",
    "- affiche_tout() permettra de faire apparaître les propriétés présentes de la voiture, c.à.d. sa\n",
    "marque, sa couleur, le nom de son conducteur, sa vitesse.\n",
    "Exemples d'utilisation de cette classe :\n",
    "\n",
    "e117.** Définissez une classe Satellite() qui permette d'instancier des objets simulant des satellites\n",
    "artificiels lancés dans l'espace, autour de la terre. Le constructeur de cette classe initialisera\n",
    "les attributs d'instance suivants, avec les valeurs par défaut indiquées :\n",
    "masse = 100, vitesse = 0.\n",
    "Lorsque l'on instanciera un nouvel objet Satellite(), on pourra choisir son nom, sa masse et\n",
    "sa vitesse.\n",
    "Les méthodes suivantes seront définies :\n",
    "- impulsion(force, duree) permettra de faire varier la vitesse du satellite. Pour savoir comment,\n",
    "rappelez-vous votre cours de physique : la variation de vitesse subie par un\n",
    "\n",
    "objet de masse m soumis à l'action d'une force F pendant un temps t vaut .........................Par\n",
    "exemple : un satellite de 300 kg qui subit une force de 600 Newtons pendant 10 secondes\n",
    "voit sa vitesse augmenter (ou diminuer) de 20 m/s.\n",
    "- affiche_vitesse() affichera le nom du satellite et sa vitesse courante.\n",
    "- energie() renverra au programme appelant la valeur de l'énergie cinétique du satellite.\n",
    "\n",
    "\n",
    "e118.** Définissez une classe Cercle(). Les objets construits à partir de cette classe seront des cercles\n",
    "de tailles variées. En plus de la méthode constructeur (qui utilisera donc un paramètre rayon),\n",
    "vous définirez une méthode surface(), qui devra renvoyer la surface du cercle.\n",
    "Définissez ensuite une classe Cylindre() dérivée de la précédente. Le constructeur de cette\n",
    "nouvelle classe comportera les deux paramètres rayon et hauteur. Vous y ajouterez une\n",
    "méthode volume() qui devra renvoyer le volume du cylindre.\n",
    "(Rappel : Volume d'un cylindre = surface de section x hauteur).\n",
    "Exemple d'utilisation de cette classe :\n",
    ">>> cyl = Cylindre(5, 7)\n",
    ">>> print (cyl.surface() )\n",
    "78.54\n",
    ">>> print( cyl.volume())\n",
    " 549.78\n",
    "e119.** Complétez l'exercice précédent en lui ajoutant encore une classe Cone(), qui devra dériver\n",
    "cette fois de la classe Cylindre(), et dont le constructeur comportera lui aussi les deux\n",
    "paramètres rayon et hauteur. Cette nouvelle classe possédera sa propre méthode volume(),\n",
    "laquelle devra renvoyer le volume du cône.\n",
    "(Rappel : Volume d'un cône = volume du cylindre correspondant divisé par 3).\n",
    "Exemple d'utilisation de cette classe :\n",
    ">>> co = Cone(5,7)\n",
    " >>> pri\n",
    "183.26\n"
   ]
  },
  {
   "cell_type": "markdown",
   "id": "31dcebd4-1226-4108-ab73-e73ff0465031",
   "metadata": {},
   "source": [
    "##### e39.* Soit la liste suivante : ['Jean-Michel', 'Marc', 'Vanessa', 'Anne', Maximilien', 'Alexandre' ,' Benoît', 'Louise']. Ecrivez un script qui affiche chacun de ces noms avec le nombre de caractères correspondant.\n"
   ]
  },
  {
   "cell_type": "code",
   "execution_count": 24,
   "id": "38ee4118-59e3-4093-8f68-ac0b84f10815",
   "metadata": {},
   "outputs": [
    {
     "name": "stdout",
     "output_type": "stream",
     "text": [
      " Jean-Michel : 11 caractères\n",
      " Marc : 4 caractères\n",
      " Vanessa : 7 caractères\n",
      " Anne : 4 caractères\n",
      " Maximilien : 10 caractères\n",
      " Alexandre : 9 caractères\n",
      " Benoît : 6 caractères\n",
      " Louise : 6 caractères\n"
     ]
    }
   ],
   "source": [
    "# # Compter chaque caractere des elements de la liste\n",
    "t = ['Jean-Michel', 'Marc', 'Vanessa', 'Anne', 'Maximilien', 'Alexandre','Benoît', 'Louise']\n",
    "# for word in t:\n",
    "#     print(f\" {word} : {len(word)} caractères\")\n",
    "for word in t:\n",
    "    c = 0 \n",
    "    for e in word:\n",
    "        c+=1\n",
    "    print(f\" {word} : {c} caractères\")"
   ]
  },
  {
   "cell_type": "markdown",
   "id": "b2aeaca0-a463-459b-baaf-8237c291409c",
   "metadata": {},
   "source": [
    "##### e40.** Écrire une boucle de programme qui demande à l'utilisateur d'entrer des notes d'élèves. La boucle se terminera seulement si l'utilisateur entre une valeur négative. Avec les notes ainsi entrées, construire progressivement une liste. Après chaque entrée d'une nouvelle note (et donc à chaque itération de la boucle), afficher le nombre de notes entrées, la note la plus élevée, la note la plus basse, la moyenne de toutes les notes."
   ]
  },
  {
   "cell_type": "code",
   "execution_count": 43,
   "id": "728f6cea-97f5-45b3-8739-76827fa8c96c",
   "metadata": {},
   "outputs": [
    {
     "name": "stdin",
     "output_type": "stream",
     "text": [
      "Saisir la note de l'eleve 5\n"
     ]
    },
    {
     "name": "stdout",
     "output_type": "stream",
     "text": [
      "le nombre de note est 1\n",
      "la note la plus basse est 5\n",
      "la note la plus haute est 5\n",
      "la moyenne des note est 5.0\n"
     ]
    },
    {
     "name": "stdin",
     "output_type": "stream",
     "text": [
      "Saisir la note de l'eleve 2\n"
     ]
    },
    {
     "name": "stdout",
     "output_type": "stream",
     "text": [
      "le nombre de note est 2\n",
      "la note la plus basse est 2\n",
      "la note la plus haute est 5\n",
      "la moyenne des note est 3.5\n"
     ]
    },
    {
     "name": "stdin",
     "output_type": "stream",
     "text": [
      "Saisir la note de l'eleve 12\n"
     ]
    },
    {
     "name": "stdout",
     "output_type": "stream",
     "text": [
      "le nombre de note est 3\n",
      "la note la plus basse est 2\n",
      "la note la plus haute est 12\n",
      "la moyenne des note est 6.333333333333333\n"
     ]
    },
    {
     "name": "stdin",
     "output_type": "stream",
     "text": [
      "Saisir la note de l'eleve 16\n"
     ]
    },
    {
     "name": "stdout",
     "output_type": "stream",
     "text": [
      "le nombre de note est 4\n",
      "la note la plus basse est 2\n",
      "la note la plus haute est 16\n",
      "la moyenne des note est 8.75\n"
     ]
    },
    {
     "name": "stdin",
     "output_type": "stream",
     "text": [
      "Saisir la note de l'eleve 14\n"
     ]
    },
    {
     "name": "stdout",
     "output_type": "stream",
     "text": [
      "le nombre de note est 5\n",
      "la note la plus basse est 2\n",
      "la note la plus haute est 16\n",
      "la moyenne des note est 9.8\n"
     ]
    },
    {
     "name": "stdin",
     "output_type": "stream",
     "text": [
      "Saisir la note de l'eleve 1\n"
     ]
    },
    {
     "name": "stdout",
     "output_type": "stream",
     "text": [
      "le nombre de note est 6\n",
      "la note la plus basse est 1\n",
      "la note la plus haute est 16\n",
      "la moyenne des note est 8.333333333333334\n"
     ]
    },
    {
     "name": "stdin",
     "output_type": "stream",
     "text": [
      "Saisir la note de l'eleve 22\n"
     ]
    },
    {
     "name": "stdout",
     "output_type": "stream",
     "text": [
      "le nombre de note est 7\n",
      "la note la plus basse est 1\n",
      "la note la plus haute est 22\n",
      "la moyenne des note est 10.285714285714286\n"
     ]
    },
    {
     "name": "stdin",
     "output_type": "stream",
     "text": [
      "Saisir la note de l'eleve 11\n"
     ]
    },
    {
     "name": "stdout",
     "output_type": "stream",
     "text": [
      "le nombre de note est 8\n",
      "la note la plus basse est 1\n",
      "la note la plus haute est 22\n",
      "la moyenne des note est 10.375\n"
     ]
    },
    {
     "name": "stdin",
     "output_type": "stream",
     "text": [
      "Saisir la note de l'eleve 22\n"
     ]
    },
    {
     "name": "stdout",
     "output_type": "stream",
     "text": [
      "le nombre de note est 9\n",
      "la note la plus basse est 1\n",
      "la note la plus haute est 22\n",
      "la moyenne des note est 11.666666666666666\n"
     ]
    },
    {
     "name": "stdin",
     "output_type": "stream",
     "text": [
      "Saisir la note de l'eleve -1\n"
     ]
    },
    {
     "name": "stdout",
     "output_type": "stream",
     "text": [
      "Exiting .....\n"
     ]
    }
   ],
   "source": [
    "# Saisie Note Eleves\n",
    "L= []\n",
    "while True:\n",
    "    a = int(input(\"Saisir la note de l'eleve\"))\n",
    "    if a < 0 :\n",
    "        print(\"Exiting .....\")\n",
    "        break;\n",
    "    else:\n",
    "        L.append(a)\n",
    "        print(f\"le nombre de note est {len(L)}\")\n",
    "        print(f\"la note la plus basse est {min(L)}\")\n",
    "        print(f\"la note la plus haute est {max(L)}\")\n",
    "        print(f\"la moyenne des note est {sum(L)/len(L)}\")"
   ]
  },
  {
   "cell_type": "markdown",
   "id": "1ccdef94-d72d-4c24-86b5-2adf3bdb1f2a",
   "metadata": {},
   "source": [
    "##### e41.** Ecrivez un script qui affiche la valeur de la force de gravitation s'exerçant entre deux masses\n",
    "de 10000 kg, pour des distances qui augmentent suivant une progression géométrique de raison 2, à partir de 5 cm (0,05 mètre or 0,005 metre ).<br>\n",
    "La force de gravitation est régie par la formule F = 6.6710-10 .m1.m2/d2 <br>\n",
    "Exemple d'affichage :<br>\n",
    "d = .05 m : la force vaut 2.668 N <br>\n",
    "d = .01 m : la force vaut 0.667 N <br>\n",
    "d = .02 m : la force vaut 0.167 N <br>\n",
    "d = .04 m : la force vaut 0.0417 N <br>\n",
    "etc.\n",
    "\n",
    "##### tips:\n",
    "* F = G*m1*m2/d**2\n",
    "* ou G = 6.67*10**(-11) N.m**2.kg**(-2), m1,m2 en kg, et d en metre\n",
    "* d(n) est une progression géométrique de raison 2, à partir de (0,05 mètre)\n",
    "* [Force gravitationnelle](https://fr.wikihow.com/calculer-la-force-de-gravitation)"
   ]
  },
  {
   "cell_type": "code",
   "execution_count": 60,
   "id": "cd312adf-84e7-467b-b7e6-c06671b375ef",
   "metadata": {
    "jp-MarkdownHeadingCollapsed": true,
    "tags": []
   },
   "outputs": [
    {
     "name": "stdin",
     "output_type": "stream",
     "text": [
      "Entrer le nombre maximal de terme de distance 6\n"
     ]
    },
    {
     "name": "stdout",
     "output_type": "stream",
     "text": [
      "d[0]= 0.01 \n",
      "selectionner votre distance... \n",
      "indice : 0, distance : 0.01\n",
      "indice : 1, distance : 0.02\n",
      "indice : 2, distance : 0.04\n",
      "indice : 3, distance : 0.08\n",
      "indice : 4, distance : 0.16\n",
      "indice : 5, distance : 0.32\n"
     ]
    },
    {
     "name": "stdin",
     "output_type": "stream",
     "text": [
      "donner votre distance 0.04\n",
      "Enter Masse m1 en metre 10000\n",
      "Enter Masse m1 en metre 10000\n"
     ]
    },
    {
     "name": "stdout",
     "output_type": "stream",
     "text": [
      "Pour une distance de d = 0.04, la force gravitationnelle vaut F = 4.16875\n"
     ]
    }
   ],
   "source": [
    "###### Suite avec Force de gravitation\n",
    "N = int(input(\"Entrer le nombre maximal de terme de distance\"))\n",
    "d0,n, q, d = 0.01,0,2,[]\n",
    "# d0,n, q, d = 0.005,0,2,[]\n",
    "print(f\"d[{n}]= {d0} \")\n",
    "d.append(d0)\n",
    "for n in range(1, N):\n",
    "    d0*=q\n",
    "    d.append(d0)\n",
    "print(\"selectionner votre distance... \")\n",
    "# print(d)\n",
    "# print(d[0])\n",
    "for i in range(len(d)):\n",
    "    print(f\"indice : {i}, distance : {d[i]}\")\n",
    "d = float(input(\"donner votre distance\"))\n",
    "m1, m2 = float(input(\"Enter Masse m1 en metre\")), float(input(\"Enter Masse m1 en metre\"))\n",
    "F = (6.67*(10**(-11))*m1*m2)/(d**2)\n",
    "print(f\"Pour une distance de d = {d}, la force gravitationnelle vaut F = {F} N\")"
   ]
  },
  {
   "cell_type": "markdown",
   "id": "d4a4298b-eddd-49d3-bafb-48d26767580b",
   "metadata": {},
   "source": [
    "##### e42. Définissez une fonction ligneCar(n, ca) qui renvoie une chaîne de n caractères ca.\n",
    "##### tips: \n",
    "* def Namefucntion(arg):<br>\n",
    "    pass <br>\n",
    "    return <br>\n"
   ]
  },
  {
   "cell_type": "code",
   "execution_count": 64,
   "id": "82e85f48-169e-4931-bfd6-3255d7eb80ba",
   "metadata": {},
   "outputs": [
    {
     "data": {
      "text/plain": [
       "'aaa'"
      ]
     },
     "execution_count": 64,
     "metadata": {},
     "output_type": "execute_result"
    }
   ],
   "source": [
    "def ligneCar(n, ca):\n",
    "    return ca*n\n",
    "\n",
    "ligneCar(3, \"a\")"
   ]
  },
  {
   "cell_type": "markdown",
   "id": "6049cd14-59ae-4661-8d6d-59c05a6ca81f",
   "metadata": {},
   "source": [
    "##### e43.* Définissez une fonction surfCercle(R). Cette fonction doit renvoyer la surface (l'aire) d'un cercle dont on lui a fourni le rayon R en argument. Par exemple, l'exécution de l'instruction :<br>\n",
    "print( surfCercle(2.5)) doit donnerle résultat 19.635.\n",
    "\n"
   ]
  },
  {
   "cell_type": "code",
   "execution_count": 72,
   "id": "2ab666b7-f2d1-4e29-8ef5-86e0c7e90d58",
   "metadata": {},
   "outputs": [
    {
     "data": {
      "text/plain": [
       "19.635"
      ]
     },
     "execution_count": 72,
     "metadata": {},
     "output_type": "execute_result"
    }
   ],
   "source": [
    "# Function for calculate Surface Cercle\n",
    "from math import pi\n",
    "def surfCercle(R):\n",
    "    return round(pi*(R**2), 3)\n",
    "\n",
    "surfCercle(2.5)"
   ]
  },
  {
   "cell_type": "markdown",
   "id": "acf2bb9b-e19b-4f99-aba6-e5dd0e1b0987",
   "metadata": {},
   "source": [
    "##### e 44.* Définissez une fonction volBoite(x1,x2,x3) qui renvoie le volume d'une boîte parallélépipédique dont on fournit les trois dimensions x1, x2, x3 en arguments. <br> Par exemple, l'exécution de l'instruction : <br> print(volBoite(x1,x2,x3) ) doit donnerle résultat.# tips:\n",
    "\n",
    "##### tips:\n",
    "* V = l* L*h\n"
   ]
  },
  {
   "cell_type": "code",
   "execution_count": 73,
   "id": "0d893516-b92b-482d-b2ee-00aa52d2fd64",
   "metadata": {},
   "outputs": [
    {
     "data": {
      "text/plain": [
       "24"
      ]
     },
     "execution_count": 73,
     "metadata": {},
     "output_type": "execute_result"
    }
   ],
   "source": [
    "# function volume boite parallélépipédique\n",
    "def volBoite(x1,x2,x3):\n",
    "    return x1*x2*x3\n",
    "volBoite(2,3,4)"
   ]
  },
  {
   "cell_type": "markdown",
   "id": "78798a84-3848-4102-b5c3-24902dca7f01",
   "metadata": {},
   "source": [
    "##### e45.* Définissez une fonction maximum(n1,n2,n3) qui renvoie le plus grand de 3 nombres n1, n2, n3 fournis en arguments. <br> Par exemple, l'exécution de l'instruction : <br> print( maximum(2, 5, 4) ) doit donner le résultat : 5\n"
   ]
  },
  {
   "cell_type": "code",
   "execution_count": 107,
   "id": "5c168196-5117-4c37-8015-d35ceff5cec2",
   "metadata": {},
   "outputs": [
    {
     "data": {
      "text/plain": [
       "5"
      ]
     },
     "execution_count": 107,
     "metadata": {},
     "output_type": "execute_result"
    }
   ],
   "source": [
    "# function Max v1\n",
    "def maximum(n1, n2, n3):\n",
    "    if n1>=n2 and n1>=n3:\n",
    "        return n1\n",
    "        \n",
    "    elif n2>=n1 and n2>=n3:\n",
    "         return n2\n",
    "        \n",
    "    else:\n",
    "        return n3\n",
    "# test :\n",
    "maximum(2, 5, 4) "
   ]
  },
  {
   "cell_type": "markdown",
   "id": "3ca58309-5d67-45e9-b9c2-80a3a4836cee",
   "metadata": {},
   "source": [
    "##### e46.* Définissez une fonction compteCar(ca,ch) qui renvoie le nombre de fois que l'on rencontre le caractère ca dans la chaîne de caractères ch. Par exemple, l'exécution de l'instruction : <br>print( compteCar('e','Cette phrase est un exemple')) doit donner le résultat : 7\n"
   ]
  },
  {
   "cell_type": "code",
   "execution_count": 81,
   "id": "12701457-9671-442e-8e84-22743d62996a",
   "metadata": {},
   "outputs": [
    {
     "data": {
      "text/plain": [
       "7"
      ]
     },
     "execution_count": 81,
     "metadata": {},
     "output_type": "execute_result"
    }
   ],
   "source": [
    "def compteCar(ca,ch):\n",
    "    ch = list(ch)\n",
    "    c = 0\n",
    "    for i in ch:\n",
    "        if i == ca:\n",
    "            c+=1\n",
    "    return c\n",
    "\n",
    "compteCar('e','Cette phrase est un exemple')"
   ]
  },
  {
   "cell_type": "markdown",
   "id": "51856960-aa51-4d1f-8ae7-37a45957d720",
   "metadata": {},
   "source": [
    "##### e47.* Définissez une fonction indexMax(liste) qui renvoie l'index de l'élément ayant la valeur la plus élevée dans la liste transmise en argument. Exemple d'utilisation :<br> serie = [5, 8, 2, 1, 9, 3, 6, 7] <br> print (indexMax(serie) 4"
   ]
  },
  {
   "cell_type": "code",
   "execution_count": 92,
   "id": "c2139f72-7b47-4491-9e40-2746f391064c",
   "metadata": {},
   "outputs": [
    {
     "data": {
      "text/plain": [
       "4"
      ]
     },
     "execution_count": 92,
     "metadata": {},
     "output_type": "execute_result"
    }
   ],
   "source": [
    "def indexMax(liste):\n",
    "    index = 0\n",
    "    for i in range(len(liste)):\n",
    "        if max(liste)==liste[i]:\n",
    "            index = i\n",
    "            break;\n",
    "    return i\n",
    "serie = [5, 8, 2, 1, 9, 3, 6, 7]\n",
    "indexMax(serie)"
   ]
  },
  {
   "cell_type": "markdown",
   "id": "b0fc5040-2659-4232-a4c9-1bbae9a3574a",
   "metadata": {},
   "source": [
    "##### e48.* Définissez une fonction nomMois(n) qui renvoie le nom du n mois de l'année. Par exemple, l'exécution de l'instruction : <br>6 doit donner le résultat : Avril => Juin\n",
    "##### tips: nieme mois de l'annee\n",
    "* creer une liste des mois puis recuperer les index, puis retourner les valeurs"
   ]
  },
  {
   "cell_type": "code",
   "execution_count": 106,
   "id": "446ecc45-4295-4f34-b1ad-773167e5605b",
   "metadata": {},
   "outputs": [
    {
     "data": {
      "text/plain": [
       "'Juillet'"
      ]
     },
     "execution_count": 106,
     "metadata": {},
     "output_type": "execute_result"
    }
   ],
   "source": [
    "#### function nieme month\n",
    "def nomMois(n):\n",
    "    choice=str()\n",
    "    Month = ['Janvier','Février','Mars','Avril','Mai','Juin','Juillet','Août','Septembre','Octobre','Novembre','Décembre']\n",
    "    for i in range(0, len(Month)):\n",
    "        #print(f\"{i} : {Month[i]}\")\n",
    "        if n== i:\n",
    "            choice = Month[i]\n",
    "    return choice\n",
    "nomMois(6)"
   ]
  },
  {
   "cell_type": "markdown",
   "id": "e7f96f2c-d21d-496b-9139-2882fc680dca",
   "metadata": {},
   "source": [
    "##### e49.* Définissez une fonction inverse(ch) qui permette d'inverser les l'ordre des caractères d'une chaîne quelconque. <br> (La chaîne inversée sera renvoyée au programme appelant)."
   ]
  },
  {
   "cell_type": "code",
   "execution_count": 109,
   "id": "27257fe2-a33b-424a-abd4-50340c6813b0",
   "metadata": {},
   "outputs": [
    {
     "data": {
      "text/plain": [
       "'drahcnalb olleh'"
      ]
     },
     "execution_count": 109,
     "metadata": {},
     "output_type": "execute_result"
    }
   ],
   "source": [
    "# function chaine inversed\n",
    "def inverse(ch):\n",
    "    ich = str()\n",
    "    for i in ch:\n",
    "        ich = i + ich\n",
    "    return ich\n",
    "\n",
    "# test\n",
    "inverse(\"hello blanchard\") "
   ]
  },
  {
   "cell_type": "markdown",
   "id": "66bd7e99-a98a-473e-bd8e-f84aa2d463fa",
   "metadata": {},
   "source": [
    "##### e50.* Définissez une fonction compteMots(ph) qui renvoie le nombre de mots contenus dans la phrase ph <br>(On considère comme mots les ensembles de caractères inclus entre des espaces)."
   ]
  },
  {
   "cell_type": "code",
   "execution_count": 127,
   "id": "c12e3209-2132-43b0-8a37-ed2f614f5d24",
   "metadata": {},
   "outputs": [
    {
     "data": {
      "text/plain": [
       "5"
      ]
     },
     "execution_count": 127,
     "metadata": {},
     "output_type": "execute_result"
    }
   ],
   "source": [
    "def compteMots(ph):\n",
    "    c = ph.count(\" \")\n",
    "    return c+1\n",
    "\n",
    "# test\n",
    "compteMots(\"hello b a b a\") "
   ]
  },
  {
   "cell_type": "markdown",
   "id": "6654001e-7847-4b5e-826d-7d9d1ede1f84",
   "metadata": {},
   "source": [
    "##### e51.* Modifiez la fonction volBoite(x1,x2,x3) que vous avez définie dans un exercice précédent, de manière à ce qu'elle puisse être appelée avec trois, deux, un seul, ou même aucun argument. <br> Utilisez pour ceux-ci des valeurs par défaut égales à) 10. Par exemple :\n",
    "* print(volBoite()) doit donner le résultat : 1000\n",
    "* print(volBoite(5.2)) doit donnerle résultat : 520.0\n",
    "* print(volBoite(5.2,3) doit donnerle résultat : 156.0"
   ]
  },
  {
   "cell_type": "code",
   "execution_count": 131,
   "id": "821b1f8d-49f5-47de-826c-c9f6a9f011e6",
   "metadata": {},
   "outputs": [
    {
     "name": "stdout",
     "output_type": "stream",
     "text": [
      "1000\n",
      "520.0\n",
      "156.0\n"
     ]
    }
   ],
   "source": [
    "# function VolBoite with default values\n",
    "def volBoite(x1=10,x2=10,x3=10):\n",
    "    return x1*x2*x3\n",
    "# test\n",
    "print(volBoite())\n",
    "print(volBoite(5.2))\n",
    "print(volBoite(5.2,3))"
   ]
  },
  {
   "cell_type": "markdown",
   "id": "96c1b182-98c7-4c55-ae20-bfac56161038",
   "metadata": {},
   "source": [
    "##### e52.** Modifiez la fonction volBoite(x1,x2,x3) ci-dessus de manière à ce qu'elle puisse être appelée avec un, deux, ou trois arguments. Si un seul est utilisé, la boîte est considérée comme cubique (l'argument étant l'arête de ce cube). Si deux sont utilisés, la boîte est considérée comme un prisme à base carrée. (Dans ce cas le premier argument est le côté du carré, et le second la hauteur du prisme). Si trois arguments sont utilisés, la boîte est considérée comme un parallélépipède. Par exemple :<br>\n",
    "* print (volBoite()) doit donner le résultat : -1 (→ indication d'une erreur).\n",
    "* print (volBoite(5.2)) doit donnerle résultat : 140.608\n",
    "* print (volBoite(5.2, 3)) doit donner le résultat : 81.12\n",
    "* print (volBoite(5.2, 3, 7.4)) doit donnerle résultat : 115.44"
   ]
  },
  {
   "cell_type": "code",
   "execution_count": 135,
   "id": "c58a4041-8cc3-4518-9b28-27c2548543a7",
   "metadata": {},
   "outputs": [
    {
     "name": "stdout",
     "output_type": "stream",
     "text": [
      "Erreur\n",
      "140.608\n",
      "81.12\n",
      "115.44000000000001\n"
     ]
    }
   ],
   "source": [
    "# function volBoite\n",
    "def volBoite(x1=-1,x2=-1,x3=-1):\n",
    "    if x1 ==-1:\n",
    "        return \"Erreur\"\n",
    "    elif x2==-1 :\n",
    "        return x1**3\n",
    "    elif x3 ==-1 :\n",
    "        return x1*x1*x2\n",
    "    else:\n",
    "        return x1*x2*x3\n",
    "\n",
    "# test\n",
    "print (volBoite()) \n",
    "print (volBoite(5.2)) \n",
    "print (volBoite(5.2, 3)) \n",
    "print (volBoite(5.2, 3, 7.4)) "
   ]
  },
  {
   "cell_type": "markdown",
   "id": "30b05b51-6f01-4625-82e0-cdd814c075a5",
   "metadata": {},
   "source": [
    "##### e53.* Définissez une fonction changeCar(ch,ca1,ca2,debut,fin) qui remplace tous les caractères ca1 par des caractères ca2 dans la chaîne de caractères ch, à partir de l'indice debut et jusqu'à l'indice fin, ces deux derniers arguments pouvant être omis (et dans ce cas la chaîne est traitée d'une extrémité à l'autre). Exemples de la fonctionnalité attendue :\n",
    "* phrase = 'Ceci est une toute petite phrase.'\n",
    "* print changeCar(phrase, ' ', '*')\n",
    "Ceci * est * une * toute * petite * phrase.\n",
    "* print changeCar(phrase, ' ', '*', 8, 12)\n",
    "Ceci est * une * toute petite phrase.\n",
    "* print changeCar(phrase, ' ', '*', 12)\n",
    "Ceci est une * toute * petite * phrase.\n",
    "* print changeCar(phrase, ' ', '*', fin = 12)\n",
    "Ceci * est * une * toute petite phrase."
   ]
  },
  {
   "cell_type": "code",
   "execution_count": 156,
   "id": "e61a2372-e916-49c3-a10a-e1861ec39c23",
   "metadata": {},
   "outputs": [
    {
     "name": "stdout",
     "output_type": "stream",
     "text": [
      "Ceci*est*une*toute*petite*phrase\n",
      "Ceci est*une*toute petite phrase\n",
      "Ceci est une*toute*petite*phrase\n",
      "Ceci*est*une*toute petite phrase\n"
     ]
    }
   ],
   "source": [
    "# \"Remplace tous les caractères ca1 par des ca2 dans la chaîne ch\"\n",
    "\n",
    "def changeCar(ch,ca1,ca2,debut=0,fin=-1):\n",
    "    if fin==-1:\n",
    "        fin = len(ch)\n",
    "    nch=str()\n",
    "    i=0\n",
    "    # for i in range(debut, len(ch)):\n",
    "    while i< len(ch):\n",
    "        if i>=debut and i<= fin and ch[i]==ca1:\n",
    "            nch = nch + ca2\n",
    "        else:\n",
    "            nch = nch + ch[i]\n",
    "        i=i+1\n",
    "    return nch\n",
    "\n",
    "# test :\n",
    "print((changeCar(\"Ceci est une toute petite phrase\", \" \", \"*\")))\n",
    "print((changeCar(\"Ceci est une toute petite phrase\", \" \", \"*\", 8, 12)))\n",
    "print((changeCar(\"Ceci est une toute petite phrase\", \" \", \"*\", 12)))\n",
    "print((changeCar(\"Ceci est une toute petite phrase\", \" \", \"*\", fin =12)))"
   ]
  },
  {
   "cell_type": "markdown",
   "id": "39e2e7fd-68fb-4673-a4f5-f84d9579e1e8",
   "metadata": {},
   "source": [
    "##### e54.* Définissez une fonction eleMax(liste,debut,fin) qui retourne l'élément ayant la plus grandevaleur dans la liste transmise. Les deux arguments debut et fin indiqueront les indices entre lesquels doit s'exercer la recherche, et chacun d'eux pourra être omis (comme dans l'exercice précédent). Exemples de la fonctionnalité attendue :<br>\n",
    "serie = [9, 3, 6, 1, 7, 5, 4, 8, 2]<br>\n",
    "print(eleMax(serie))<br>\n",
    " 9<br>\n",
    "print eleMax(serie, 2, 5)<br>\n",
    "7<br>\n",
    "print eleMax(serie, 2)<br> 8<br>\n",
    "print eleMax(serie, fin =3, debut =1)<br>\n",
    "6"
   ]
  },
  {
   "cell_type": "code",
   "execution_count": 173,
   "id": "576bcde8-7cc3-4a68-9e91-abb0fd00269f",
   "metadata": {},
   "outputs": [
    {
     "name": "stdout",
     "output_type": "stream",
     "text": [
      "9\n",
      "7\n",
      "8\n",
      "6\n"
     ]
    }
   ],
   "source": [
    "#  \"renvoie le plus grand élément de la liste lst\"\n",
    "def eleMax(liste,debut=0,fin=-1):\n",
    "    # if fin==-1:\n",
    "    #     fin = len(liste)\n",
    "    # maxi,i = 0, 0\n",
    "    # while i<len(liste):\n",
    "    #     if i>=debut and i<=fin and maxi<liste[i]:\n",
    "    #         maxi = liste[i]\n",
    "    #     i+=1\n",
    "    # return maxi\n",
    "    \n",
    "    if fin==-1:\n",
    "        fin = len(liste)\n",
    "    L,i = [], 0\n",
    "    while i<len(liste):\n",
    "        if i>=debut and i<=fin:\n",
    "            L.append(liste[i])\n",
    "        i+=1\n",
    "    return max(L)\n",
    "\n",
    "# testing\n",
    "serie = [9, 3, 6, 1, 7, 5, 4, 8, 2]\n",
    "print(eleMax(serie))\n",
    "print(eleMax(serie, 2, 5))\n",
    "print(eleMax(serie, 2))\n",
    "print(eleMax(serie, fin =3, debut =1))"
   ]
  },
  {
   "cell_type": "markdown",
   "id": "4c11d629-4862-4416-95b8-4bec4eae5694",
   "metadata": {},
   "source": [
    "\n",
    "    \n",
    "e56.** Considérons que vous avez à votre disposition un fichier texte contenant des phrases de\n",
    "différentes longueurs. Écrivez un script qui recherche et affiche la phrase la plus longue.\n",
    "e57.** Écrivez un script qui génère automatiquement un fichier texte contenant les tables de\n",
    "multiplication de 2 à 30 (chacune d'entre elles incluant 20 termes seulement).\n",
    "e 58. ** Écrivez un script qui recopie un fichier texte en triplant tous les espaces entre les mots.\n",
    "e59.** Vous avez à votre disposition un fichier texte dont chaque ligne est la représentation\n",
    "d'une valeur numérique de type réel (mais sans exposants). Par exemple :\n",
    "14.896\n",
    "7894.6\n",
    "123.278\n",
    "etc.\n",
    "Écrivez un script qui recopie ces valeurs dans un autre fichier en les arrondissant en nombres\n",
    "entiers (l'arrondi doit être correct)."
   ]
  },
  {
   "cell_type": "markdown",
   "id": "6642aa4d-8904-42df-8f8d-46dc68d81516",
   "metadata": {},
   "source": [
    "##### e55.** Écrivez un script qui permette de créer et de relire aisément un fichier texte. Votre programme demandera d'abord à l'utilisateur d'entrer le nom du fichier. Ensuite il lui proposera le choix, soit d'enregistrer de nouvelles lignes de texte, soit d'afficher le contenu du fichier. L'utilisateur devra pouvoir entrer ses lignes de texte successives en utilisant simplement la touche \"<Enter \" pour les séparer les unes des autres. Pour terminer les entrées, il lui suffira d'entrer une ligne vide (c.à.d. d'utiliser la touche \"<Enter\" seule). L'affichage du contenu devra montrer les lignes du fichier séparées les unes des autres de la manière la plus naturelle (les codes de fin de ligne ne doivent pas apparaître)."
   ]
  },
  {
   "cell_type": "code",
   "execution_count": 174,
   "id": "d605ab39-42db-4680-a97f-fc1b9d8117b7",
   "metadata": {},
   "outputs": [
    {
     "name": "stdin",
     "output_type": "stream",
     "text": [
      "Enter Name File test.txt\n",
      "Make choice , 'a' for editing 'r' for reading a\n",
      "Tapez vos characteres hello worl\n",
      "Tapez vos characteres \n"
     ]
    }
   ],
   "source": [
    "# function Editor, write and read file\n",
    "def without_letter_end():\n",
    "    nligne = str()\n",
    "    for i in range(0, len(ligne)-1):\n",
    "        nligne = nligne + ligne[i]\n",
    "    return nligne\n",
    "\n",
    "def write_in_file():\n",
    "    op = open(nameF, 'a')\n",
    "    while True:\n",
    "        ligne = input(\"Tapez vos characteres\")\n",
    "        if ligne ==str():\n",
    "            break;\n",
    "        else:\n",
    "            op.write(ligne + '\\n')\n",
    "        op.close()\n",
    "        \n",
    "def read_in_file():\n",
    "    op = open(nameF, 'r')\n",
    "    while True:\n",
    "        ligne = op.readline()\n",
    "        if ligne ==str():\n",
    "            break;\n",
    "        else:\n",
    "            print(without_letter_end(ligne))\n",
    "        op.close()\n",
    "        \n",
    "nameF = input(\"Enter Name File\")\n",
    "choice = input(\"Make choice , 'a' for editing 'r' for reading\")\n",
    "if choice == \"a\":\n",
    "    write_in_file()\n",
    "elif choice == \"r\":\n",
    "    read_in_file()\n",
    "else:\n",
    "    print(\"choose 'a' or 'r'\")"
   ]
  },
  {
   "cell_type": "code",
   "execution_count": null,
   "id": "87c63aac-ce5c-4116-ac86-4e5f53e9147d",
   "metadata": {},
   "outputs": [],
   "source": []
  },
  {
   "cell_type": "code",
   "execution_count": null,
   "id": "0af3a2fb-0007-4483-8568-295ee4e3cfba",
   "metadata": {},
   "outputs": [],
   "source": []
  },
  {
   "cell_type": "code",
   "execution_count": null,
   "id": "b7a94975-431a-427c-bf36-66d5fa72ff86",
   "metadata": {},
   "outputs": [],
   "source": []
  },
  {
   "cell_type": "code",
   "execution_count": null,
   "id": "52bcb23b-4877-497a-bf90-80c3bb492504",
   "metadata": {},
   "outputs": [],
   "source": []
  },
  {
   "cell_type": "code",
   "execution_count": null,
   "id": "cff52265-06b9-4173-a4c7-fa46066c38d5",
   "metadata": {},
   "outputs": [],
   "source": []
  },
  {
   "cell_type": "code",
   "execution_count": null,
   "id": "6594624d-943b-4e11-8f87-9f7bb6bcec6c",
   "metadata": {},
   "outputs": [],
   "source": []
  }
 ],
 "metadata": {
  "kernelspec": {
   "display_name": "Python 3 (ipykernel)",
   "language": "python",
   "name": "python3"
  },
  "language_info": {
   "codemirror_mode": {
    "name": "ipython",
    "version": 3
   },
   "file_extension": ".py",
   "mimetype": "text/x-python",
   "name": "python",
   "nbconvert_exporter": "python",
   "pygments_lexer": "ipython3",
   "version": "3.8.5"
  }
 },
 "nbformat": 4,
 "nbformat_minor": 5
}
