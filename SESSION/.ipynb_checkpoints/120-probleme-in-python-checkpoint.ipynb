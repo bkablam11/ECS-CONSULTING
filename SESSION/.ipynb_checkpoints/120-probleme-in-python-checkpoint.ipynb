{
 "cells": [
  {
   "cell_type": "markdown",
   "id": "df209f7f-0bbe-4ea8-ab47-5cbf67fc07e0",
   "metadata": {},
   "source": [
    "\n",
    "\n",
    "\n",
    "\n",
    "\n",
    "\n",
    "\n",
    "\n",
    "\n",
    "\n",
    "\n",
    "\n",
    "\n",
    "\n",
    "\n",
    "\n",
    "\n",
    "\n",
    " \n",
    "\n",
    "\n",
    "\n",
    "\n",
    "\n",
    "\n",
    "\n",
    "\n",
    " e23.* Écrivez un programme qui affiche \"proprement\" tous les éléments d'une liste. Si on\n",
    "l'appliquait par exemple à la liste t2 de l'exercice ci-dessus, on devrait obtenir :\n",
    "Janvier Février Mars Avril Mai Juin Juillet Août Septembre Octobre Novembre Décembre\n",
    " e24. * Écrivez un programme qui recherche le plus grand élément présent dans une liste donnée.\n",
    "Par exemple, si on l'appliquait à la liste [32, 5, 12, 8, 3, 75, 2, 15], ce programme devrait afficher :\n",
    " Le plus grand élément de cette liste a la valeur 75.\n",
    "\n",
    "\n",
    "\n",
    "\n",
    "\n",
    "\n",
    " e25. * Écrivez un programme qui analyse un par un tous les éléments d'une liste de nombres (par\n",
    "exemple celle de l'exercice précédent) pour générer deux nouvelles listes. L'une contiendra\n",
    "seulement les nombres pairs de la liste initiale, et l'autre les nombres impairs. Par exemple, si\n",
    "la liste initiale est celle de l'exercice précédent, le programme devra construire une liste paire\n",
    "qui contiendra [32, 12, 8, 2], et une liste impaire qui contiendra [5, 3, 75, 15]. Astuce : pensez\n",
    "à utiliser l'opérateur modulo (%) déjà cité précédemment.\n",
    " e 26.* Écrivez un programme qui analyse un par un tous les éléments d'une liste de mots (par\n",
    "exemple : ['Jean', 'Maximilien', 'Brigitte', 'Sonia', 'Jean-Pierre', 'Sandra'] pour générer deux\n",
    "nouvelles listes. L'une contiendra les mots comportant moins de 6 caractères, l'autre les mots\n",
    "comportant 6 caractères ou davantage.\n",
    " e27.* Écrivez un programme qui convertisse en mètres par seconde et en km/h une vitesse\n",
    "fourniepar l'utilisateur en miles/heure. (Rappel : 1 mile = 1609 mètres)\n",
    "e 28.* Écrivez un programme qui calcule le périmètre et l’aire d’un triangle quelconque dont\n",
    "l'utilisateur fournit les 3 côtés.(Rappel : l’aire d’un triangle quelconque se calcule à l'aide de la\n",
    "formule : S = RACINECARREE(d .(d-a).(d-b).(d-c)).\n",
    " dans laquelle d désigne la longueur du demi-périmètre, et a, b, c celles des trois côtés.)\n",
    "e29.* Écrivez un programme qui calcule la période d'un pendule simple de longueur donnée. La\n",
    "formule qui permet de calculer la période d'un pendule simple est T = 2.pi. RACINECARREE(l/g),\n",
    "l représentant la longueur du pendule et g la valeur de l'accélération de la pesanteur au lieu\n",
    "d'expérience.\n",
    " e 30.* Écrivez un programme qui permette d'encoder des valeurs dans une liste. Ce programme\n",
    "devrait fonctionner en boucle, l'utilisateur étant invité à entrer sans cesse de nouvelles\n",
    "valeurs, jusqu'à ce qu'il décide de terminer en frappant <enter> en guise d'entrée. Le\n",
    "programme se terminerait alors par l'affichage de la liste. Exemple de fonctionnement :\n",
    "Veuillez entrer une valeur : 25\n",
    "\n",
    "Veuillez entrer une valeur : 18\n",
    "\n",
    "Veuillez entrer une valeur : 6284\n",
    "\n",
    "Veuillez entrer une valeur :\n",
    "[25, 18, 6284]\n",
    "e31.* Que fait le programme ci-dessous, dans les quatre cas où l'on aurait défini au préalable que la\n",
    "variable a vaut 1, 2, 3 ou 15 ?\n",
    " if != 2 :\n",
    " print(‘perdu’)\n",
    " elif (a==3):\n",
    " print (‘un instant,s.v.p’)\n",
    "\n",
    " else :\n",
    " print(‘gagné’)\n",
    "e32.* Que font ces programmes ?\n",
    "a) a = 5\n",
    " b = 2\n",
    "if (a==5) & (b<2): print (‘”&”\n",
    "signifie “e”; on peut\n",
    "aussi utiliser le mot\n",
    "“and” ’)\n",
    "\n",
    "b) a, b = 2, 4\n",
    "if (a==4) or (b!=4): print\n",
    "('gagné')\n",
    "elif (a==4) or (b==4): print 'presque\n",
    "gagné'\n",
    "c) a = 1\n",
    "if not a:\n",
    "print ('gagné')\n",
    " elif a:\n",
    "print ('perdu')\n",
    "Reprendre le programme c) avec a = 0 au lieu de a = 1. Que se passe-t-il ? Conclure !\n",
    "e33.** Écrire un programme qui, étant données deux bornes entières a et b, additionne les nombres\n",
    "multiples de 3 et de 5 compris entre ces bornes.\n",
    "Prendre par exemple a = 0, b = 32 → le résultat devrait être alors 0 + 15 + 30 = 45.\n",
    "Modifier légèrement ce programme pour qu'il additionne les nombres multiples de 3 ou de 5\n",
    "compris entre les bornes a et b. Avec les bornes 0 et 32, le résultat devrait donc être : 0 + 3 +\n",
    "5 + 6 + 9 + 10 + 12 + 15 + 18 + 20 + 21 + 24 + 25 + 27 + 30 = 225.\n",
    "e34.* Déterminer si une année (dont le millésime est introduit par l'utilisateur) est bissextile ou\n",
    "non. (Une année A est bissextile si A est divisible par 4. Elle ne l'est cependant pas si A est un\n",
    "multiple de 100, à moins que A ne soit multiple de 400).\n",
    "e35.* Demander à l'utilisateur son nom et son sexe (M ou F). En fonction de ces données, afficher\n",
    "\"Cher Monsieur\" ou \"Chère Mademoiselle\" suivi du nom de l'élève.\n",
    "e36.* Demander à l'utilisateur d'entrer trois longueurs a, b, c. A l'aide de ces trois longueurs,\n",
    "déterminer s'il est possible de construire un triangle. Déterminer ensuite si ce triangle est\n",
    "rectangle, isocèle, équilatéral ou quelconque. Attention : un triangle rectangle peut être\n",
    "isocèle.\n",
    " e37.* Demander à l'utilisateur qu'il entre un nombre. Afficher ensuite : soit la racine carrée\n",
    "de cenombre, soit un message indiquant que la racine carrée de ce nombre ne peut être\n",
    "calculée.\n",
    " e38.*Convertir une note scolaire N quelconque, entrée par l'utilisateur sous forme de points\n",
    "(parexemple 27 sur 85), en une note standardisée suivant le code suivant :\n",
    "Note Appréciation\n",
    "N >= 80 % A\n",
    "80 % > N >= 60 % B\n",
    "60 % > N >= 50 % C\n",
    "50 % > N >= 40 % D\n",
    "N < 40 % E\n",
    " e39.* Soit la liste suivante : ['Jean-Michel', 'Marc', 'Vanessa', 'Anne', Maximilien', 'AlexandreBenoît', 'Louise']. Ecrivez un script qui affiche chacun de ces noms avec le nombre de\n",
    "caractères correspondant.\n",
    " e40.** Écrire une boucle de programme qui demande à l'utilisateur d'entrer des notes d'élèves. La\n",
    "boucle se terminera seulement si l'utilisateur entre une valeur négative. Avec les notes ainsi\n",
    "entrées, construire progressivement une liste. Après chaque entrée d'une nouvelle note (et\n",
    "donc à chaque itération de la boucle), afficher le nombre de notes entrées, la note la plus\n",
    "élevée, la note la plus basse, la moyenne de toutes les notes.\n",
    " e41.** Ecrivez un script qui affiche la valeur de la force de gravitation s'exerçant entre deux masses\n",
    "de 10000 kg, pour des distances qui augmentent suivant une progression géométrique de\n",
    "raison 2, à partir de 5 cm (0,05 mètre).\n",
    " La force de gravitation est régie par la formule F = 6.6710-10 .m.m’\n",
    "/d2\n",
    " Exemple d'affichage :\n",
    "d = .05 m : la force vaut 2.668 N\n",
    "d = .01 m : la force vaut 0.667 N\n",
    "d = .02 m : la force vaut 0.167 N\n",
    "d = .04 m : la force vaut 0.0417 N\n",
    "etc.\n",
    "e42.* Définissez une fonction ligneCar(n, ca) qui renvoie une chaîne de n caractères ca.\n",
    "e43.* Définissez une fonction surfCercle(R). Cette fonction doit renvoyer la surface (l'aire) d'un\n",
    "cercle dont on lui a fourni le rayon R en argument. Par exemple, l'exécution de l'instruction :\n",
    "print( surfCercle(2.5)) doit donnerle résultat 19.635.\n",
    "e 44.* Définissez une fonction volBoite(x1,x2,x3) qui renvoie le volume d'une boîte\n",
    "parallélépipédique dont on fournit les trois dimensions x1, x2, x3 en arguments.\n",
    "Par exemple, l'exécution de l'instruction :\n",
    " print(volBoite(x1,x2,x3) ) doit donnerle résultat.\n",
    "e45.* Définissez une fonction maximum(n1,n2,n3) qui renvoie le plus grand de 3 nombres n1, n2, n3\n",
    "fournis en arguments. Par exemple, l'exécution de l'instruction :\n",
    " print( maximum(2, 5, 4) ) doit donner le résultat : 5\n",
    "\n",
    "\n",
    "\n",
    "\n",
    "\n",
    "\n",
    "e46.* Définissez une fonction compteCar(ca,ch) qui renvoie le nombre de fois que l'on rencontre le\n",
    "caractère ca dans la chaîne de caractères ch. Par exemple, l'exécution de l'instruction :\n",
    "print( compteCar('e','Cette phrase est un exemple')) doit donner le résultat : 7\n",
    "e47.* Définissez une fonction indexMax(liste) qui renvoie l'index de l'élément ayant la valeur la\n",
    "plus élevée dans la liste transmise en argument. Exemple d'utilisation :\n",
    "serie = [5, 8, 2, 1, 9, 3, 6, 7]\n",
    "print (indexMax(serie) 4\n",
    "e48.* Définissez une fonction nomMois(n) qui renvoie le nom du n mois de l'année.\n",
    "Par exemple, l'exécution de l'instruction :\n",
    " 6 doit donner le résultat : Avril\n",
    "e49.* Définissez une fonction inverse(ch) qui permette d'inverser les l'ordre des caractères d'une\n",
    "chaîne quelconque. (La chaîne inversée sera renvoyée au programme appelant).\n",
    "e50.* Définissez une fonction compteMots(ph) qui renvoie le nombre de mots contenus dans la\n",
    "phrase ph (On considère comme mots les ensembles de caractères inclus entre des espaces).\n",
    " e51.* Modifiez la fonction volBoite(x1,x2,x3) que vous avez définie dans un exercice précédent,\n",
    "de manière à ce qu'elle puisse être appelée avec trois, deux, un seul, ou même aucun\n",
    "argument. Utilisez pour ceux-ci des valeurs par défaut égales à) 10.\n",
    "Par exemple :\n",
    " print(volBoite()) doit donner le résultat : 1000\n",
    " print(volBoite(5.2)) doit donnerle résultat : 520.0\n",
    " print(volBoite(5.2,3) doit donnerle résultat : 156.0\n",
    " e52.** Modifiez la fonction volBoite(x1,x2,x3) ci-dessus de manière à ce qu'elle puisse être\n",
    "appeléeavec un, deux, ou trois arguments. Si un seul est utilisé, la boîte est considérée comme\n",
    "cubique (l'argument étant l'arête de ce cube). Si deux sont utilisés, la boîte est considérée\n",
    "comme un prisme à base carrée. (Dans ce cas le premier argument est le côté du carré, et le\n",
    "second la hauteur du prisme). Si trois arguments sont utilisés, la boîte est considérée comme\n",
    "un parallélépipède. Par exemple :\n",
    "print (volBoite()) doit donner le résultat : -1 (→ indication d'une erreur).\n",
    "print (volBoite(5.2)) doit donnerle résultat : 140.608\n",
    "print (volBoite(5.2, 3)) doit donner le résultat : 81.12\n",
    "print (volBoite(5.2, 3, 7.4)) doit donnerle résultat : 115.44\n",
    " e53.* Définissez une fonction changeCar(ch,ca1,ca2,debut,fin) qui remplace tous les caractères\n",
    "ca1 par des caractères ca2 dans la chaîne de caractères ch, à partir de l'indice debut et jusqu'à\n",
    "l'indice fin, ces deux derniers arguments pouvant être omis (et dans ce cas la chaîne est traitée\n",
    "d'une extrémité à l'autre). Exemples de la fonctionnalité attendue :\n",
    ">>> phrase = 'Ceci est une toute petite phrase.'\n",
    ">>> print changeCar(phrase, ' ', '*')\n",
    "Ceci*est*une*toute*petite*phrase.\n",
    ">>> print changeCar(phrase, ' ', '*', 8, 12)\n",
    "Ceci est*une*toute petite phrase.\n",
    ">>> print changeCar(phrase, ' ', '*', 12)\n",
    "Ceci est une*toute*petite*phrase.\n",
    ">>> print changeCar(phrase, ' ', '*', fin = 12)\n",
    "Ceci*est*une*toute petite phrase.\n",
    "e54.* Définissez une fonction eleMax(liste,debut,fin) qui retourne l'élément ayant la plus grande\n",
    "valeur dans la liste transmise. Les deux arguments debut et fin indiqueront les indices entre\n",
    "lesquels doit s'exercer la recherche, et chacun d'eux pourra être omis (comme dans l'exercice\n",
    "précédent). Exemples de la fonctionnalité attendue :\n",
    ">>> serie = [9, 3, 6, 1, 7, 5, 4, 8, 2]\n",
    ">>>print(eleMax(serie))\n",
    " 9\n",
    ">>> print eleMax(serie, 2, 5)\n",
    "7\n",
    ">>> print eleMax(serie, 2) 8\n",
    ">>> print eleMax(serie, fin =3, debut =1)\n",
    "6\n",
    "e55.** Écrivez un script qui permette de créer et de relire aisément un fichier texte. Votre\n",
    "programme demandera d'abord à l'utilisateur d'entrer le nom du fichier. Ensuite il lui\n",
    "proposera le choix, soit d'enregistrer de nouvelles lignes de texte, soit d'afficher le contenu\n",
    "du fichier.\n",
    " L'utilisateur devra pouvoir entrer ses lignes de texte successives en utilisant simplement la\n",
    "touche <Enter> pour les séparer les unes des autres. Pour terminer les entrées, il lui suffira\n",
    "d'entrer une ligne vide (c.à.d. d'utiliser la touche <Enter> seule).\n",
    " L'affichage du contenu devra montrer les lignes du fichier séparées les unes des autres de la\n",
    "manière la plus naturelle (les codes de fin de ligne ne doivent pas apparaître).\n",
    "e56.** Considérons que vous avez à votre disposition un fichier texte contenant des phrases de\n",
    "différentes longueurs. Écrivez un script qui recherche et affiche la phrase la plus longue.\n",
    "e57.** Écrivez un script qui génère automatiquement un fichier texte contenant les tables de\n",
    "multiplication de 2 à 30 (chacune d'entre elles incluant 20 termes seulement).\n",
    "e 58. ** Écrivez un script qui recopie un fichier texte en triplant tous les espaces entre les mots.\n",
    "e59.** Vous avez à votre disposition un fichier texte dont chaque ligne est la représentation\n",
    "d'une valeur numérique de type réel (mais sans exposants). Par exemple :\n",
    "14.896\n",
    "7894.6\n",
    "123.278\n",
    "etc.\n",
    "Écrivez un script qui recopie ces valeurs dans un autre fichier en les arrondissant en nombres\n",
    "entiers (l'arrondi doit être correct).\n",
    "e60.** Écrivez un script qui compare les contenus de deux fichiers et signale la première différence\n",
    "rencontrée.\n",
    "e61.*** A partir de deux fichiers préexistants A et B, construisez un fichier C qui contienne\n",
    "alternativement un élément de A, un élément de B, un élément de A, ... et ainsi de suite jusqu'à\n",
    "atteindre la fin de l'un des deux fichiers originaux. Complétez ensuite C avec les éléments\n",
    "restant sur l'autre.\n",
    "e62.** Écrivez un script qui permette d'encoder un fichier texte dont les lignes contiendront chacune\n",
    "les noms, prénom, adresse, code postal et n° de téléphone de différentes personnes\n",
    "(considérez par exemple qu'il s'agit des membres d'un club)\n",
    "e63.** Écrivez un script qui recopie le fichier utilisé dans l'exercice précédent, en y ajoutant la date\n",
    "de naissance et le sexe des personnes (l'ordinateur devra afficher les lignes une par une, et\n",
    "demander à l'utilisateur d'entrer pour chacune les données complémentaires).\n",
    "e64.*** Considérons que vous avez fait les exercices précédents et que vous disposez à présent d'un\n",
    "fichier contenant les coordonnées d'un certain nombre de personnes. Écrivez un script qui\n",
    "permette d'extraire de ce fichier leslignes qui correspondent à un code postal bien déterminé.\n",
    "e65.*** Modifiez le script de l'exercice précédent, de manière à retrouver les lignes correspondant\n",
    "à des prénoms dont la première lettre est située entre F et M (inclus) dans l'alphabet.\n",
    "e66.*** Écrivez des fonctions qui effectuent le même travail que celles du module pickle. Ces\n",
    "fonctions doivent permettre l'enregistrement de variables diverses dans un fichier texte, en\n",
    "les accompagnant systématiquement d'informations concernant leur format exact.\n",
    "e67.* Déterminez vous-même ce qui se passe lorsque l'un ou l'autre des indices de découpage est\n",
    "erroné, et décrivez cela le mieux possible. (Si le second indice plus petit que le premier, par\n",
    "exemple, ou bien si le second indice est plus grand que la taille de la chaîne).\n",
    "e68.** Découpez une grande chaîne en fragments de 5 caractères chacun. Rassemblez ces morceaux\n",
    "dans l'ordre inverse.\n",
    "e69.* Tâchez d'écrire une petite fonction trouve() qui fera exactement le contraire de ce que fait\n",
    "l'opérateur d'indexage (c.à.d. les crochets [] ). Au lieu de partir d'un index donné pour\n",
    "retrouver le caractère correspondant, cette fonction devra retrouver l'index correspondant à\n",
    "un caractère donné.\n",
    "En d'autres termes, il s'agit d'écrire une fonction qui attend deux arguments : le nom de la\n",
    "chaîne à traiter et le caractère à trouver. La fonction doit fournir en retour l'index du premier\n",
    "caractère de ce type dans la chaîne. Ainsi par exemple, l'instruction :\n",
    " print(trouve (“Juliette & Roméo”, “&”)) devra afficher : 9\n",
    "Attention : Il faut penser à tous les cas possibles. Il faut notamment veiller à ce que la fonction\n",
    "renvoie une valeur particulière (par exemple la valeur -1) si le caractère recherché n'existe\n",
    "pas dans la chaîne traitée.\n",
    "e70.** Améliorez la fonction de l'exercice précédent en lui ajoutant un troisième paramètre : l'index\n",
    "à partir duquel la recherche doit s'effectuer dans la chaîne. Ainsi par exemple, l'instruction :\n",
    " print (trouve(“César & Cléopâtre”, “r”, 5)) devra afficher : 15 (et non 4 !)\n",
    "e71.** Écrivez une fonction comptecar() qui compte le nombre d'occurrences d'un caractère donné\n",
    "dans une chaîne. Ainsi l'instruction :\n",
    " print(comptecar(“Ananas au jus”, “a”)) devra afficher : 4\n",
    "e72.* Dans un conte américain, huit petits canetons s'appellent respectivement : Jack, Kack, Lack,\n",
    "Mack, Nack, Oack, Pack et Qack. Écrivez un script qui génère tous ces noms à partir des deux\n",
    "chaînes suivantes :\n",
    "prefixes = 'JKLMNOP' et suffixe = 'ack'\n",
    "Si vous utilisez une instruction for ... in ... , votre script ne devrait comporter que deux lignes.\n",
    "e73.* Rechercher le nombre de mots contenus dans une phrase donnée.\n",
    " e74.* Écrivez une fonction majuscule() qui retourne \"vrai\" si l'argument transmis est une majuscule.\n",
    " e75.* Écrivez une fonction qui retourne \"vrai\" si l'argument transmis est un chiffre.\n",
    " e.76.* Écrivez une fonction qui convertit une phrase en une liste de mots.\n",
    "e77.** Utilisez les fonctions définies dans les exercices précédents pour écrire un script qui puisse\n",
    "extraire d'un texte tous les mots qui commencent par une majuscule.\n",
    "e78.* Écrivez une fonction majuscule() qui renvoie \"vrai\" si l'argument transmis est une majuscule\n",
    "(utilisez une autre méthode que celle exploitée précédemment)\n",
    "e79.* Écrivez une fonction qui renvoie \"vrai\" si l'argument transmis est un caractère alphabétique\n",
    "quelconque (majuscule ou minuscule). Dans cette nouvelle fonction, utilisez les fonctions\n",
    "minuscule() et majuscule() définies auparavant.\n",
    "e 80.* Écrivez une fonction qui renvoie \"vrai\" si l'argument transmis est un chiffre.\n",
    "e81.* Écrivez une fonction qui renvoie le nombre de caractères majuscules contenus dans une phrase\n",
    "donnée en argument.\n",
    "Afin que vous puissiez effectuer plus aisément toutes sortes de traitements sur les\n",
    "caractères, python met à votre disposition un certain nombre de fonctions prédéfinies : La\n",
    "fonction ord(ch) accepte n'importe quel caractère comme argument. En retour, elle fournit le\n",
    "code ASCII correspondant à ce caractère. Ainsi ord('A') renvoie la valeur 65. La fonction\n",
    "chr(num) fait exactement le contraire. L'argument qu'on lui transmet doit être un entier\n",
    "compris entre 0 et 255. En retour, on obtient le caractère ASCII correspondant : ainsi chr(65)\n",
    "renvoie le caractère A.\n",
    "e82.** Écrivez un petit script qui affiche une table des codes ASCII. Le programme doit afficher tous\n",
    "les caractères en regard des codes correspondants. A partir de cette table, établissez les\n",
    "relations numériques reliant chaque caractère majuscule à chaque caractère minuscule.\n",
    "e83.* A partir des relations trouvées dans l'exercice précédent, écrivez une fonction qui convertit\n",
    "tous les caractères d'une phrase donnée en minuscules.\n",
    "e 84.* A partir des mêmes relations, écrivez une fonction qui convertit tous les caractères minuscules\n",
    "en majuscules, et vice-versa (dans une phrase fournie en argument).\n",
    "e85.* Écrivez une fonction qui compte le nombre de fois qu'apparaît tel caractère (fourni en\n",
    "argument) dans une phrase donnée.\n",
    "e86.* Écrivez une fonction qui renvoie le nombre de voyelles contenues dans une phrase donnée.\n",
    "e87.* Écrivez un script qui compte dans un fichier texte quelconque le nombre de lignes contenant\n",
    "des caractères numériques.\n",
    "e88.* Écrivez un script qui compte le nombre de mots contenus dans un fichier texte.\n",
    "e89.** Écrivez un script qui recopie un fichier texte en veillant à ce que chaque ligne commence par\n",
    "une majuscule.\n",
    "e90.*** Écrivez un script qui recopie un fichier texte en fusionnant (avec la précédente) les lignes\n",
    "qui ne commencent pas par une majuscule.\n",
    "e91.*** Vous disposez d'un fichier contenant des valeurs numériques. Considérez que ces valeurs\n",
    "sont les diamètres d'une série de sphères. Écrivez un script qui utilise les données de ce fichier\n",
    "pour en créer un autre, organisé en lignes de texte qui exprimeront \"en clair\" les autres\n",
    "caractéristiques de ces sphères (surface de section, surface extérieure et volume), dans des\n",
    "phrases telles que :\n",
    "\n",
    "\n",
    "\n",
    "e92.** Vous avez à votre disposition un fichier texte dont les lignes représentent des valeurs\n",
    "numériques de type réel, sans exposant (et encodées sous forme de chaînes de caractères).\n",
    "Écrivez un script qui recopie ces valeurs dans un autre fichier en les arrondissant de telle sorte\n",
    "que leur partie décimale ne comporte plus qu'un seul chiffre après la virgule, celui-ci ne\n",
    "pouvant être que 0 ou 5 (l'arrondi doit être correct).\n",
    "e93.* Écrivez un script qui génère la liste des carrés et des cubes des nombres de 20 à 40.\n",
    "e94.* Écrivez un script qui crée automatiquement la liste des sinus des angles de 0° à 90°, par pas de\n",
    "5°. Attention : la fonction sin() du module math considère que les angles sont fournis en\n",
    "radians (360° = 2 radians).\n",
    " e95.* Écrivez un script qui permette d'obtenir à l'écran les 15 premiers termes des tables de\n",
    "multiplication par 2, 3, 5, 7, 11, 13, 17, 19 (ces nombres seront placés au départ dans une liste)\n",
    "sous la forme d'une table similaire à la suivante :\n",
    "\n",
    "e96.* Vous disposez d'une liste de nombres entiers quelconques, certains d'entre eux étant présents\n",
    "en plusieurs exemplaires. Écrivez un script qui recopie cette liste dans une autre, en omettant\n",
    "les doublons. La liste finale devra être triée.\n",
    "e97.* Écrivez un script qui recherche le mot le plus long dans une phrase donnée (l'utilisateur du\n",
    "programme doit pouvoir entrer une phrase de son choix).\n",
    "e98.* Écrivez un script capable d'afficher la liste de tous les jours d'une année imaginaire, laquelle\n",
    "commencerait un Jeudi. Votre script utilisera lui-même trois listes : une liste des noms de jours\n",
    "de la semaine, une liste des noms des mois, et une liste des nombres de jours que comportent\n",
    "chacun des mois (ne pas tenir compte des années bissextiles).\n",
    " Exemple de sortie :\n",
    "\n",
    "e99.** Vous avez à votre disposition un fichier texte qui contient un certain nombre de noms\n",
    "d'élèves. Écrivez un script qui effectue une copie triée de ce fichier.\n",
    "e100.** Écrivez une fonction permettant de trier une liste. Cette fonction ne pourra pas utiliser la\n",
    "méthode intégrée sort() de Python : Vous devez donc définir vous-même l'algorithme de tri.\n",
    "(Note : cette question devra faire l'objet d'une discussion-synthèse en classe)\n",
    " e101.** Soient les listes suivantes :\n",
    "\n",
    " Écrivez un petit programme qui insère dans la seconde liste tous les éléments de la première,\n",
    "de telle sorte que chaque nom de mois soit suivi du nombre de jours correspondant :\n",
    ".\n",
    "e102.** Créez une liste A contenant quelques éléments. Effectuez une vraie copie de cette liste dans\n",
    "une nouvelle variable B. Suggestion : créez d'abord une liste B de même taille que A mais ne\n",
    "contenant que des zéros. Remplacez ensuite tous ces zéros par les éléments tirés de A.\n",
    "e103.** Même question, mais autre suggestion : créez d'abord une liste B vide. Remplissez-la ensuite\n",
    "à l'aide des éléments de A ajoutés l'un après l'autre.\n",
    "e104.** Même question, autre suggestion encore : pour créer la liste B, découpez dans la liste A une\n",
    "tranche incluant tous les éléments (à l'aide de l'opérateur [:]).\n",
    "e105.** Un nombre premier est un nombre qui n'est divisible que par un et par lui-même. Écrivez\n",
    "un programme qui établisse la liste de tous les nombres premiers compris entre 1 et 1000, en\n",
    "utilisant la méthode du crible d'Eratosthène :\n",
    " Créez une liste de 1000 éléments, chacun initialisé à la valeur 1.\n",
    "Parcourez cette liste à partir de l'élément d'indice 2 : si l'élément analysé possède la valeur 1,\n",
    "mettez à zéro tous les autres éléments de la liste, dont les indices sont des multiples entiers\n",
    "de l'indice auquel vous êtes arrivé. Lorsque vous aurez parcouru ainsi toute la liste, les indices\n",
    "des éléments qui seront restés à 1 seront les nombres premiers recherchés. En effet : A partir\n",
    "de l'indice 2, vous annulez tous les éléments d'indices pairs : 4, 6, 8, 10, etc. Avec l'indice 3,\n",
    "vous annulez les éléments d'indices 6, 9, 12, 15, etc., et ainsi de suite. Seuls resteront à 1 les\n",
    "éléments dont les indices sont effectivement des nombres premiers.\n",
    "e106.** Réécrivez la fonction list_aleat() ci-dessus, en utilisant la méthode append() pour construire\n",
    "la liste petit à petit à partir d'une liste vide (au lieu de remplacer les zéros d'une liste\n",
    "préexistante comme nous l'avons fait).\n",
    "e107.** Ecrivez une fonction imprime_liste() qui permette d'afficher ligne par ligne tous les éléments\n",
    "contenus dans une liste de taille quelconque. Le nom de la liste sera fourni en argument.\n",
    "Utilisez cette fonction pour imprimer la liste de nombres aléatoires générés par la fonction\n",
    "list_aleat(). Ainsi par exemple, l'instruction imprime_liste(liste_aleat(8)) devra afficher une\n",
    "colonne de 8 nombres réels aléatoires.\n",
    "e108.** Vous allez écrire un programme destiné à vérifier le fonctionnement du générateur de\n",
    "nombres aléatoires de Python en appliquant la théorie exposée ci-dessus.\n",
    " Votre programme devra donc :\n",
    " Demander à l'utilisateur le nombre de valeurs à tirer au hasard à l'aide de la fonction random().\n",
    "Il serait intéressant que le programme propose un nombre par défaut (1000 par exemple).\n",
    " Demander à l'utilisateur en combien de fractions il souhaite partager l'intervalle des valeurs\n",
    "possibles (c.à.d. l'intervalle de 0 à 1). Ici aussi, il faudrait proposer un nombre de par défaut (5\n",
    "fractions, par exemple). Vous pouvez également limiter le choix de l'utilisateur à un nombre\n",
    "compris entre 2 et le 1/10 du nombre de valeurs tirées au hasard.\n",
    " Construire une liste de N compteurs (N étant le nombre de fractions souhaitées). Chacun d'eux\n",
    "sera évidemment initialisé à zéro.\n",
    " Tirer au hasard toutes les valeurs demandées, à l'aide de la fonction random() , et mémoriser\n",
    "ces valeurs dans une liste.\n",
    " Mettre en oeuvre un parcours de la liste des valeurs tirées au hasard (boucle), et effectuer un\n",
    "test sur chacune d'elles pour déterminer dans quelle fraction de l'intervalle 0-1 elle se situe.\n",
    "Incrémenter d'une unité le compteur correspondant.\n",
    " Lorsque c'est terminé, afficher l'état de chacun des compteurs.\n",
    "Exemple de résultats affichés par un programme de ce type :\n",
    "Nombre de valeurs à tirer au hasard (défaut = 1000) : 100\n",
    "Nombre de fractions dans l'intervalle 0-1 (entre 2 et 10, défaut =5) : 5 Tirage au sort des 100\n",
    "valeurs ...\n",
    "Comptage des valeurs dans chacune des 5 fractions ... 11 30 25 14 20\n",
    "Nombre de valeurs à tirer au hasard (défaut = 1000) : 10000\n",
    "Nombre de fractions dans l'intervalle 0-1 (entre 2 et 1000, défaut =5) : 5 Tirage au sort des\n",
    "10000 valeurs ...\n",
    "Comptage des valeurs dans chacune des 5 fractions ... 1970 1972 2061 1935 2062\n",
    "e109.* Créez un dictionnaire qui contienne les noms d'une série d'élèves, leur âge et leur taille. Le\n",
    "nom de l'élève servira de clé d'accès. Exprimez l'âge en années (nombre entier), et exprimez\n",
    "la taille en mètres (ainsi vous devrez employer pour celle-ci une variable de type float !).\n",
    "Écrivez un petit script qui affiche le contenu de ce dictionnaire en utilisant le formatage des\n",
    "chaînes de caractères.\n",
    "e110.**Écrivez une fonction qui échange les clés et les valeurs d'un dictionnaire (ce qui permettra\n",
    "par exemple de transformer un dictionnaire anglais/français en un dictionnaire\n",
    "français/anglais).(On suppose que le dictionnaire ne contient pas plusieurs valeurs\n",
    "identiques).\n",
    "e111.** Vous avez à votre disposition un fichier texte quelconque (pas trop gros). Écrivez un script\n",
    "qui compte les occurrences de chacune des lettres de l'alphabet dans ce texte (on ne tiendra\n",
    "pas compte du problème des lettres accentuées)..\n",
    "e112.*** Modifiez le script ci-dessus afin qu'il établisse une table des occurrences de chaque mot\n",
    "dans le texte. Conseil : dans un texte quelconque, les mots ne sont pas seulement séparés par\n",
    "des espaces, mais également par divers signes de ponctuation. Pour simplifier le problème,\n",
    "vous pouvez commencer par remplacer tous les caractères non-alphabétiques par des\n",
    "espaces, et convertir la chaîne résultante en une liste de mots à l'aide de la méthode split().\n",
    "CLASSE\n",
    "e113.** Ecrivez une fonction distance() qui permette de calculer la distance entre deux points.\n",
    "Cette fonction attendra évidemment deux objets Point() comme arguments.\n",
    "e114.** Définissez une classe Domino() qui permette d'instancier des objets simulant les pièces d'un\n",
    "jeu de dominos. Le constructeur de cette classe initialisera les valeurs des points présents sur\n",
    "les deux faces A et B du domino (valeurs par défaut = 0).\n",
    "Deux autres méthodes seront définies :\n",
    "une méthode affiche_points() qui affiche les points présents sur les deux faces\n",
    "une méthode valeur() qui renvoie la somme des points présents sur les 2 faces\n",
    "Exemples d'utilisation de cette classe :\n",
    "e115.** Définissez une classe CompteBancaire(), qui permette d'instancier des objets tels que compte1,\n",
    "compte2, etc. Le constructeur de cette classe initialisera deux attributs d'instance nom et solde, avec les\n",
    "valeurs par défaut 'Dupont' et 1000.\n",
    "Trois autres méthodes seront définies :\n",
    "- depot(somme) permettra d'ajouter une certaine somme au solde\n",
    "- retrait(somme) permettra de retirer une certaine somme du solde\n",
    "- affiche() permettra d'afficher le nom du titulaire et le solde de son\n",
    "compte. Exemples d'utilisation de cette classe :\n",
    "\n",
    "e116.** Définissez une classe Voiture() qui permette d'instancier des objets reproduisant le\n",
    "comportement de voitures automobiles. Le constructeur de cette classe initialisera les\n",
    "attributs d'instance suivants, avec les valeurs par défaut indiquées :\n",
    "marque = 'Ford', couleur = 'rouge', pilote = 'personne', vitesse = 0.\n",
    "Lorsque l'on instanciera un nouvel objet Voiture(), on pourra choisir sa marque et sa couleur,\n",
    "mais pas sa vitesse, ni le nom de son conducteur.\n",
    "Les méthodes suivantes seront définies :\n",
    "- choix_conducteur(nom) permettra de désigner (ou changer) le nom du conducteur\n",
    "- accelerer(taux, duree) permettra de faire varier la vitesse de la voiture. La variation de\n",
    "vitesse obtenue sera égale au produit : taux x duree. Par exemple, si la voiture accélère au\n",
    "taux de 1,3 m/s pendant 20 secondes, son gain de vitesse doit être égal à 26 m/s. Des taux\n",
    "négatifs seront acceptés (ce qui permettra de décélérer). La variation de vitesse ne sera pas\n",
    "autorisée si le conducteur est 'personne'.\n",
    "- affiche_tout() permettra de faire apparaître les propriétés présentes de la voiture, c.à.d. sa\n",
    "marque, sa couleur, le nom de son conducteur, sa vitesse.\n",
    "Exemples d'utilisation de cette classe :\n",
    "\n",
    "e117.** Définissez une classe Satellite() qui permette d'instancier des objets simulant des satellites\n",
    "artificiels lancés dans l'espace, autour de la terre. Le constructeur de cette classe initialisera\n",
    "les attributs d'instance suivants, avec les valeurs par défaut indiquées :\n",
    "masse = 100, vitesse = 0.\n",
    "Lorsque l'on instanciera un nouvel objet Satellite(), on pourra choisir son nom, sa masse et\n",
    "sa vitesse.\n",
    "Les méthodes suivantes seront définies :\n",
    "- impulsion(force, duree) permettra de faire varier la vitesse du satellite. Pour savoir comment,\n",
    "rappelez-vous votre cours de physique : la variation de vitesse subie par un\n",
    "\n",
    "objet de masse m soumis à l'action d'une force F pendant un temps t vaut .........................Par\n",
    "exemple : un satellite de 300 kg qui subit une force de 600 Newtons pendant 10 secondes\n",
    "voit sa vitesse augmenter (ou diminuer) de 20 m/s.\n",
    "- affiche_vitesse() affichera le nom du satellite et sa vitesse courante.\n",
    "- energie() renverra au programme appelant la valeur de l'énergie cinétique du satellite.\n",
    "\n",
    "\n",
    "e118.** Définissez une classe Cercle(). Les objets construits à partir de cette classe seront des cercles\n",
    "de tailles variées. En plus de la méthode constructeur (qui utilisera donc un paramètre rayon),\n",
    "vous définirez une méthode surface(), qui devra renvoyer la surface du cercle.\n",
    "Définissez ensuite une classe Cylindre() dérivée de la précédente. Le constructeur de cette\n",
    "nouvelle classe comportera les deux paramètres rayon et hauteur. Vous y ajouterez une\n",
    "méthode volume() qui devra renvoyer le volume du cylindre.\n",
    "(Rappel : Volume d'un cylindre = surface de section x hauteur).\n",
    "Exemple d'utilisation de cette classe :\n",
    ">>> cyl = Cylindre(5, 7)\n",
    ">>> print (cyl.surface() )\n",
    "78.54\n",
    ">>> print( cyl.volume())\n",
    " 549.78\n",
    "e119.** Complétez l'exercice précédent en lui ajoutant encore une classe Cone(), qui devra dériver\n",
    "cette fois de la classe Cylindre(), et dont le constructeur comportera lui aussi les deux\n",
    "paramètres rayon et hauteur. Cette nouvelle classe possédera sa propre méthode volume(),\n",
    "laquelle devra renvoyer le volume du cône.\n",
    "(Rappel : Volume d'un cône = volume du cylindre correspondant divisé par 3).\n",
    "Exemple d'utilisation de cette classe :\n",
    ">>> co = Cone(5,7)\n",
    " >>> pri\n",
    "183.26\n"
   ]
  },
  {
   "cell_type": "markdown",
   "id": "1e2795ab-09ab-4628-a3e6-8344c101d4ce",
   "metadata": {
    "tags": []
   },
   "source": [
    "##### e1. Décrivez le plus clairement et le plus complètement possible ce qui se passe à chacune des trois lignes de l'exemple ci-dessous :\n",
    "largeur = 20 <br>\n",
    "hauteur = 5 * 9.3 <br>\n",
    "largeur * hauteur<br>\n",
    "930\n",
    "\n",
    "##### Reponses\n",
    "* 20 * 5 * 9.3 = 930\n",
    "* la variable \"largeur\" est déclarée et initialisée à 20\n",
    "* la variable \"hauteur\" est déclarée et initialisée à 5*93\n",
    "* On calcule ensuite le produit de \"largeur\" par \"hauteur\""
   ]
  },
  {
   "cell_type": "markdown",
   "id": "bd49a5ff-f860-49ef-9b83-9103dbc40dab",
   "metadata": {},
   "source": [
    "##### e2. Assignez les valeurs respectives 3, 5, 7 à trois variables a, b, c.\n",
    "Effectuez l'opération a - b/c. \n",
    "Le résultat est-il mathématiquement correct ?\n",
    "Si ce n'est pas le cas, comment devez-vous procéder pour qu'il le soit.\n",
    "\n",
    "##### Reponses\n",
    "* le résultat est-il mathématiquement correct car (c=7 qui est different de 0)"
   ]
  },
  {
   "cell_type": "markdown",
   "id": "692ea156-2004-4eb9-b7c5-62ff650bb231",
   "metadata": {},
   "source": [
    " ##### e3. Testez les lignes d'instructions suivantes. Décrivez dans votre cahier ce qui se passe :\n",
    "r, pi = 12, 3.14159\n",
    "s = pi, r**2 <br>\n",
    "print(s) <br>\n",
    "print( type(s), type(pi), type(r) ) <br>\n",
    "\n",
    "Quel est, à votre avis, l'utilité de la fonction type () ?\n",
    "(Note : les fonctions seront décrites en détail, plus loin dans ce cours)\n",
    "\n",
    "##### Reponses\n",
    "> r, pi = 12, 3.14159\n",
    "* On declare les variables \"r\" et \"pi\" et on les initialisent respectivement à 12 et à 3.14149\n",
    "> s = pi, r**2\n",
    "* On declare la variable \"s\" (un couple de deux valeurs) et on l'initialise avec les valeurs de pi = 3.14149 et r au carree r^2 = 12*12 = 144 \n",
    "> print(s)\n",
    "* On affiche la variable \"s\" (un couple de valeurs) i.e (3.14159,144)\n",
    "> print( type(s), type(pi), type(r) )\n",
    "* On affiche les types des variables s, pi, r qui sont respectivement tuple, float, int\n",
    "\n",
    "* la fonction \"type\" permet de connaître le type d'une variable passée en paramètre"
   ]
  },
  {
   "cell_type": "markdown",
   "id": "1aa9ada9-6f9d-453a-9acf-b88941c51c46",
   "metadata": {},
   "source": [
    "##### e4. Ecrivez un programme qui affiche les 20 premiers termes de la table de multiplication par 7.\n",
    "##### tips:\n",
    "* range represents a sequence of integers from start inclusive to **end exclusive**; exemple range (i,j) produces i, i+1, i+2,..., j-1\n",
    "* see more with help(function) ou with shit+tab. ex: help(range): for documentation about function"
   ]
  },
  {
   "cell_type": "code",
   "execution_count": 12,
   "id": "eb28e1c3-2f72-45fa-a942-434f42c17d8d",
   "metadata": {},
   "outputs": [
    {
     "name": "stdin",
     "output_type": "stream",
     "text": [
      "Entrer un nombre 7\n"
     ]
    },
    {
     "name": "stdout",
     "output_type": "stream",
     "text": [
      "******** table de multiplication de 7 : ********\n",
      "7 x 0 = 0 \n",
      "7 x 1 = 7 \n",
      "7 x 2 = 14 \n",
      "7 x 3 = 21 \n",
      "7 x 4 = 28 \n",
      "7 x 5 = 35 \n",
      "7 x 6 = 42 \n",
      "7 x 7 = 49 \n",
      "7 x 8 = 56 \n",
      "7 x 9 = 63 \n",
      "7 x 10 = 70 \n",
      "7 x 11 = 77 \n",
      "7 x 12 = 84 \n",
      "7 x 13 = 91 \n",
      "7 x 14 = 98 \n",
      "7 x 15 = 105 \n",
      "7 x 16 = 112 \n",
      "7 x 17 = 119 \n",
      "7 x 18 = 126 \n",
      "7 x 19 = 133 \n",
      "7 x 20 = 140 \n"
     ]
    }
   ],
   "source": [
    "# programm: 20 premiers termes de la table de multiplication de 7 ou autre nombre\n",
    "number = int(input(\"Entrer un nombre\"))\n",
    "print(f\"******** table de multiplication de {number} : ********\")\n",
    "for i in range (0, 21,1):\n",
    "    print(f\"{number} x {i} = {7*i} \")\n"
   ]
  },
  {
   "cell_type": "markdown",
   "id": "0954df54-e87d-4847-8808-9de75b02a1c1",
   "metadata": {
    "tags": []
   },
   "source": [
    "##### e5. Ecrivez un programme qui affiche une table de conversion de sommes d'argent exprimées en euros, en dollars canadiens. La progression des sommes de la table sera \"géométrique\", comme dans l'exemple ci-dessous :\n",
    "1 euro (s) = 1.65 dollar (s) <br>\n",
    "2 euro (s) = 3.30 dollar (s) <br>\n",
    "4 euro (s) = 6.60 dollar (s) <br>\n",
    "8 euro (s) = 13.20 dollar (s) <br>\n",
    "etc. (S'arrêter à 16384 euros)\n",
    "\n",
    "##### tips: \n",
    "* une suite est definie soit par une formule de recurrence soit par une formule explicite\n",
    "* si u est une suite arithmetique : u(n+1) = u(n) + r ou u(n) = u(0) + n*r\n",
    "* si u est une suite géometrique : u(n+1) = q * u(n) ou u(n) = u(0) + q**n\n",
    "\n",
    "[See More about suite](https://www.mathweb.fr/euclide/fiches-de-cours-de-mathematiques-classe-de-premiere-enseignement-de-specialite/)\n",
    "\n"
   ]
  },
  {
   "cell_type": "code",
   "execution_count": 20,
   "id": "dc5179ad-e5cf-4494-8682-3f998913fa5a",
   "metadata": {},
   "outputs": [
    {
     "name": "stdout",
     "output_type": "stream",
     "text": [
      "u1 = 1.65\n",
      "u2 = 3.3\n",
      "u3 = 6.6\n",
      "u4 = 13.2\n",
      "u5 = 26.4\n",
      "u6 = 52.8\n",
      "u7 = 105.6\n",
      "u8 = 211.2\n",
      "u9 = 422.4\n",
      "u10 = 844.8\n",
      "u11 = 1689.6\n"
     ]
    }
   ],
   "source": [
    "# program: conversion euro to dollard\n",
    "#### U1 = 1.65\n",
    "#### U(n+1) = 2*U(n) avec q = U(n+1)/U(n) = 3.30 / 1.65 = 2\n",
    "#### n va de 1 à 16384\n",
    "#### Methode directe avec la formule de recurrence\n",
    "u = 1.65  # first term\n",
    "q = 2 # raison\n",
    "n = 1 # indice\n",
    "# s = 0 # pour caluler la somme de la suite\n",
    "count = 0\n",
    "print(f\"u{n} = {u}\")\n",
    "for n in range(1, 16384):\n",
    "    u = q * u\n",
    "    # s = s + u\n",
    "    if count < 10:\n",
    "        print(f\"u{n+1} = {u}\")\n",
    "        count+=1\n",
    "\n",
    "# print(f\"la somme est {s}\")\n"
   ]
  },
  {
   "cell_type": "code",
   "execution_count": 21,
   "id": "edc4de2e-be7a-4a62-be33-3566cff09b70",
   "metadata": {},
   "outputs": [
    {
     "data": {
      "text/plain": [
       "[3,\n",
       " 8,\n",
       " 13,\n",
       " 18,\n",
       " 23,\n",
       " 28,\n",
       " 33,\n",
       " 38,\n",
       " 43,\n",
       " 48,\n",
       " 53,\n",
       " 58,\n",
       " 63,\n",
       " 68,\n",
       " 73,\n",
       " 78,\n",
       " 83,\n",
       " 88,\n",
       " 93,\n",
       " 98,\n",
       " 103]"
      ]
     },
     "execution_count": 22,
     "metadata": {},
     "output_type": "execute_result"
    }
   ],
   "source": [
    "#### Methode avec liste suite (geometrique et arithmetique)\n",
    "def suite (firstTerm, raison, ind_final):\n",
    "    u = [firstTerm]\n",
    "    for n in range(ind_final):\n",
    "        firstTerm = firstTerm * raison # geometrique suite\n",
    "        # firstTerm = firstTerm + raison # arithmetique suite \n",
    "        u.append(firstTerm)\n",
    "    return u\n",
    "\n",
    "##### Exemple\n",
    "# u0 = premier terme = 3\n",
    "# q = raison = 5\n",
    "# ind_final = 20 = nombre de terme = 20 terme = u0, u1, u2, ..., u19\n",
    "suite(3, 5, 20)"
   ]
  },
  {
   "cell_type": "markdown",
   "id": "9e1bbfc3-e8c3-4eb2-8629-2951c4d5c02f",
   "metadata": {},
   "source": [
    "##### e6. Ecrivez un programme qui affiche une suite de 12 nombres dont chaque terme soit égal au triple du terme précédent.\n",
    "#### tips:\n",
    "* Quelle est la valeur du premier terme ??"
   ]
  },
  {
   "cell_type": "code",
   "execution_count": 28,
   "id": "6c19a3fa-77c5-453b-abe5-29559a52fb64",
   "metadata": {},
   "outputs": [
    {
     "name": "stdout",
     "output_type": "stream",
     "text": [
      "u0 = 1\n",
      "u1 = 3\n",
      "u2 = 9\n",
      "u3 = 27\n",
      "u4 = 81\n",
      "u5 = 243\n",
      "u6 = 729\n",
      "u7 = 2187\n",
      "u8 = 6561\n",
      "u9 = 19683\n",
      "u10 = 59049\n",
      "u11 = 177147\n",
      "la somme vaut 265719\n"
     ]
    }
   ],
   "source": [
    "# program: triple suite\n",
    "u, q, n, s = 1,3,0,0 # u0 = 1\n",
    "print(f\"u{n} = {u}\")\n",
    "for n in range (11):\n",
    "    u = q * u # u = u*(q**(n+1))\n",
    "    s = s + u \n",
    "    print(f\"u{n+1} = {u}\")\n",
    "\n",
    "print(f\"la somme vaut {s}\")\n"
   ]
  },
  {
   "cell_type": "markdown",
   "id": "d1e826bb-da4d-45f0-9676-9b515b9c69b1",
   "metadata": {},
   "source": [
    "##### e7. Ecrivez un programme qui calcule le volume d'un parallélépipède rectangle dont sont fournis au départ la largeur, la hauteur et la profondeur (longueur).\n",
    "##### tips: V = l * L * h"
   ]
  },
  {
   "cell_type": "code",
   "execution_count": 29,
   "id": "3925958d-e76a-42b6-888a-058805b8b28c",
   "metadata": {},
   "outputs": [
    {
     "name": "stdin",
     "output_type": "stream",
     "text": [
      "Entrer la largeur 4\n",
      "Entrer la hauteur 6\n",
      "Entrer la profondeur 7\n"
     ]
    },
    {
     "name": "stdout",
     "output_type": "stream",
     "text": [
      "le volume est 168\n"
     ]
    }
   ],
   "source": [
    "l = int(input(\"Entrer la largeur\"))\n",
    "h = int(input(\"Entrer la hauteur\"))\n",
    "P = int(input(\"Entrer la profondeur\"))\n",
    "print(f\"le volume est {l*h*P}\")"
   ]
  },
  {
   "cell_type": "markdown",
   "id": "249f7eba-e7e3-4157-a362-b72ac9fdbf65",
   "metadata": {},
   "source": [
    "##### e8. Ecrivez un programme qui convertisse un nombre entier de secondes fourni au départ, en un nombre d'années, de mois, de jours, de minutes et de secondes.\n",
    "##### tips:\n",
    "* (Utilisez l'opérateur modulo : % et l'operateur pour la division entiere : //).\n",
    "* 1 annee = 31536000 s\n",
    "* 1 mois = 2628002.88 s\n",
    "* 1 jour = 86400 s\n",
    "* 1 heure = 3600 s\n",
    "* 1 min = 60 s\n"
   ]
  },
  {
   "cell_type": "code",
   "execution_count": 33,
   "id": "3b2c563a-985e-48d1-916e-f22a2b2af650",
   "metadata": {},
   "outputs": [
    {
     "name": "stdin",
     "output_type": "stream",
     "text": [
      "Enter le nombre de second 123456789\n"
     ]
    },
    {
     "name": "stdout",
     "output_type": "stream",
     "text": [
      "123456789 donne : 3 annees, 10.0 mois, 29.0 jours, 17.0 heures, 32.0 min, 40.20000000111759 s\n"
     ]
    }
   ],
   "source": [
    "# program: seconde_to_year_to_month_to_day_to_hour_to_min\n",
    "N_sec_old = int(input(\"Enter le nombre de second\"))\n",
    "N_sec = N_sec_old\n",
    "year = N_sec // 31536000\n",
    "N_sec %= 31536000\n",
    "month = N_sec // 2628002.88\n",
    "N_sec %= 2628002.88\n",
    "day = N_sec // 86400\n",
    "N_sec %= 86400\n",
    "hour = N_sec // 3600\n",
    "N_sec %= 3600\n",
    "N_min = N_sec // 60\n",
    "N_sec %= 60\n",
    "print(f\"{N_sec_old} donne : {year} annees, {month} mois, {day} jours, {hour} heures, {N_min} min, {N_sec} s\")"
   ]
  },
  {
   "cell_type": "markdown",
   "id": "9d273724-d524-4d69-ba5c-b043fc5bff30",
   "metadata": {},
   "source": [
    "##### e9. Ecrivez un programme qui affiche les 20 premiers termes de la table de multiplication par 7,en signalant au passage (à l'aide d'un astérisque) ceux qui sont des multiples de 3. <br> Exemple : 7 14 21 * 28 35 42 * 49\n",
    "\n",
    "##### tips: si 7 * i est multiple de 3 afficher avec * <br> sinon afficher 7 * i"
   ]
  },
  {
   "cell_type": "code",
   "execution_count": 34,
   "id": "3d29246c-215b-42b7-8013-a6ee6126b900",
   "metadata": {},
   "outputs": [
    {
     "name": "stdout",
     "output_type": "stream",
     "text": [
      "7 14 21 * 28 35 42 * 49 56 63 * 70 77 84 * 91 98 105 * 112 119 126 * 133 140 "
     ]
    }
   ],
   "source": [
    "# afficher les multiples de 3 dans la table de 7\n",
    "for i in range(1,21):\n",
    "    result = 7*i\n",
    "    if result%3==0:\n",
    "        print(result, \"*\" ,end=\" \")\n",
    "    else:\n",
    "        print(result ,end=\" \")"
   ]
  },
  {
   "cell_type": "markdown",
   "id": "8a7f42c4-2bef-4baa-8175-c1b453f20994",
   "metadata": {},
   "source": [
    "##### e10. ** Ecrivez un programme qui calcule les 50 premiers termes de la table de multiplication par 13, mais n'affiche que ceux qui sont des multiples de 7.\n"
   ]
  },
  {
   "cell_type": "code",
   "execution_count": 35,
   "id": "813e680d-7749-436d-9472-8be54e037617",
   "metadata": {},
   "outputs": [
    {
     "name": "stdout",
     "output_type": "stream",
     "text": [
      "13 x 0 = 0\n",
      "13 x 7 = 91\n",
      "13 x 14 = 182\n",
      "13 x 21 = 273\n",
      "13 x 28 = 364\n",
      "13 x 35 = 455\n",
      "13 x 42 = 546\n",
      "13 x 49 = 637\n"
     ]
    }
   ],
   "source": [
    "# program: 50 termes de table de 13 et multiple de 7\n",
    "for i in range (50):\n",
    "    res = 13*i\n",
    "    if res%7==0:\n",
    "        print(f\"13 x {i} = {res}\")"
   ]
  },
  {
   "cell_type": "markdown",
   "id": "17c62528-0ff2-4a51-9d17-7dbd46f35407",
   "metadata": {},
   "source": [
    "##### e11. ** Ecrivez un programme qui affiche la suite de symboles suivante :\n",
    "\"* <br>\n",
    "\"** <br>\n",
    "\"*** <br>\n",
    "\"**** <br>\n",
    "\"***** <br>\n",
    "\"****** <br>\n",
    "\"******* <br>\n",
    "\"******** <br>"
   ]
  },
  {
   "cell_type": "code",
   "execution_count": 36,
   "id": "e283359d-ac10-4ce2-b626-61d78720d6ca",
   "metadata": {},
   "outputs": [
    {
     "name": "stdout",
     "output_type": "stream",
     "text": [
      "\n",
      "*\n",
      "**\n",
      "***\n",
      "****\n",
      "*****\n",
      "******\n",
      "*******\n",
      "********\n",
      "*********\n",
      "**********\n",
      "***********\n",
      "************\n",
      "*************\n",
      "**************\n",
      "***************\n",
      "****************\n",
      "*****************\n",
      "******************\n",
      "*******************\n"
     ]
    }
   ],
   "source": [
    "# afficher les asterisques\n",
    "for i in range(20):\n",
    "    print(i*\"*\")"
   ]
  },
  {
   "cell_type": "markdown",
   "id": "198e839b-c059-465c-94da-75e8bd804138",
   "metadata": {},
   "source": [
    "##### e12.* Écrivez un programme qui convertisse en radians un angle fourni au départ en degrés, minutes, secondes.\n",
    "\n",
    "##### tips: \n",
    "* pi/rad = 180/deg\n",
    "* attention aux degres decimaux\n",
    "* 1° = 60 min = 3600 s\n",
    "* 60.0359° = 60°+0.0359° = 60° + 2.154 min = 60° + 2 min + 0.154 min = 60° + 2 min + 9.24 sec"
   ]
  },
  {
   "cell_type": "code",
   "execution_count": 49,
   "id": "e32f6c11-d5f5-4700-b4fc-758340cec52c",
   "metadata": {},
   "outputs": [
    {
     "name": "stdin",
     "output_type": "stream",
     "text": [
      "Entrer l'angle en radian 1.1234\n"
     ]
    },
    {
     "name": "stdout",
     "output_type": "stream",
     "text": [
      "1.1234 rad donne 64 °, 21 min, 57 sec\n",
      "Votre valeur entree est : 1.1233957174565834 radian\n"
     ]
    }
   ],
   "source": [
    "# program: conversion radian en degre minute et seconde\n",
    "pi = 3.141592653589793238462643383279502884197169399375105820974944592307816406286\n",
    "r = float(input(\"Entrer l'angle en radian\"))\n",
    "dd = (r*180)/pi\n",
    "d = int(dd)\n",
    "md = (dd-d)*60\n",
    "m = int(md)\n",
    "sd = (md -m)*60\n",
    "s = int(sd)\n",
    "print(f\"{r} rad donne {d} °, {m} min, {s} sec\")\n",
    "## verification\n",
    "print(f\"Votre valeur entree est : {(d+m/60.0 + s/3600.0)/180*pi} radian\")"
   ]
  },
  {
   "cell_type": "markdown",
   "id": "53edcc33-82be-4be5-8dbc-446337491f91",
   "metadata": {},
   "source": [
    "##### e13.* Écrivez un programme qui convertisse en degrés, minutes, secondes un angle fourni au départ en radians."
   ]
  },
  {
   "cell_type": "code",
   "execution_count": 50,
   "id": "8e52b6cc-d75a-4b91-9fe6-67c6637b8e4e",
   "metadata": {},
   "outputs": [
    {
     "name": "stdin",
     "output_type": "stream",
     "text": [
      "Entrer l'angle en degree 64\n",
      "Entrer minutes decimales 21\n",
      "Entrer secondes decimales 57\n"
     ]
    },
    {
     "name": "stdout",
     "output_type": "stream",
     "text": [
      "64 °, 21.0 min, 57.0 sec == 1.4828440546097041 radian\n"
     ]
    }
   ],
   "source": [
    "# program: conversion degree, minute, seconde en radian\n",
    "pi = 3.141592653589793238462643383279502884197169399375105820974944592307816406286\n",
    "d = int(input(\"Entrer l'angle en degree\"))\n",
    "md = float(input(\"Entrer minutes decimales\"))\n",
    "sd = float(input(\"Entrer secondes decimales\"))\n",
    "rd = (d*pi)/180\n",
    "r = rd + md/60.0 + sd/3600.0\n",
    "print(f\"{d} °, {md} min, {sd} sec == {r} radian\")"
   ]
  },
  {
   "cell_type": "markdown",
   "id": "fea66cb1-7c6f-49cf-aae8-c30b5a1a938e",
   "metadata": {},
   "source": [
    "##### e14.* Écrivez un programme qui convertisse en degrés, Celsius une température exprimée au départ en degrés Fahrenheit, ou l’inverse. Formule : TF = TC * 1.8 + 32.\n",
    "\n",
    "##### tips : \n",
    "* TC = (TF - 32)/1.8\n",
    "* Make two choices"
   ]
  },
  {
   "cell_type": "code",
   "execution_count": 55,
   "id": "234dea45-66d2-40a9-954d-24b3c5deb669",
   "metadata": {},
   "outputs": [
    {
     "name": "stdin",
     "output_type": "stream",
     "text": [
      "\n",
      "    Quelle conversion voulez-vous faire : \n",
      "    1. Celsius ---> Fahrenheit\n",
      "    2. Fahrenheit ---> Celsius\n",
      "    Tapez un entier entre 1 et 2\n",
      "    \n",
      "     2\n",
      "Entrer le degre fahrenheit 75\n"
     ]
    },
    {
     "name": "stdout",
     "output_type": "stream",
     "text": [
      "75.0 Fahrenheit donne 23.88888888888889 °\n"
     ]
    }
   ],
   "source": [
    "choice = int(input(\n",
    "    \"\"\"\n",
    "    Quelle conversion voulez-vous faire : \n",
    "    1. Celsius ---> Fahrenheit\n",
    "    2. Fahrenheit ---> Celsius\n",
    "    Tapez un entier entre 1 et 2\n",
    "    \n",
    "    \"\"\"\n",
    "                  ))\n",
    "if choice == 1:\n",
    "    celsius = float(input(\"Entrer le degre celsius\"))\n",
    "    print(f\"{celsius} ° donne {(celsius*1.8) + 32} Fahrenheit\")\n",
    "    \n",
    "if choice == 2:\n",
    "    fahrenheit = float(input(\"Entrer le degre fahrenheit\"))\n",
    "    print(f\"{fahrenheit} Fahrenheit donne {(fahrenheit - 32)/1.8} °\")\n",
    "    \n"
   ]
  },
  {
   "cell_type": "markdown",
   "id": "44f24277-efcc-480a-a0bf-357a46fb1428",
   "metadata": {},
   "source": [
    "##### e15.* Écrivez un programme qui calcule les intérêts accumulés chaque année pendant 20 ans, par capitalisation d'une somme de 100 euros placée en banque au taux fixe de 4,3 %\n",
    "\n",
    "##### tips: \n",
    "* u0 = 100\n",
    "* q = u(n+1)/u(n)= 104.3/100 = 1.043\n",
    "* u(n+1) = q * u(n)\n",
    "* n appartient à {0..19} donc 20 termes"
   ]
  },
  {
   "cell_type": "code",
   "execution_count": 57,
   "id": "47bf7ad9-4c40-42e9-b397-8703468984a6",
   "metadata": {},
   "outputs": [
    {
     "name": "stdout",
     "output_type": "stream",
     "text": [
      "les interets cumules sur 20 ans valent 3104.3359823853802\n"
     ]
    }
   ],
   "source": [
    "# program: capital bancaire 100 euro sur 20 ans avec taux fixe de 4.3%\n",
    "u, n, s, q = 100, 0, 0, 1.043\n",
    "# print(f\"u{n} = {u}\")\n",
    "for n in range(20):\n",
    "    u*=q\n",
    "    s+=u\n",
    "print(f\"les interets cumules sur 20 ans valent {s-100}\")"
   ]
  },
  {
   "cell_type": "markdown",
   "id": "dbaeb122-ff82-4409-b3f9-fa2250f7cbcb",
   "metadata": {},
   "source": [
    "##### e16.Une légende de l'Inde ancienne raconte que le jeu d'échecs a été inventé par un vieux sage,que son roi voulut remercier en lui affirmant qu'il lui accorderait n'importe quel cadeau en récompense. Le vieux sage demanda qu'on lui fournisse simplement un peu de riz pour ses vieux jours, et plus précisément un nombre de grains de riz suffisant pour que l'on puisse en déposer 1 seul sur la première case du jeu qu'il venait d'inventer, deux sur la suivante, quatre sur la troisième, et ainsi de suite jusqu'à la 64 case.<br> Écrivez un programme Python qui affiche le nombre de grains à déposer sur chacune des 64 cases du jeu. Calculez ce nombre de deux manières : <br>\n",
    "- Le nombre exact de grains (nombre entier)\n",
    "- Le nombre de grains en notation scientifique (nombre réel)\n",
    "\n",
    "##### tips:\n",
    "* q = 2\n",
    "* u0 = 1\n",
    "* s0 = 1\n",
    "* u(n+1) = 2u(n)\n",
    "* n appartient à {0..63} donc 64 termes"
   ]
  },
  {
   "cell_type": "code",
   "execution_count": 58,
   "id": "fd208d5f-0e5f-45f0-82da-a17e6ff8ae75",
   "metadata": {},
   "outputs": [
    {
     "name": "stdout",
     "output_type": "stream",
     "text": [
      "Il y a exactement 36893488147419103231 grains de riz\n",
      "En notation scientifique, il y a exactement 3.69E+19 grains de riz\n"
     ]
    }
   ],
   "source": [
    "# program: Echequier de Sissa\n",
    "u, n, s, q = 1, 0, 1, 2\n",
    "# print(f\"u{n} = {u}\")\n",
    "for n in range(64):\n",
    "    u*=q\n",
    "    s+=u\n",
    "print(f\"Il y a exactement {s} grains de riz\")\n",
    "print(\"En notation scientifique, il y a exactement {:.2E} grains de riz\".format(s))"
   ]
  },
  {
   "cell_type": "markdown",
   "id": "2d03addd-23bb-43f7-ae01-5165932d6461",
   "metadata": {},
   "source": [
    " ##### e17.*Écrivez un script qui détermine si une chaîne contient ou non le caractère \"e\".\n",
    " ##### tips:\n",
    " * use methode find for searchinf characters\n",
    " * La méthode .find(), quant à elle, recherche une chaîne de caractères passée en argument :\n",
    " * [15 Tips and Tricks for Jupyter Notebook ](https://towardsdatascience.com/15-tips-and-tricks-for-jupyter-notebook-that-will-ease-your-coding-experience-e469207ac95c)\n",
    "  * [15 Tips and Tricks for Jupyter Lab ](https://towardsdatascience.com/getting-the-most-out-of-jupyter-lab-9b3198f88f2d)\n",
    " \n",
    " \n",
    " "
   ]
  },
  {
   "cell_type": "code",
   "execution_count": 88,
   "id": "89861601-a885-42aa-a839-e5c6f8255b54",
   "metadata": {},
   "outputs": [
    {
     "name": "stdin",
     "output_type": "stream",
     "text": [
      "Enter le caractere bonjour\n"
     ]
    },
    {
     "name": "stdout",
     "output_type": "stream",
     "text": [
      "bonjour ne contient pas de 'e' \n"
     ]
    }
   ],
   "source": [
    "# chaine contenant ou nom le caractere ''e'' # cherchons \"e\"\n",
    "chaine = input(\"Enter le caractere\")\n",
    "ch = chaine.find(\"e\")\n",
    "if ch == -1:\n",
    "    print(f\"{chaine} ne contient pas de 'e' \")\n",
    "else: \n",
    "    print(f\"{chaine} contient au moins un 'e' \")"
   ]
  },
  {
   "cell_type": "markdown",
   "id": "e9a50bf7-fb1c-4213-a1f3-00748746b3e6",
   "metadata": {},
   "source": [
    "##### e18. Écrivez un script qui compte le nombre d'occurrences du caractère \"e\" dans une chaîne."
   ]
  },
  {
   "cell_type": "code",
   "execution_count": 72,
   "id": "8da14192-06ee-4173-ac02-227e07a965a7",
   "metadata": {},
   "outputs": [
    {
     "name": "stdin",
     "output_type": "stream",
     "text": [
      "Enter le caractere elle est tres bonne\n"
     ]
    },
    {
     "name": "stdout",
     "output_type": "stream",
     "text": [
      "elle est tres bonne contient 5 fois 'e'  \n"
     ]
    }
   ],
   "source": [
    "# nombre d'occurence de \"e\" dans une chaine\n",
    "chaine = input(\"Enter le caractere\")\n",
    "ch = chaine.count(\"e\")\n",
    "print(f\"{chaine} contient {ch} fois 'e'  \")"
   ]
  },
  {
   "cell_type": "markdown",
   "id": "d88e41e0-cfaa-42c9-8406-360ee7bc1edd",
   "metadata": {},
   "source": [
    " ##### e 19.* Écrivez un script qui recopie une chaîne (dans une nouvelle variable), en insérant des astérisques entre les caractères. <br> Ainsi par exemple, “gaston” devra devenir \" g * a * s * t * o * n \"\n",
    " \n",
    " ##### tips;\n",
    " * use split and join"
   ]
  },
  {
   "cell_type": "code",
   "execution_count": 93,
   "id": "c2fb092c-f7b6-416a-b69d-a0ada696cddc",
   "metadata": {},
   "outputs": [
    {
     "name": "stdin",
     "output_type": "stream",
     "text": [
      "Enter le caractere gaston\n"
     ]
    },
    {
     "name": "stdout",
     "output_type": "stream",
     "text": [
      "['g', 'a', 's', 't', 'o', 'n']\n"
     ]
    }
   ],
   "source": [
    "# recopier chaine espace avec asterisque\n",
    "chaine = input(\"Enter le caractere\")\n",
    "Rchaine = [*chaine] # lst = [letter for l in string]\n",
    "Lchaine = []\n",
    "# for letter in Rchaine:\n",
    "#     Lchaine.append(letter)\n",
    "print((Rchaine))\n",
    "#print([*string])\n",
    "#\"*\".join(Rchaine)"
   ]
  },
  {
   "cell_type": "markdown",
   "id": "1b0f7bd1-e6d1-4155-8154-1b6ba3c57f02",
   "metadata": {},
   "source": [
    "##### e 20. * Écrivez un script qui recopie une chaîne (dans une nouvelle variable) en l'inversant. <br> Ainsi par exemple, “zorglub” deviendra “bulgroz”.\n",
    "\n",
    "##### tips :\n",
    "* use [::-1]"
   ]
  },
  {
   "cell_type": "code",
   "execution_count": 94,
   "id": "e2b22711-a659-4134-9a3f-470ba0b429f5",
   "metadata": {},
   "outputs": [
    {
     "name": "stdin",
     "output_type": "stream",
     "text": [
      "Enter le caractere gaston\n"
     ]
    },
    {
     "name": "stdout",
     "output_type": "stream",
     "text": [
      "notsag\n"
     ]
    }
   ],
   "source": [
    "chaine = input(\"Enter le caractere\")\n",
    "Rchaine = chaine[::-1]\n",
    "print(Rchaine)"
   ]
  },
  {
   "cell_type": "markdown",
   "id": "4b8da081-778e-49fe-a00c-69eca554d3c9",
   "metadata": {},
   "source": [
    " ##### e 21. * En partant de l'exercice précédent, écrivez un script qui détermine si une chaîne de caractères donnée est un palindrome (c.à.d. une chaîne qui peut se lire indifféremment dans les deux sens), comme par exemple \"radar\" ou \"sos\"."
   ]
  },
  {
   "cell_type": "code",
   "execution_count": 97,
   "id": "a9bb2dc8-f38d-4bd9-95be-404cf59ca03f",
   "metadata": {},
   "outputs": [
    {
     "name": "stdin",
     "output_type": "stream",
     "text": [
      "Enter le caractere radar\n"
     ]
    },
    {
     "name": "stdout",
     "output_type": "stream",
     "text": [
      "radar est un palendrome\n"
     ]
    }
   ],
   "source": [
    "chaine = input(\"Enter le caractere\")\n",
    "Rchaine = chaine[::-1]\n",
    "#print(Rchaine)\n",
    "if Rchaine == chaine:\n",
    "    print(f\"{chaine} est un palendrome\")\n",
    "else:\n",
    "    print(f\"{chaine} n'est pas un palendrome\")"
   ]
  },
  {
   "cell_type": "markdown",
   "id": "da7051ed-314a-492b-80bf-e471cb0da2fc",
   "metadata": {},
   "source": [
    " ##### e22.* Soient les listes suivantes : <br>\n",
    " * t1 = [31,28,31,30,31,30,31,31,30,31,30,31] \n",
    " * t2 = [‘Janvier’,’Février’,’Mars’,’Avril’,’Mai’,’Juin’,’Juillet’,’Août’,’Septembre’,’Octobre’,’Novembre’,’Décembre’]\n",
    "\n",
    "Écrivez un petit programme qui crée une nouvelle liste t3. <br> Celle-ci devra contenir tous les\n",
    "éléments des deux listes en les alternant, de telle manière que chaque nom de mois soit suivi\n",
    "du nombre de jours correspondant : <br>[‘Janvier’, 31,’Février’, 28,’Mars’,31, etc.…]"
   ]
  },
  {
   "cell_type": "code",
   "execution_count": 102,
   "id": "c0cc5fe0-50ec-4bba-bb49-b011337332e3",
   "metadata": {},
   "outputs": [
    {
     "name": "stdout",
     "output_type": "stream",
     "text": [
      "['Janvier 31', 'Février 28', 'Mars 31', 'Avril 30', 'Mai 31', 'Juin 30', 'Juillet 31', 'Août 31', 'Septembre 30', 'Octobre 31', 'Novembre 30', 'Décembre 31']\n"
     ]
    }
   ],
   "source": [
    "# program: concatenation de liste position a position\n",
    "t1 = [31,28,31,30,31,30,31,31,30,31,30,31]\n",
    "t2 = ['Janvier','Février','Mars','Avril','Mai','Juin','Juillet','Août','Septembre','Octobre','Novembre','Décembre']\n",
    "t3 = []\n",
    "for i in range(12):\n",
    "    t = t2[i] + \" \" +  str(t1[i]) \n",
    "    t3.append(t)\n",
    "print(t3)"
   ]
  }
 ],
 "metadata": {
  "kernelspec": {
   "display_name": "Python 3 (ipykernel)",
   "language": "python",
   "name": "python3"
  },
  "language_info": {
   "codemirror_mode": {
    "name": "ipython",
    "version": 3
   },
   "file_extension": ".py",
   "mimetype": "text/x-python",
   "name": "python",
   "nbconvert_exporter": "python",
   "pygments_lexer": "ipython3",
   "version": "3.8.5"
  }
 },
 "nbformat": 4,
 "nbformat_minor": 5
}
