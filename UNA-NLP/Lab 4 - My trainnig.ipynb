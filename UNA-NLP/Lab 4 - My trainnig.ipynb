{
 "cells": [
  {
   "cell_type": "markdown",
   "id": "f1d16ddd-d72c-45b5-8614-1f10a2211865",
   "metadata": {
    "tags": []
   },
   "source": [
    "## Rendu de monnaie, bases de programmation"
   ]
  },
  {
   "cell_type": "markdown",
   "id": "6e7a1126-2070-4ba6-b632-df4c046d7021",
   "metadata": {},
   "source": [
    "Contexte\n",
    "Le problème du rendu de monnaie s’énonce de façon simple : étant donné un système de pièces à disposition (je ne peux rendre que des pièces de 50 centimes, 1 euro, 2 euros…) et un montant à rendre, rendre ce montant avec un nombre minimal de pièces du système que l’on s’est donné. Les applications d’une solution à ce problème sont faciles à concevoir : nul n’a envie de récupérer 1 euro en pièces de 1 centime s’il s’est aventuré à payer 2 euros pour une malheureuse bouteille de soda à un distributeur. Non, vraiment personne."
   ]
  },
  {
   "cell_type": "markdown",
   "id": "e450eb67-fd92-4584-91cf-231257baa5b5",
   "metadata": {},
   "source": [
    "Par exemple : ma machine veut rendre 1 euro 22 centimes. Avec le système que l’on s’est posé ci-dessus :\n",
    "\n",
    "On regarde la pièce de 1 euro. Alors on peut enlever une pièce de 1 euro au montant : on obtient 22 centimes à rendre. Or 22 centimes est inférieur à 1 euro et à 50 centimes, donc on passe à la pièce de 10 centimes.\n",
    "\n",
    "On regarde la pièce de 10 centimes. Alors on peut enlever deux fois la pièce de 10 centimes pour obtenir 2 centimes à rendre (inférieur à 10 centimes et à 5 centimes).\n",
    "\n",
    "On regarde la pièce de 2 centimes. Il suffit d’enlever une pièce de 2 centimes pour rendre le montant total.\n",
    "\n",
    "Au final, l’algorithme retourne “rendre 1 pièce de 1 euro, 2 pièces de 10 centimes, 1 pièce de 2 centimes”. Et bonne nouvelle, les instructions de la méthode peuvent être implémentées.\n",
    "\n",
    "On note amount le montant, et coins qui est un tableau -trié !- qui contient dans chaque case une valeur de pièce différente du système que l’on s’est donné (par exemple, pour notre système, cela donne [2,5,10,50,100]) : dans la case i, on a la valeur de la ième plus petite valeur de pièce.\n",
    "\n",
    "Le but est d’obtenir un tableau chosen (qui a pour taille le nombre de pièces différentes de notre système de pièces) tel que dans la case i on a le nombre de pièces de ième plus petite valeur nécessaire pour rendre le montant amoContexte\n",
    "Le problème du rendu de monnaie s’énonce de façon simple : étant donné un système de pièces à disposition (je ne peux rendre que des pièces de 50 centimes, 1 euro, 2 euros…) et un montant à rendre, rendre ce montant avec un nombre minimal de pièces du système que l’on s’est donné. Les applications d’une solution à ce problème sont faciles à concevoir : nul n’a envie de récupérer 1 euro en pièces de 1 centime s’il s’est aventuré à payer 2 euros pour une malheureuse bouteille de soda à un distributeur. Non, vraiment personne.unt.\n",
    "\n",
    "On note pour tout tableau T, T[i] la valeur de la ième case de T, et n le nombre de pièces du système. Pour les moins informaticiens d’entre vous, il est important de noter que dans un algorithme amount est une variable qui contient un entier (en centimes), et non un entier en lui-même. Autrement dit, amount peut varier au cours du temps. C’est une case mémoire que l’on peut regarder, augmenter ou diminuer. Et c’est la même chose pour chaque case du tableau coins. Le symbole “A <- x” signifie affecter la valeur x à la variable A."
   ]
  },
  {
   "cell_type": "markdown",
   "id": "6777c3fa-532a-4818-998a-4ea40a8042de",
   "metadata": {},
   "source": [
    "En pseudocode, cela peut donner :\n",
    "\n",
    "Pour i allant de 1 à n <br>\n",
    "    Tant que amount >= coins[i] <br>\n",
    "        1) amount <- amount - coins[i] <br>\n",
    "        2) chosen[i] <- chosen[i] + 1 <br>\n",
    "Retourner le tableau chosen"
   ]
  },
  {
   "cell_type": "code",
   "execution_count": 1,
   "id": "706a6327-23e2-41f2-bddf-cc14a8fe8a03",
   "metadata": {},
   "outputs": [],
   "source": [
    "def moneyback(amount, coins):\n",
    "    n = len(coins)\n",
    "    chosen = [0] * n \n",
    "    for i in range(n - 1, -1, -1):\n",
    "        while amount >= coins[i]: \n",
    "            amount -= coins[i] \n",
    "            chosen[i] += 1 \n",
    "    assert amount == 0 \n",
    "    return chosen"
   ]
  },
  {
   "cell_type": "code",
   "execution_count": 2,
   "id": "30d5074a-bcfb-4605-880b-a54c2d326344",
   "metadata": {},
   "outputs": [
    {
     "data": {
      "text/plain": [
       "[1, 1, 2, 1, 1]"
      ]
     },
     "execution_count": 2,
     "metadata": {},
     "output_type": "execute_result"
    }
   ],
   "source": [
    "amount = 177\n",
    "coins = [2, 5, 10, 50, 100]\n",
    "\n",
    "moneyback(amount, coins)"
   ]
  },
  {
   "cell_type": "code",
   "execution_count": 1,
   "id": "f2893130-eb1e-41e6-b31d-cf1a1b80bdf5",
   "metadata": {},
   "outputs": [],
   "source": [
    "# def moneyback2(C, somme):\n",
    "#     R = []\n",
    "#     while somme!=0:\n",
    "#         i=0\n",
    "#         while C[i]>somme:\n",
    "#             i=i+1\n",
    "#             R.append(C[i])\n",
    "#             somme -= C[i]\n",
    "#     return R\n",
    "\n",
    "# monnaie =(500, 200, 100, 50, 20, 10, 5, 2, 1)\n",
    "# moneyback2(monnaie, 39)\n",
    "   "
   ]
  },
  {
   "cell_type": "code",
   "execution_count": 2,
   "id": "25c5dfc3-cb5f-4465-83be-9ac4c60d632f",
   "metadata": {},
   "outputs": [],
   "source": [
    "import re"
   ]
  },
  {
   "cell_type": "code",
   "execution_count": 23,
   "id": "8e95ab45-55bd-4f88-bb3a-9d9dc1328687",
   "metadata": {},
   "outputs": [
    {
     "data": {
      "text/plain": [
       "'Enron Email Dataset\\nThis dataset was collected and prepared by the CALO Project (A Cognitive Assistant that Learns and Organizes). It contains data from about 150 users, mostly senior management of Enron, organized into folders. The corpus contains a total of about 0.5M messages. This data was originally made public, and posted to the web, by the Federal Energy Regulatory Commission during its investigation.\\nThe email dataset was later purchased by Leslie Kaelbling at MIT, and turned out to have a number of integrity problems. A number of folks at SRI, notably Melinda Gervasio, worked hard to correct these problems, and it is thanks to them (not me) that the dataset is available. The dataset here does not include attachments, and some messages have been deleted \"as part of a redaction effort due to requests from affected employees\". Invalid email addresses were converted to something of the form user@enron.com whenever possible (i.e., recipient is specified in some parse-able format like \"Doe, John\" or \"Mary K. Smith\") and to no_address@enron.com when no recipient was specified.\\n\\nI get a number of questions about this corpus each week, which I am unable to answer, mostly because they deal with preparation issues and such that I just don\\'t know about. If you ask me a question and I don\\'t answer, please don\\'t feel slighted.\\n\\nI am distributing this dataset as a resource for researchers who are interested in improving current email tools, or understanding how email is currently used. This data is valuable; to my knowledge it is the only substantial collection of \"real\" email that is public. The reason other datasets are not public is because of privacy concerns. In using this dataset, please be sensitive to the privacy of the people involved (and remember that many of these people were certainly not involved in any of the actions which precipitated the investigation.)\\n\\nbkablam10@gmail.com\\n\\nPrior versions of the dataset are no longer being distributed. If you are using the March 2, 2004 Version; the August 21, 2009 Version; or the April 2, 2011 Version of this dataset for your work, you are requested to replace it with the newer version of the dataset below, or make the the appropriate changes to your local copy.\\nMay 7, 2015 Version of dataset (about 1.7Gb, tarred and gzipped).\\nThere are also several on-line databases that allow you to search the data, at UCB, and www.enron-mail.com a@gmail.com'"
      ]
     },
     "execution_count": 23,
     "metadata": {},
     "output_type": "execute_result"
    }
   ],
   "source": [
    "open_data = open(\"dataset1.txt\", 'r', encoding='utf-8')\n",
    "data = open_data.read()\n",
    "data"
   ]
  },
  {
   "cell_type": "markdown",
   "id": "74b47631-1d1c-40bf-952b-2ce68e56b9c8",
   "metadata": {},
   "source": [
    "https://gamedoper.com/2020/04/how-to-use-regular-expressions-and-extract-all-email-addresses-from-a-text-file/"
   ]
  },
  {
   "cell_type": "code",
   "execution_count": 27,
   "id": "99a2bfaf-8529-4918-8a18-dfbbd402f0c2",
   "metadata": {},
   "outputs": [
    {
     "name": "stdout",
     "output_type": "stream",
     "text": [
      "['user@enron.com', 'no_address@enron.com', 'bkablam10@gmail.com', 'a@gmail.com']\n"
     ]
    }
   ],
   "source": [
    "# create a regex does match with email adress \n",
    "patern1 = '[^,;\\s]+@[^,;\\s]+'\n",
    "#patern2 = '^([a-zA-Z0-9_.]+)@([a-zA-Z0-9_.]+).([a-zA-Z]{2,5})$'\n",
    "result = re.findall(patern1, data)\n",
    "print(result)"
   ]
  },
  {
   "cell_type": "code",
   "execution_count": 64,
   "id": "1078f0c7-29ba-46d1-b2ad-d4b830950603",
   "metadata": {},
   "outputs": [],
   "source": [
    "# create a regex does match with digit and put him in txt \n",
    "\"\"\"\n",
    "This video demonstrates extracting roll no and marks of three subjects from text file and storing them into new file using python script and regular expression library.µ\n",
    "\"\"\"\n",
    "\n",
    "f2 = open(\"digits.txt\", \"w\")\n",
    "for i in data:\n",
    "    total = 0\n",
    "    rno = re.search(r'\\d',i)\n",
    "    marks = re.findall(r\"\\b\\d\\b\",i)\n",
    "    for i in marks:\n",
    "        if rno != None:\n",
    "            total+=int(i)\n",
    "            #print(rno[0])\n",
    "            f2.write(rno[0]+\" \" + str(total))\n",
    "f2.close()    \n",
    "    "
   ]
  },
  {
   "cell_type": "markdown",
   "id": "5127f8fa-fe1c-4bb5-94ba-4139b4d39f42",
   "metadata": {},
   "source": [
    "https://grouplens.org/datasets/movielens/latest/"
   ]
  },
  {
   "cell_type": "code",
   "execution_count": 84,
   "id": "3a06781d-e026-48ec-a558-eeb96003d805",
   "metadata": {},
   "outputs": [
    {
     "data": {
      "text/plain": [
       "['movieId,title,genres\\n',\n",
       " '1,Toy Story (1995),Adventure|Animation|Children|Comedy|Fantasy\\n',\n",
       " '2,Jumanji (1995),Adventure|Children|Fantasy\\n',\n",
       " '3,Grumpier Old Men (1995),Comedy|Romance\\n',\n",
       " '4,Waiting to Exhale (1995),Comedy|Drama|Romance\\n',\n",
       " '5,Father of the Bride Part II (1995),Comedy\\n',\n",
       " '6,Heat (1995),Action|Crime|Thriller\\n',\n",
       " '7,Sabrina (1995),Comedy|Romance\\n',\n",
       " '8,Tom and Huck (1995),Adventure|Children\\n',\n",
       " '9,Sudden Death (1995),Action\\n']"
      ]
     },
     "execution_count": 84,
     "metadata": {},
     "output_type": "execute_result"
    }
   ],
   "source": [
    "open_data = open(\"movies.csv\", \"r\", encoding=\"utf-8\")\n",
    "data2 = open_data.readlines()\n",
    "data2[:10]"
   ]
  },
  {
   "cell_type": "code",
   "execution_count": 99,
   "id": "cacff782-aa43-4143-b302-bb38a7092c8f",
   "metadata": {},
   "outputs": [],
   "source": [
    "patern3= r\"\\d{4}\"\n",
    "#print(type(data2))\n",
    "for line in data2:\n",
    "    result = re.match(patern3,line)\n",
    "    #if (result!=None):\n",
    "        #print(line)"
   ]
  },
  {
   "cell_type": "code",
   "execution_count": 108,
   "id": "4caa5563-4001-45c2-b614-a1a046ca25da",
   "metadata": {},
   "outputs": [
    {
     "name": "stdout",
     "output_type": "stream",
     "text": [
      "<re.Match object; span=(30, 39), match='Toy Story'>\n",
      "<re.Match object; span=(123013, 123022), match='Toy Story'>\n",
      "<re.Match object; span=(398957, 398966), match='Toy Story'>\n"
     ]
    }
   ],
   "source": [
    "pattern4 = re.compile(r'Toy Story')\n",
    "data2 = str(data2)\n",
    "matches = pattern4.finditer(data2)\n",
    "for i in matches:\n",
    "    print(i)"
   ]
  },
  {
   "cell_type": "code",
   "execution_count": null,
   "id": "9a4e4559-b9e4-466e-a11b-96b6f0e38820",
   "metadata": {},
   "outputs": [],
   "source": []
  },
  {
   "cell_type": "code",
   "execution_count": null,
   "id": "5abf0628-4771-4e43-bd6c-60974c75f258",
   "metadata": {},
   "outputs": [],
   "source": []
  }
 ],
 "metadata": {
  "kernelspec": {
   "display_name": "Python 3 (ipykernel)",
   "language": "python",
   "name": "python3"
  },
  "language_info": {
   "codemirror_mode": {
    "name": "ipython",
    "version": 3
   },
   "file_extension": ".py",
   "mimetype": "text/x-python",
   "name": "python",
   "nbconvert_exporter": "python",
   "pygments_lexer": "ipython3",
   "version": "3.8.5"
  }
 },
 "nbformat": 4,
 "nbformat_minor": 5
}
