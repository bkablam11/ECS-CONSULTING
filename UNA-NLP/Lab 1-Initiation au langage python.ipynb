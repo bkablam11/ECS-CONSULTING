{
 "cells": [
  {
   "cell_type": "raw",
   "id": "a03eb01b",
   "metadata": {},
   "source": [
    "                                          NOTIONS\n",
    "         Les chaines de caractères ne sont pas des objets en tant que tels dans un programme python.\n",
    "         Ce sont des séquences de valeurs."
   ]
  },
  {
   "cell_type": "raw",
   "id": "7a84f6b5",
   "metadata": {},
   "source": [
    "4 illustrations pour comprendre différentes utilisations des guillements lors de la défintion d' une variable de type chaine de caractères."
   ]
  },
  {
   "cell_type": "code",
   "execution_count": 1,
   "id": "2a4c31a8",
   "metadata": {},
   "outputs": [],
   "source": [
    "chaine = 'Voici une chaine de caractère.'\n",
    "ch1 = 'Seriez-vous à la réunion de ce soir ?'\n",
    "ch2 = ' \"OUI\" ; repond-il.'\n",
    "ch3 = \"D'accord, j'apprécierai bien.\"\n",
    "ch4 = \"\"\"Cette phrase est une longue chaine de caractères\\\n",
    "contenant tous les types de guillements: \" ' << >> mais aussi de nombreux caractères spéciaux. \"\"\""
   ]
  },
  {
   "cell_type": "code",
   "execution_count": 2,
   "id": "514d679d",
   "metadata": {},
   "outputs": [
    {
     "name": "stdout",
     "output_type": "stream",
     "text": [
      " La chaine 1 est : Seriez-vous à la réunion de ce soir ?\n",
      " La chaine 2 est :  \"OUI\" ; repond-il.\n",
      " La chaine 3 est : D'accord, j'apprécierai bien.\n",
      " La chaine 4 est : Cette phrase est une longue chaine de caractèrescontenant tous les types de guillements: \" ' << >> mais aussi de nombreux caractères spéciaux. \n"
     ]
    }
   ],
   "source": [
    "print(\" La chaine 1 est :\",ch1)\n",
    "print(\" La chaine 2 est :\",ch2)\n",
    "print(\" La chaine 3 est :\",ch3)\n",
    "print(\" La chaine 4 est :\",ch4)"
   ]
  },
  {
   "cell_type": "raw",
   "id": "b9418481",
   "metadata": {},
   "source": [
    "Slicing"
   ]
  },
  {
   "cell_type": "code",
   "execution_count": 3,
   "id": "f5de3d49",
   "metadata": {},
   "outputs": [],
   "source": [
    "ch = 'Christelle' # soit la chaine de caractères ch ainsi définie."
   ]
  },
  {
   "cell_type": "code",
   "execution_count": 6,
   "id": "56942436",
   "metadata": {},
   "outputs": [
    {
     "name": "stdout",
     "output_type": "stream",
     "text": [
      "ch[-1] renvoie e.\n"
     ]
    }
   ],
   "source": [
    "i = -1\n",
    "print(\"ch[{}] renvoie {}.\".format(i,ch[i])) # format permet de formatter les chaines de caractères"
   ]
  },
  {
   "cell_type": "markdown",
   "id": "cfd865c5",
   "metadata": {},
   "source": [
    "#### Fonctions"
   ]
  },
  {
   "cell_type": "raw",
   "id": "e4e33f70",
   "metadata": {},
   "source": [
    "range(start, stop[, step]) # fonction native qui retourne une liste de nombres."
   ]
  },
  {
   "cell_type": "code",
   "execution_count": 7,
   "id": "4d610e50",
   "metadata": {},
   "outputs": [
    {
     "name": "stdout",
     "output_type": "stream",
     "text": [
      "1-  range(0, 2)\n",
      "2-  [0, 1]\n",
      "3-  [2, 4, 6, 8]\n"
     ]
    }
   ],
   "source": [
    "print('1- ',range(2))\n",
    "print('2- ',list(range(2)))\n",
    "print('3- ',list(range(2,10,2)))### la derniere valeur est le pas"
   ]
  },
  {
   "cell_type": "code",
   "execution_count": 8,
   "id": "7fb28da3",
   "metadata": {},
   "outputs": [
    {
     "name": "stdout",
     "output_type": "stream",
     "text": [
      "2\n",
      "4\n",
      "6\n",
      "8\n"
     ]
    }
   ],
   "source": [
    " for i in range(2,10,2) :\n",
    "    print(i)"
   ]
  },
  {
   "cell_type": "code",
   "execution_count": 9,
   "id": "65714ae5",
   "metadata": {},
   "outputs": [
    {
     "name": "stdout",
     "output_type": "stream",
     "text": [
      "[2, 4, 6, 8]\n"
     ]
    }
   ],
   "source": [
    "ma_liste_en_comprehension = [i for i in range(2,10,2)]\n",
    "print(ma_liste_en_comprehension)"
   ]
  },
  {
   "cell_type": "code",
   "execution_count": 10,
   "id": "d23871ad",
   "metadata": {},
   "outputs": [
    {
     "name": "stdout",
     "output_type": "stream",
     "text": [
      "1- La longueur de la chaine est len(chaine):  30\n",
      "2- 'a' + 'b' =  ab\n",
      "3- 'c' + '1' =  c1\n"
     ]
    }
   ],
   "source": [
    "print(\"1- La longueur de la chaine est len(chaine): \",len(chaine)) \n",
    "print( \"2- 'a' + 'b' = \",'a' + 'b')\n",
    "print( \"3- 'c' + '1' = \",'c' + '1')"
   ]
  },
  {
   "cell_type": "raw",
   "id": "8e4b6e36",
   "metadata": {},
   "source": [
    "Modifions la casse avec les fonctions : upper(), lower() et capitalize()"
   ]
  },
  {
   "cell_type": "code",
   "execution_count": 11,
   "id": "ff37099b",
   "metadata": {},
   "outputs": [
    {
     "name": "stdout",
     "output_type": "stream",
     "text": [
      "Mettre en minuscule : ceci est une chaine de plusieurs mots.\n",
      "Mettre en majiscule : CECI EST UNE CHAINE DE PLUSIEURS MOTS.\n",
      "Mettre la prémière lettre en majiscule : Ceci est une chaine de plusieurs mots.\n"
     ]
    }
   ],
   "source": [
    "ch = 'Ceci est une chaine de plusieurs mots.'\n",
    "print( 'Mettre en minuscule :',ch.lower())\n",
    "print( 'Mettre en majiscule :',ch.upper())\n",
    "print( 'Mettre la prémière lettre en majiscule :',ch.capitalize())"
   ]
  },
  {
   "cell_type": "raw",
   "id": "fa0dda99",
   "metadata": {},
   "source": [
    "Rechercher une chaine"
   ]
  },
  {
   "cell_type": "code",
   "execution_count": 14,
   "id": "c2b62fdb",
   "metadata": {},
   "outputs": [
    {
     "name": "stdout",
     "output_type": "stream",
     "text": [
      "31\n",
      "-1\n"
     ]
    }
   ],
   "source": [
    "ch = 'Sa chambre est située au 9ième étage tout au fond du couloir.'\n",
    "\n",
    "print(ch.find('étage')) # renvoie la position à laquelle se trouve ch\n",
    "print(ch.find('etage')) # return -1 in error"
   ]
  },
  {
   "cell_type": "raw",
   "id": "835bdf73",
   "metadata": {},
   "source": [
    "Rechercher une chaine et remplacer la par une autre"
   ]
  },
  {
   "cell_type": "code",
   "execution_count": 15,
   "id": "5c69a050",
   "metadata": {},
   "outputs": [
    {
     "name": "stdout",
     "output_type": "stream",
     "text": [
      "Sa chambre est située au 9ième étage tout au fond du couloir.\n",
      "Sa bureau est située au 9ième étage tout au fond du couloir.\n",
      "Sa chambre est situé au 9ième étage tout au fond du couloir.\n",
      "Sa bureau est situé au 9ième étage tout au fond du couloir.\n"
     ]
    }
   ],
   "source": [
    "ch = 'Sa chambre est située au 9ième étage tout au fond du couloir.'\n",
    "print(ch)\n",
    "print(ch.replace('chambre','bureau'))\n",
    "print(ch.replace('située','situé'))\n",
    "\n",
    "print(ch.replace('chambre','bureau').replace('située','situé'))\n"
   ]
  },
  {
   "cell_type": "raw",
   "id": "e384722d",
   "metadata": {},
   "source": [
    "Nombre d'occurence d'un motif"
   ]
  },
  {
   "cell_type": "code",
   "execution_count": 16,
   "id": "4a3dbef2",
   "metadata": {},
   "outputs": [
    {
     "name": "stdout",
     "output_type": "stream",
     "text": [
      "0\n"
     ]
    }
   ],
   "source": [
    "print(ch.count('etage')) # nombre de fois etage est écrit dans la chaine ch"
   ]
  },
  {
   "cell_type": "raw",
   "id": "206c4ad6",
   "metadata": {},
   "source": [
    "map() : permet d'exécuter une fonction donnée sur chaque élément d'une liste et renvoie les éléments sous forme d'une nouvelle         liste.\n",
    "filter() : permet de filtrer efficacement des éléments en utilisant une fonction que l'on fournit."
   ]
  },
  {
   "cell_type": "raw",
   "id": "a1075ecc",
   "metadata": {},
   "source": [
    "Définition d'une fonction simple"
   ]
  },
  {
   "cell_type": "code",
   "execution_count": 17,
   "id": "010831dc",
   "metadata": {},
   "outputs": [
    {
     "name": "stdout",
     "output_type": "stream",
     "text": [
      "2\n"
     ]
    }
   ],
   "source": [
    "def f1(x):\n",
    "    return 2\n",
    "\n",
    "print(f1(7))"
   ]
  },
  {
   "cell_type": "code",
   "execution_count": 18,
   "id": "efdb31d0",
   "metadata": {},
   "outputs": [
    {
     "name": "stdout",
     "output_type": "stream",
     "text": [
      "2\n"
     ]
    }
   ],
   "source": [
    "f2 = lambda x : 2\n",
    "print(f2(10))"
   ]
  },
  {
   "cell_type": "code",
   "execution_count": 19,
   "id": "61c44098",
   "metadata": {},
   "outputs": [],
   "source": [
    "import math"
   ]
  },
  {
   "cell_type": "code",
   "execution_count": 20,
   "id": "4db214da",
   "metadata": {},
   "outputs": [
    {
     "name": "stdout",
     "output_type": "stream",
     "text": [
      "54.0\n"
     ]
    }
   ],
   "source": [
    "f3 = lambda x,y : math.sqrt(x) + y**2 \n",
    "\n",
    "print(f3(25,7))"
   ]
  },
  {
   "cell_type": "raw",
   "id": "cb93ebc6",
   "metadata": {},
   "source": [
    "Chaine en list"
   ]
  },
  {
   "cell_type": "code",
   "execution_count": 21,
   "id": "a370aad7",
   "metadata": {},
   "outputs": [
    {
     "name": "stdout",
     "output_type": "stream",
     "text": [
      "1-  ['Ceci', 'est', 'une', 'chaine', 'avec', 'des', 'espaces.']\n",
      "2-  ['Ceci', 'est', 'une', 'chaine', 'avec', 'des', 'espaces.']\n",
      "3-  ['Ceci ', 't une chaine avec d', ' ', 'pac', '.']\n",
      "4-  ['C', 'e', 'c', 'i', ' ', 'e', 's', 't', ' ', 'u', 'n', 'e', ' ', 'c', 'h', 'a', 'i', 'n', 'e', ' ', 'a', 'v', 'e', 'c', ' ', 'd', 'e', 's', ' ', 'e', 's', 'p', 'a', 'c', 'e', 's', '.']\n"
     ]
    }
   ],
   "source": [
    "ch = 'Ceci est une chaine avec des espaces.'\n",
    "print('1- ',ch.split()) # les espaces sont considérés comme séparateur\n",
    "print('2- ',ch.split(' '))\n",
    "print('3- ',ch.split('es'))\n",
    "print('4- ',list(ch))"
   ]
  },
  {
   "cell_type": "raw",
   "id": "2e215dcf",
   "metadata": {},
   "source": [
    "Eléments de jointure pour les chaines"
   ]
  },
  {
   "cell_type": "code",
   "execution_count": 22,
   "id": "db6157af",
   "metadata": {},
   "outputs": [
    {
     "name": "stdout",
     "output_type": "stream",
     "text": [
      "1- A-I-G-A-T\n",
      "2- A I G A T\n",
      "3 AIGAT\n"
     ]
    }
   ],
   "source": [
    "maList = ['A','I','G','A','T']\n",
    "\n",
    "ch1 = '-'.join(maList)\n",
    "print('1-',ch1)\n",
    "\n",
    "ch2 = ' '.join(maList)\n",
    "print('2-',ch2)\n",
    "\n",
    "ch3 = ''.join(maList)\n",
    "print('3',ch3)\n"
   ]
  },
  {
   "cell_type": "raw",
   "id": "5c1858a9",
   "metadata": {},
   "source": [
    "Opérateurs logiques et booléen"
   ]
  },
  {
   "cell_type": "code",
   "execution_count": 24,
   "id": "0e1b3969",
   "metadata": {},
   "outputs": [
    {
     "name": "stdout",
     "output_type": "stream",
     "text": [
      "1-  True\n",
      "2-  True\n",
      "3-  True\n",
      "4-  True\n"
     ]
    }
   ],
   "source": [
    "ch = 'Sa chambre est située au 9ième étage tout au fond du couloir.'\n",
    "\n",
    "print('1- ',ch.startswith('Sa'))\n",
    "print('2- ',ch.startswith('cham',3,7)) # sous reserve que la borne inf reste intacte\n",
    "print('3- ',ch.endswith('ir.'))\n",
    "print('4- ',ch.endswith('cham',3,7)) # sous reserve que la borne sup reste intacte\n"
   ]
  },
  {
   "cell_type": "raw",
   "id": "8701a76a",
   "metadata": {},
   "source": [
    "Utilisation de : in, islower(), isupper(), istitle(), isalpha(), isalnum(), isdigit() "
   ]
  },
  {
   "cell_type": "markdown",
   "id": "3b8df7ff",
   "metadata": {},
   "source": [
    "Formatage"
   ]
  },
  {
   "cell_type": "code",
   "execution_count": 29,
   "id": "8f2002f3",
   "metadata": {},
   "outputs": [
    {
     "name": "stdout",
     "output_type": "stream",
     "text": [
      "1-  Julien est âgé de 25 ans. Il pèse 75 kilos et mesure 1.7 m.\n",
      "2-  Julien est âgé de 25 ans. Il pèse 75 kilos et mesure 1.70 m.\n",
      "3-  Julien est âgé de 25 ans. Il pèse 75 kilos et mesure 1.7 m.\n",
      "3-  1.7 est âgé de 75 ans. Il pèse 25 kilos et mesure Julien m.\n"
     ]
    }
   ],
   "source": [
    "nom = 'Julien'; age = 25; poids = 75; taille = 1.70\n",
    "\n",
    "ch1 = nom + ' est âgé de' + ' ' + str(age) + ' ' + 'ans. Il pèse' + ' ' + str(poids) + ' kilos' + ' et mesure ' + str(taille) + ' m.' \n",
    "print('1- ',ch1)\n",
    "\n",
    "ch2 = '%s est âgé de %i ans. Il pèse %.0f kilos et mesure %.2f m.'%(nom,age,poids,taille)\n",
    "print('2- ',ch2)\n",
    "\n",
    "ch3 = '{0} est âgé de {1} ans. Il pèse {2} kilos et mesure {3} m.'.format(nom,age,poids,taille)\n",
    "print('3- ',ch3)\n",
    "\n",
    "ch4 = '{3} est âgé de {2} ans. Il pèse {1} kilos et mesure {0} m.'.format(nom,age,poids,taille)\n",
    "print('3- ',ch4)"
   ]
  },
  {
   "cell_type": "markdown",
   "id": "4309a7da",
   "metadata": {},
   "source": [
    "Les instructions conditionnelles"
   ]
  },
  {
   "cell_type": "raw",
   "id": "ddb2df16",
   "metadata": {},
   "source": [
    "if <condition_1>:\n",
    "    <blocs d'instruction 1>\n",
    "elif <condition_2>\n",
    "    <blocs d'instruction 2>\n",
    "else :\n",
    "    <blocs d'instruction 3>\n",
    "    "
   ]
  },
  {
   "cell_type": "raw",
   "id": "1a530c4c",
   "metadata": {},
   "source": [
    "Les boucles tant que"
   ]
  },
  {
   "cell_type": "raw",
   "id": "888dc268",
   "metadata": {},
   "source": [
    "while <condition_1>:\n",
    "    <blocs d'instruction 1>\n",
    "    "
   ]
  },
  {
   "cell_type": "raw",
   "id": "cf1894b8",
   "metadata": {},
   "source": [
    "Les boucles Pour"
   ]
  },
  {
   "cell_type": "raw",
   "id": "c7e1d89b",
   "metadata": {},
   "source": [
    "for <données> in <objet>:\n",
    "    <blocs d'instructions>"
   ]
  },
  {
   "cell_type": "raw",
   "id": "357a1d05",
   "metadata": {},
   "source": [
    "Listes"
   ]
  },
  {
   "cell_type": "code",
   "execution_count": 30,
   "id": "b5ed18a1",
   "metadata": {},
   "outputs": [
    {
     "name": "stdout",
     "output_type": "stream",
     "text": [
      "[1, 2, 3]\n"
     ]
    }
   ],
   "source": [
    "maListe = [1,2,3] #une liste d'entier\n",
    "print(maListe)"
   ]
  },
  {
   "cell_type": "code",
   "execution_count": 31,
   "id": "00017dfd",
   "metadata": {},
   "outputs": [
    {
     "name": "stdout",
     "output_type": "stream",
     "text": [
      "1-  []\n",
      "2-  []\n",
      "3-  ['pomme', 'q,', 10]\n"
     ]
    }
   ],
   "source": [
    "maListeVide = []\n",
    "\n",
    "print('1- ',maListeVide)\n",
    "print('2- ',list())\n",
    "print('3- ',maListeVide + ['pomme','q,',10] + [])\n"
   ]
  },
  {
   "cell_type": "code",
   "execution_count": 32,
   "id": "853f67da",
   "metadata": {},
   "outputs": [
    {
     "name": "stdout",
     "output_type": "stream",
     "text": [
      "[1, 2, 3, 'ajout']\n"
     ]
    }
   ],
   "source": [
    "maListe.append('ajout') # ajout dun element dans la liste maListe\n",
    "print(maListe)"
   ]
  },
  {
   "cell_type": "code",
   "execution_count": 33,
   "id": "1b4bf943",
   "metadata": {},
   "outputs": [
    {
     "name": "stdout",
     "output_type": "stream",
     "text": [
      "1-  [1, 2]\n",
      "2-  None\n"
     ]
    }
   ],
   "source": [
    "maListe = [1,2,3] #une liste d'entier\n",
    "\n",
    "del maListe[2] # le 2ieme élément suprimé de la liste maListe\n",
    "print('1- ',maListe)\n",
    "print('2- ',maListe.remove(1))"
   ]
  },
  {
   "cell_type": "code",
   "execution_count": 34,
   "id": "a4812cdd",
   "metadata": {},
   "outputs": [
    {
     "data": {
      "text/plain": [
       "[2]"
      ]
     },
     "execution_count": 34,
     "metadata": {},
     "output_type": "execute_result"
    }
   ],
   "source": [
    "maListe"
   ]
  },
  {
   "cell_type": "code",
   "execution_count": 35,
   "id": "0bcc0c74",
   "metadata": {},
   "outputs": [
    {
     "name": "stdout",
     "output_type": "stream",
     "text": [
      "[2, 1, 1, 1]\n",
      "Nombre de 1:  3\n"
     ]
    }
   ],
   "source": [
    "maListe.append(1) \n",
    "maListe.append(1) \n",
    "maListe.append(1) \n",
    "print(maListe) \n",
    "print('Nombre de 1: ',maListe.count(1)) "
   ]
  },
  {
   "cell_type": "raw",
   "id": "3b406a09",
   "metadata": {},
   "source": [
    "Les Tuples et les dictionnaires"
   ]
  },
  {
   "cell_type": "raw",
   "id": "01024f24",
   "metadata": {},
   "source": [
    "Les tuples sont des listes non modifiables"
   ]
  },
  {
   "cell_type": "code",
   "execution_count": 36,
   "id": "02709989",
   "metadata": {},
   "outputs": [
    {
     "name": "stdout",
     "output_type": "stream",
     "text": [
      "('a', ' b ', ' c ', 1)\n",
      " c \n"
     ]
    }
   ],
   "source": [
    "monTuple=('a', ' b ', ' c ', 1) \n",
    "print(monTuple) \n",
    "print(monTuple[2])"
   ]
  },
  {
   "cell_type": "code",
   "execution_count": 37,
   "id": "9e324b7d",
   "metadata": {},
   "outputs": [
    {
     "name": "stdout",
     "output_type": "stream",
     "text": [
      "monNom\n",
      "monPrenom\n"
     ]
    }
   ],
   "source": [
    "monDictionnaire = {\"prenom\": \"monPrenom\", \"nom\": \"monNom\" }\n",
    "print(monDictionnaire.get( \"nom\") ) \n",
    "\n",
    "print(monDictionnaire . get( \"prenom\" )) \n"
   ]
  },
  {
   "cell_type": "code",
   "execution_count": 38,
   "id": "3d6d1b1b",
   "metadata": {},
   "outputs": [
    {
     "name": "stdout",
     "output_type": "stream",
     "text": [
      "1-  {'prenom': 'monPrenom', 'nom': 'monNom', 'situation': 'marié'}\n",
      "2-  {'prenom': 'Juan', 'nom': 'monNom', 'situation': 'marié'}\n"
     ]
    }
   ],
   "source": [
    "monDictionnaire.update({'situation':'marié'})\n",
    "print('1- ',monDictionnaire)\n",
    "\n",
    "monDictionnaire['prenom'] = 'Juan'\n",
    "print('2- ',monDictionnaire)"
   ]
  },
  {
   "cell_type": "raw",
   "id": "9b252953",
   "metadata": {},
   "source": [
    "Les ensembles"
   ]
  },
  {
   "cell_type": "code",
   "execution_count": 39,
   "id": "e3a8ba6a",
   "metadata": {},
   "outputs": [
    {
     "name": "stdout",
     "output_type": "stream",
     "text": [
      "set()\n"
     ]
    }
   ],
   "source": [
    "ens1 = set() # initialisation des ensembles\n",
    "print(ens1)"
   ]
  },
  {
   "cell_type": "code",
   "execution_count": 41,
   "id": "6a26d307-8402-4a4d-a061-1aa5211c397e",
   "metadata": {},
   "outputs": [
    {
     "data": {
      "text/plain": [
       "set"
      ]
     },
     "execution_count": 41,
     "metadata": {},
     "output_type": "execute_result"
    }
   ],
   "source": [
    "type(ens1)"
   ]
  },
  {
   "cell_type": "code",
   "execution_count": 109,
   "id": "67efda2c",
   "metadata": {},
   "outputs": [
    {
     "name": "stdout",
     "output_type": "stream",
     "text": [
      "{1, 2, 4, 5}\n"
     ]
    }
   ],
   "source": [
    "liste_de_doublons = [1,2,4,1,1,1,4,5]\n",
    "ens2 = set( liste_de_doublons) # élimination des doublons\n",
    "print(ens2)"
   ]
  },
  {
   "cell_type": "code",
   "execution_count": 110,
   "id": "706b27d4",
   "metadata": {},
   "outputs": [
    {
     "name": "stdout",
     "output_type": "stream",
     "text": [
      "1-  [1, 2, 4, 5]\n",
      "2-  [1, 2, 4, 5]\n"
     ]
    }
   ],
   "source": [
    "liste_sans_doublons = list( ens2 )\n",
    "print('1- ',liste_sans_doublons)\n",
    "print('2- ',list(   set(liste_de_doublons) ))"
   ]
  },
  {
   "cell_type": "code",
   "execution_count": 42,
   "id": "ebe9dd3c",
   "metadata": {},
   "outputs": [
    {
     "name": "stdout",
     "output_type": "stream",
     "text": [
      "{2, '7', 'un', 78}\n"
     ]
    }
   ],
   "source": [
    "print( set((2,78,'un','7')) ) # les ensembles ne sont pas ordonnés"
   ]
  },
  {
   "cell_type": "code",
   "execution_count": 44,
   "id": "52ec67e4",
   "metadata": {},
   "outputs": [
    {
     "name": "stdout",
     "output_type": "stream",
     "text": [
      "2\n",
      "un\n",
      "78\n",
      "7\n",
      "78\n"
     ]
    }
   ],
   "source": [
    "for i in set((2,78,'un','7','7','78')):\n",
    "    print(i)"
   ]
  },
  {
   "cell_type": "raw",
   "id": "a422e74b",
   "metadata": {},
   "source": [
    "Opérateurs mathématiques"
   ]
  },
  {
   "cell_type": "code",
   "execution_count": 45,
   "id": "1dcf48fd",
   "metadata": {},
   "outputs": [
    {
     "name": "stdout",
     "output_type": "stream",
     "text": [
      "addition de nbre_1 et nbre_2 : 22.02\n",
      "soustraction entre nbre_1 et nbre_3 : 10\n",
      "produit entre nbre_2 et nbre_3 : 175.5\n",
      "reste de la division entre nbre_4 et nbre_1 : 0\n",
      "quotien de la division entre nbre_4 et nbre_1 : 2.0\n",
      "valeur entière de la division entre nbre_4 et nbre_1 : 2\n"
     ]
    }
   ],
   "source": [
    "nbre_1, nbre_2, nbre_3, nbre_4 = 15, 7.02, 25, 30\n",
    "print('addition de nbre_1 et nbre_2 :',nbre_1 + nbre_2)\n",
    "print('soustraction entre nbre_1 et nbre_3 :',-nbre_1 + nbre_3)\n",
    "print('produit entre nbre_2 et nbre_3 :',nbre_2 * nbre_3)\n",
    "print('reste de la division entre nbre_4 et nbre_1 :',nbre_4 % nbre_1)\n",
    "print('quotien de la division entre nbre_4 et nbre_1 :',nbre_4 / nbre_1)\n",
    "print('valeur entière de la division entre nbre_4 et nbre_1 :',nbre_4 // nbre_1)"
   ]
  },
  {
   "cell_type": "code",
   "execution_count": 46,
   "id": "46a48884",
   "metadata": {},
   "outputs": [
    {
     "name": "stdout",
     "output_type": "stream",
     "text": [
      "[0, 1]\n"
     ]
    }
   ],
   "source": [
    "gg= list(range(2))\n",
    "print(gg)\n"
   ]
  },
  {
   "cell_type": "code",
   "execution_count": null,
   "id": "c380c297",
   "metadata": {},
   "outputs": [],
   "source": []
  },
  {
   "cell_type": "code",
   "execution_count": null,
   "id": "8b942fcc",
   "metadata": {},
   "outputs": [],
   "source": []
  }
 ],
 "metadata": {
  "kernelspec": {
   "display_name": "Python 3 (ipykernel)",
   "language": "python",
   "name": "python3"
  },
  "language_info": {
   "codemirror_mode": {
    "name": "ipython",
    "version": 3
   },
   "file_extension": ".py",
   "mimetype": "text/x-python",
   "name": "python",
   "nbconvert_exporter": "python",
   "pygments_lexer": "ipython3",
   "version": "3.8.5"
  }
 },
 "nbformat": 4,
 "nbformat_minor": 5
}
