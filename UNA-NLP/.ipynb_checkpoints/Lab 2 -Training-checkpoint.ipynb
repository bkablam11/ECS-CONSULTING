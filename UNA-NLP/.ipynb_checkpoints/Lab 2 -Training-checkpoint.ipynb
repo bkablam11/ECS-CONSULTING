{
 "cells": [
  {
   "cell_type": "markdown",
   "id": "407bb4ea",
   "metadata": {},
   "source": [
    "## eXercice1"
   ]
  },
  {
   "cell_type": "code",
   "execution_count": null,
   "id": "6ad2f27f",
   "metadata": {},
   "outputs": [],
   "source": [
    "On dispose d'une liste de noms de localités et l'on se propose\n",
    "de rechercher celles dont le nom de termine par ville.\n",
    "On ne distingue pas les majuscules et les minuscules dans la\n",
    "recherche. Les villes en questions sont indiquées comme suit:\n",
    "    \n",
    "Ablon\n",
    "Acqueville\n",
    "Agy\n",
    "Aigner-Ville\n",
    "Airan\n",
    "Amayé-sur-Orne\n",
    "Amblie\n",
    "Amfreville\n",
    "Angervillers\n",
    "Angoville"
   ]
  },
  {
   "cell_type": "code",
   "execution_count": 42,
   "id": "bcf52b6a",
   "metadata": {},
   "outputs": [],
   "source": [
    "chaine=\"Ablon\\n\\\n",
    "Angoville\\n\\\n",
    "Agy\\n\\\n",
    "Aigner-Ville\\n\\\n",
    "Airan\\n\\\n",
    "Amayé-sur-Orne\\n\\\n",
    "Amblie\\n\\\n",
    "Amfreville\\n\\\n",
    "Angervillers\\n\\\n",
    "Acqueville\\n\"\n",
    "#chaine2=\"Ablon\\n Acqueville\\nAgy\\nAigner-Ville\\nAiran\\nAmayé-sur-Orne\\nAmblie\\nAmfreville\\nAngervillers\\nAngoville\""
   ]
  },
  {
   "cell_type": "code",
   "execution_count": 46,
   "id": "52e8b3a0",
   "metadata": {},
   "outputs": [
    {
     "data": {
      "text/plain": [
       "['Angoville', 'Aigner-Ville', 'Amfreville', 'Acqueville']"
      ]
     },
     "execution_count": 46,
     "metadata": {},
     "output_type": "execute_result"
    }
   ],
   "source": [
    "import re\n",
    "regex=re.compile(\".+[Vv]ille$\", re.MULTILINE)\n",
    "regex.findall(chaine)\n",
    "#ou bien\n",
    "#x=re.findall(regex, chaine)\n",
    "#print(x)"
   ]
  },
  {
   "cell_type": "code",
   "execution_count": 36,
   "id": "062c3439",
   "metadata": {},
   "outputs": [
    {
     "data": {
      "text/plain": [
       "['Acqueville', 'Aigner-Ville', 'Amfreville', 'Angoville']"
      ]
     },
     "execution_count": 36,
     "metadata": {},
     "output_type": "execute_result"
    }
   ],
   "source": [
    "import re\n",
    "pattern = \".*ville$\"\n",
    "cpattern = re.compile(pattern, re.MULTILINE+re.IGNORECASE)\n",
    "cpattern.findall(chaine)"
   ]
  },
  {
   "cell_type": "code",
   "execution_count": null,
   "id": "1b78d49a",
   "metadata": {},
   "outputs": [],
   "source": []
  },
  {
   "cell_type": "markdown",
   "id": "b8395392",
   "metadata": {},
   "source": [
    "### eXercice2\n",
    "##### Correspondance avec une expression exacte uniquement"
   ]
  },
  {
   "cell_type": "raw",
   "id": "803508bb",
   "metadata": {},
   "source": [
    "Rechercher une correspondance avec les expressions :\n",
    "    \"stock tips\"  \n",
    "    \"stock tip\"      \n",
    "    \"stock   tips\"\n",
    "    \"stock   tip\"  \n",
    "    \"stocktip\"\n",
    "    \"stocktips\""
   ]
  },
  {
   "cell_type": "code",
   "execution_count": 68,
   "id": "8bda0ece",
   "metadata": {},
   "outputs": [
    {
     "name": "stdout",
     "output_type": "stream",
     "text": [
      "stock tips je ne suis pas stock tip elle ne pense stock   tips stock   tip est une fille  stocktip tu es beau stocktips ghstocktips\n"
     ]
    }
   ],
   "source": [
    "chain=\"stock tips je ne suis pas stock tip elle ne pense stock   tips stock   tip est une fille  stocktip tu es beau stocktips ghstocktips\"\n",
    "print(chain)"
   ]
  },
  {
   "cell_type": "code",
   "execution_count": 70,
   "id": "34c5b05d",
   "metadata": {},
   "outputs": [
    {
     "name": "stdout",
     "output_type": "stream",
     "text": [
      "['stock tips']\n"
     ]
    }
   ],
   "source": [
    "import re\n",
    "ropattern=re.compile(r\"^stock\\s{0,3}tips?\") \n",
    "x=re.findall(ropattern, chain)\n",
    "print(x)"
   ]
  },
  {
   "cell_type": "code",
   "execution_count": 72,
   "id": "0e130c06",
   "metadata": {},
   "outputs": [
    {
     "name": "stdout",
     "output_type": "stream",
     "text": [
      "<re.Match object; span=(0, 9), match='stock tip'>\n",
      "None\n"
     ]
    }
   ],
   "source": [
    "print(re.match(ropattern, \"stock tip\"))\n",
    "print(re.match(ropattern, \"astocktips\"))"
   ]
  },
  {
   "cell_type": "markdown",
   "id": "28cdb442",
   "metadata": {},
   "source": [
    "### eXercice3\n",
    "##### Correspondance avec un mot ou une expression figurant dans une liste"
   ]
  },
  {
   "cell_type": "code",
   "execution_count": null,
   "id": "4813c204",
   "metadata": {},
   "outputs": [],
   "source": [
    "Rechercher une correspondance avec tout mot ou toute expression\n",
    "parmi les mots suivants : baloney , darn, drat, fooey, gosh darnit, heck"
   ]
  },
  {
   "cell_type": "code",
   "execution_count": 126,
   "id": "58bb7c3b",
   "metadata": {},
   "outputs": [
    {
     "name": "stdout",
     "output_type": "stream",
     "text": [
      "None\n"
     ]
    }
   ],
   "source": [
    "regex3=re.compile(r\"(baloney|darn|dart|fooey|gosh darnit|heck)\")\n",
    "test1=re.match(regex3, 'baloney')\n",
    "test2=re.match(regex3, 'darn')\n",
    "test3=re.match(regex3, 'drat')\n",
    "test4=re.match(regex3, 'fooey')\n",
    "test5=re.match(regex3, 'gosh darnit')\n",
    "test6=re.match(regex3, 'heck')\n",
    "print(re.fullmatch(regex3, 'heckn'))"
   ]
  },
  {
   "cell_type": "markdown",
   "id": "41edc64a",
   "metadata": {},
   "source": [
    "### eXercice4\n",
    "##### Correspondance avec un mot présentant des variantes\n",
    "##### orthographiques ou des caractères spéciaux"
   ]
  },
  {
   "cell_type": "code",
   "execution_count": null,
   "id": "9904c8ee",
   "metadata": {},
   "outputs": [],
   "source": [
    "Rechercher une correspondance avec le mot \"viagra\" et certaines autres\n",
    "orthographes pouvant être utilisés par les spammeurs telles que :\n",
    "vi@gra , v1agra, v1@gra, v!@gr@"
   ]
  },
  {
   "cell_type": "code",
   "execution_count": 86,
   "id": "82c36c16",
   "metadata": {},
   "outputs": [
    {
     "name": "stdout",
     "output_type": "stream",
     "text": [
      "[]\n"
     ]
    }
   ],
   "source": [
    "chaine_car= \"\"\"Le viagra est une substance dangeureuse, on l'écrit souvent en Italie vi@gra, \n",
    "au Japon v1agra, en Chine continentale v1@gra et les amoureux l'écrivent v!@gr@\"\"\"\n",
    "regex2=re.compile(r\"(^v[i1!][a@]gr[a@])\")\n",
    "m=re.findall(regex2, chaine_car)\n",
    "print(m)"
   ]
  },
  {
   "cell_type": "markdown",
   "id": "2dcc980d",
   "metadata": {},
   "source": []
  },
  {
   "cell_type": "raw",
   "id": "5982b230",
   "metadata": {},
   "source": [
    "Rechercher une correspondance dans toutes les adresses e-mail des domaines\n",
    "yahoo.com, hotmail.com et gmail.com."
   ]
  },
  {
   "cell_type": "code",
   "execution_count": 129,
   "id": "4462ae8a",
   "metadata": {},
   "outputs": [
    {
     "name": "stdout",
     "output_type": "stream",
     "text": [
      "<re.Match object; span=(0, 17), match='amani@hotmail.com'>\n"
     ]
    }
   ],
   "source": [
    "chaine2=\"\"\"Je suis Koua saint blanc Amani, j'ai crée recemment une adresse mail sur yahoo.\n",
    "Ma nouvelle adresse mail est kouasaint@yahoo.com et je la trouve assez cool.\n",
    "Le suffixe de toutes les adresses mail est .@yahoo.com.\n",
    "J'avais déjà une adresse mail sur google, kouasaintblancamani@gmail.com et \n",
    "aussi une sur microsoft dont l'adresse est amani@hotmail.com\"\"\"\n",
    "\n",
    "regex3=re.compile(r\"\\w+(@yahoo|@hotmail|@gmail)\\.com$\")\n",
    "result=re.fullmatch(regex3, \"amani@hotmail.com\")\n",
    "print(result)"
   ]
  },
  {
   "cell_type": "markdown",
   "id": "5adf88cf",
   "metadata": {},
   "source": [
    "### eXercice6\n",
    "##### Correspondance avec une adresse IP comprise dans une plage"
   ]
  },
  {
   "cell_type": "raw",
   "id": "7cecc7c2",
   "metadata": {},
   "source": [
    "Rechercher une correspondance avec toute adresse IP comprise\n",
    "dans la plage allant de 192.168.1.0 à 192.168.1.255."
   ]
  },
  {
   "cell_type": "code",
   "execution_count": null,
   "id": "c93463df",
   "metadata": {},
   "outputs": [],
   "source": [
    "a='|'\n",
    "liste=list(range(0,256))\n",
    "for ele in liste:\n",
    "    liste[liste.index(ele)]=str(ele)\n",
    "lis=a.join(liste)\n",
    "plage='('+lis+')'\n",
    "print(plage)"
   ]
  },
  {
   "cell_type": "code",
   "execution_count": 111,
   "id": "10264379",
   "metadata": {},
   "outputs": [
    {
     "name": "stdout",
     "output_type": "stream",
     "text": [
      "<re.Match object; span=(0, 12), match='192.168.1.10'>\n"
     ]
    }
   ],
   "source": [
    "regex3=re.compile(r\"192\\.168\\.1\\.{}\".format(plage))\n",
    "x=re.fullmatch(regex3, '192.168.1.10')\n",
    "print(x)"
   ]
  },
  {
   "cell_type": "markdown",
   "id": "2948d4be",
   "metadata": {},
   "source": [
    "# méthode du prof\n",
    "on recherche les adresses IP"
   ]
  },
  {
   "cell_type": "code",
   "execution_count": 123,
   "id": "912d0384",
   "metadata": {},
   "outputs": [
    {
     "name": "stdout",
     "output_type": "stream",
     "text": [
      "<re.Match object; span=(0, 13), match='192.168.1.110'>\n"
     ]
    }
   ],
   "source": [
    "listee=list(map(lambda x:str(x), list(range(0,256))))\n",
    "print(re.fullmatch(r\"192\\.168\\.1\\.({})\".format('|'.join(listee)), \"192.168.1.110\"))"
   ]
  },
  {
   "cell_type": "markdown",
   "id": "36442191",
   "metadata": {},
   "source": [
    "### eXercice7\n",
    "##### Correspondance avec un format alphanumérique"
   ]
  },
  {
   "cell_type": "code",
   "execution_count": null,
   "id": "b2547318",
   "metadata": {},
   "outputs": [],
   "source": [
    "Rechercher une correspondance dans les numéros de bons de\n",
    "commande de votre entreprise. Ils peuvent se présenter \n",
    "sous des formats différents, tels que : PO nn-nnnnn ,\n",
    "PO-nn-nnnn , PO# nn nnnn ,PO#nn-nnnn, PO nnnnnn où les n\n",
    "sont des chiffres. ex: PO-25-2456"
   ]
  },
  {
   "cell_type": "code",
   "execution_count": null,
   "id": "ea20b6cc",
   "metadata": {},
   "outputs": [],
   "source": [
    "pattern1=re.compile(\"^PO[ -#]{1} ?\")"
   ]
  }
 ],
 "metadata": {
  "kernelspec": {
   "display_name": "Python 3 (ipykernel)",
   "language": "python",
   "name": "python3"
  },
  "language_info": {
   "codemirror_mode": {
    "name": "ipython",
    "version": 3
   },
   "file_extension": ".py",
   "mimetype": "text/x-python",
   "name": "python",
   "nbconvert_exporter": "python",
   "pygments_lexer": "ipython3",
   "version": "3.9.12"
  }
 },
 "nbformat": 4,
 "nbformat_minor": 5
}
