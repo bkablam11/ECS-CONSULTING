{
 "cells": [
  {
   "cell_type": "code",
   "execution_count": 4,
   "id": "93614e2d",
   "metadata": {},
   "outputs": [],
   "source": [
    "\n",
    "import time, random\n",
    "from datetime import datetime as dt"
   ]
  },
  {
   "cell_type": "code",
   "execution_count": 13,
   "id": "31f337bf",
   "metadata": {},
   "outputs": [
    {
     "name": "stdout",
     "output_type": "stream",
     "text": [
      "                                   |||||||||||||||||||||||||||||||||||||||||||||||||||\n"
     ]
    },
    {
     "name": "stdin",
     "output_type": "stream",
     "text": [
      "Choisir un nombre entre 5,6 et 7 : 7\n"
     ]
    },
    {
     "name": "stdout",
     "output_type": "stream",
     "text": [
      "SOJLUST a prédit la valeur: 7\n",
      "                                   |||||||||||||||||||||||||||||||||||||||||||||||||||\n"
     ]
    },
    {
     "name": "stdin",
     "output_type": "stream",
     "text": [
      "Choisir un nombre entre 5,6 et 7 : 5\n"
     ]
    },
    {
     "name": "stdout",
     "output_type": "stream",
     "text": [
      "SOJLUST a prédit la valeur: 3\n",
      "                                   |||||||||||||||||||||||||||||||||||||||||||||||||||\n"
     ]
    },
    {
     "name": "stdin",
     "output_type": "stream",
     "text": [
      "Choisir un nombre entre 5,6 et 7 : 5\n"
     ]
    },
    {
     "name": "stdout",
     "output_type": "stream",
     "text": [
      "SOJLUST a prédit la valeur: 2\n"
     ]
    }
   ],
   "source": [
    "cpt = 0\n",
    "coup = 51\n",
    "liste = [5,6,7]\n",
    "chance = 3\n",
    "while chance > 0 :\n",
    "    print(' '*35 + '|'*coup )\n",
    "    val = int(input('Choisir un nombre entre 5,6 et 7 :'))\n",
    "    choix = random.choice([2,3,7])\n",
    "    print('SOJLUST a prédit la valeur: ' + str(choix))\n",
    "    chance -= 1\n",
    "    #if choix != val :\n",
    "        \n",
    "    \n",
    "    \n",
    "    \n"
   ]
  },
  {
   "cell_type": "markdown",
   "id": "742dc1b0-43c2-4938-87b6-28f06813421e",
   "metadata": {},
   "source": [
    "🙆‍♀️🤴👨"
   ]
  },
  {
   "cell_type": "code",
   "execution_count": 7,
   "id": "7482e55e",
   "metadata": {},
   "outputs": [
    {
     "data": {
      "text/plain": [
       "6"
      ]
     },
     "execution_count": 7,
     "metadata": {},
     "output_type": "execute_result"
    }
   ],
   "source": [
    "random.randint(5,7)"
   ]
  },
  {
   "cell_type": "code",
   "execution_count": 8,
   "id": "7713b10c",
   "metadata": {},
   "outputs": [
    {
     "data": {
      "text/plain": [
       "2"
      ]
     },
     "execution_count": 8,
     "metadata": {},
     "output_type": "execute_result"
    }
   ],
   "source": [
    "random.choice([2,3,7])"
   ]
  },
  {
   "cell_type": "code",
   "execution_count": 15,
   "id": "cfcbeabe",
   "metadata": {},
   "outputs": [],
   "source": [
    "#=sojlust(35)"
   ]
  },
  {
   "cell_type": "code",
   "execution_count": 10,
   "id": "85885cfe",
   "metadata": {},
   "outputs": [
    {
     "data": {
      "text/plain": [
       "'2022-08-12 16:32:45'"
      ]
     },
     "execution_count": 10,
     "metadata": {},
     "output_type": "execute_result"
    }
   ],
   "source": [
    "import time\n",
    "from time import gmtime, strftime\n",
    "\n",
    "strftime('%Y-%m-%d %H:%M:%S', gmtime())"
   ]
  },
  {
   "cell_type": "code",
   "execution_count": 11,
   "id": "3d304e7d",
   "metadata": {},
   "outputs": [
    {
     "data": {
      "text/plain": [
       "'12-08-2022 16:32:46'"
      ]
     },
     "execution_count": 11,
     "metadata": {},
     "output_type": "execute_result"
    }
   ],
   "source": [
    "strftime('%Y-%m-%d %H:%M:%S', gmtime())\n",
    "strftime('%d-%m-%Y %H:%M:%S', gmtime())"
   ]
  },
  {
   "cell_type": "code",
   "execution_count": 16,
   "id": "0af74a45",
   "metadata": {},
   "outputs": [],
   "source": [
    "#print(sojlust(35))\n"
   ]
  },
  {
   "cell_type": "code",
   "execution_count": 18,
   "id": "4992f89d",
   "metadata": {},
   "outputs": [],
   "source": [
    "import re\n",
    "re.match(r'[a-zA-Z0-9_]{3}[$+*=%]{2}','a.e$-')  #($|+|*|=|%)"
   ]
  },
  {
   "cell_type": "code",
   "execution_count": 19,
   "id": "851d0f50",
   "metadata": {},
   "outputs": [
    {
     "data": {
      "text/plain": [
       "<re.Match object; span=(0, 1), match='1'>"
      ]
     },
     "execution_count": 19,
     "metadata": {},
     "output_type": "execute_result"
    }
   ],
   "source": [
    "# test pour voir s'il est composé uniquement de chiffre ou non\n",
    "nu = '[\\d]'\n",
    "import re\n",
    "#re.match(r\"[^\\d]\",\"mkj45\")\n",
    "\n",
    "# ne doit pas commencer par un numero\n",
    "re.match(\"[^[0-9]\",'b4a')\n",
    "\n",
    "# rechercher une chaine ne commençant par un pattern b ou B\n",
    "re.match(r'[^(^b|^B)]','1BbA4')\n",
    "\n",
    "# rechercher une chaine ne contenant pas le pattern b ou B\n",
    "re.match(r'[^(^b|^B)]','1BbA4')"
   ]
  },
  {
   "cell_type": "code",
   "execution_count": 20,
   "id": "55627256",
   "metadata": {},
   "outputs": [
    {
     "data": {
      "text/plain": [
       "'\\'_|\\', \\'-|\\', \\'^|\\', \\'\"|\\', \\' |\\', \\'%|\\', \\'=|\\', \\'{|\\', \\'}|\\', \\'/|\\', \\'\\\\\\\\|\\', \\'+|\\', \\'$|\\', \\'*|\\', \\'.|\\''"
      ]
     },
     "execution_count": 20,
     "metadata": {},
     "output_type": "execute_result"
    }
   ],
   "source": [
    "sym = ['_','-','^','\"',' ','%','=','{','}','/','\\\\' , '+',\"$\",'*','.']\n",
    "ec = str([x + '|' for x in sym])[1:-1]\n",
    "\n",
    "ec"
   ]
  },
  {
   "cell_type": "markdown",
   "id": "d9c7c62b",
   "metadata": {},
   "source": [
    "#### TEST DE LA CLASSE USERNAME"
   ]
  },
  {
   "cell_type": "code",
   "execution_count": 21,
   "id": "1a6c84eb",
   "metadata": {},
   "outputs": [
    {
     "name": "stdin",
     "output_type": "stream",
     "text": [
      "\n",
      "\n",
      "\n",
      "username :  bkablam10\n",
      "\n",
      "\n",
      "\n",
      "username :  h\n",
      "\n",
      "\n",
      "\n",
      "username :  hj\n",
      "\n",
      "\n",
      "\n",
      "username :  bkablam10\n",
      "\n",
      "\n",
      "\n",
      "username :  helloworld\n",
      "\n",
      "\n",
      "\n",
      "username :  hellowold\n"
     ]
    },
    {
     "ename": "KeyboardInterrupt",
     "evalue": "Interrupted by user",
     "output_type": "error",
     "traceback": [
      "\u001b[1;31m---------------------------------------------------------------------------\u001b[0m",
      "\u001b[1;31mKeyboardInterrupt\u001b[0m                         Traceback (most recent call last)",
      "Input \u001b[1;32mIn [21]\u001b[0m, in \u001b[0;36m<cell line: 30>\u001b[1;34m()\u001b[0m\n\u001b[0;32m     27\u001b[0m                                 \u001b[38;5;28mprint\u001b[39m(\u001b[38;5;124m\"\u001b[39m\u001b[38;5;124mVôtre username est: \u001b[39m\u001b[38;5;124m\"\u001b[39m \u001b[38;5;241m+\u001b[39m login_test)\n\u001b[0;32m     28\u001b[0m                                 \u001b[38;5;28;01mreturn\u001b[39;00m login_test\n\u001b[1;32m---> 30\u001b[0m \u001b[43musername\u001b[49m\u001b[43m(\u001b[49m\u001b[43m)\u001b[49m\u001b[38;5;241m.\u001b[39musername\n",
      "Input \u001b[1;32mIn [21]\u001b[0m, in \u001b[0;36musername.__init__\u001b[1;34m(self)\u001b[0m\n\u001b[0;32m      4\u001b[0m \u001b[38;5;28;01mdef\u001b[39;00m \u001b[38;5;21m__init__\u001b[39m(\u001b[38;5;28mself\u001b[39m):\n\u001b[1;32m----> 5\u001b[0m     \u001b[38;5;28mself\u001b[39m\u001b[38;5;241m.\u001b[39musername \u001b[38;5;241m=\u001b[39m \u001b[38;5;28;43mself\u001b[39;49m\u001b[38;5;241;43m.\u001b[39;49m\u001b[43mformat_username\u001b[49m\u001b[43m(\u001b[49m\u001b[43m)\u001b[49m\n",
      "Input \u001b[1;32mIn [21]\u001b[0m, in \u001b[0;36musername.format_username\u001b[1;34m(self)\u001b[0m\n\u001b[0;32m     10\u001b[0m test \u001b[38;5;241m=\u001b[39m \u001b[38;5;28;01mFalse\u001b[39;00m\n\u001b[0;32m     11\u001b[0m \u001b[38;5;28;01mwhile\u001b[39;00m(test \u001b[38;5;241m==\u001b[39m \u001b[38;5;28;01mFalse\u001b[39;00m) :\n\u001b[1;32m---> 12\u001b[0m     username \u001b[38;5;241m=\u001b[39m \u001b[38;5;28;43minput\u001b[39;49m\u001b[43m(\u001b[49m\u001b[38;5;124;43m\"\u001b[39;49m\u001b[38;5;130;43;01m\\n\u001b[39;49;00m\u001b[38;5;130;43;01m\\n\u001b[39;49;00m\u001b[38;5;130;43;01m\\n\u001b[39;49;00m\u001b[38;5;124;43musername : \u001b[39;49m\u001b[38;5;124;43m\"\u001b[39;49m\u001b[43m)\u001b[49m\n\u001b[0;32m     13\u001b[0m     \u001b[38;5;66;03m#print('Vous avez écris : ' + username)\u001b[39;00m\n\u001b[0;32m     14\u001b[0m \u001b[38;5;66;03m# ne doit pas être un numéro \u001b[39;00m\n\u001b[0;32m     15\u001b[0m     \u001b[38;5;28;01mif\u001b[39;00m re\u001b[38;5;241m.\u001b[39mmatch(\u001b[38;5;124mr\u001b[39m\u001b[38;5;124m\"\u001b[39m\u001b[38;5;124m[^\u001b[39m\u001b[38;5;124m\\\u001b[39m\u001b[38;5;124md]\u001b[39m\u001b[38;5;124m\"\u001b[39m, username):\n",
      "File \u001b[1;32mc:\\users\\assoumane\\appdata\\local\\programs\\python\\python38\\lib\\site-packages\\ipykernel\\kernelbase.py:1177\u001b[0m, in \u001b[0;36mKernel.raw_input\u001b[1;34m(self, prompt)\u001b[0m\n\u001b[0;32m   1173\u001b[0m \u001b[38;5;28;01mif\u001b[39;00m \u001b[38;5;129;01mnot\u001b[39;00m \u001b[38;5;28mself\u001b[39m\u001b[38;5;241m.\u001b[39m_allow_stdin:\n\u001b[0;32m   1174\u001b[0m     \u001b[38;5;28;01mraise\u001b[39;00m StdinNotImplementedError(\n\u001b[0;32m   1175\u001b[0m         \u001b[38;5;124m\"\u001b[39m\u001b[38;5;124mraw_input was called, but this frontend does not support input requests.\u001b[39m\u001b[38;5;124m\"\u001b[39m\n\u001b[0;32m   1176\u001b[0m     )\n\u001b[1;32m-> 1177\u001b[0m \u001b[38;5;28;01mreturn\u001b[39;00m \u001b[38;5;28;43mself\u001b[39;49m\u001b[38;5;241;43m.\u001b[39;49m\u001b[43m_input_request\u001b[49m\u001b[43m(\u001b[49m\n\u001b[0;32m   1178\u001b[0m \u001b[43m    \u001b[49m\u001b[38;5;28;43mstr\u001b[39;49m\u001b[43m(\u001b[49m\u001b[43mprompt\u001b[49m\u001b[43m)\u001b[49m\u001b[43m,\u001b[49m\n\u001b[0;32m   1179\u001b[0m \u001b[43m    \u001b[49m\u001b[38;5;28;43mself\u001b[39;49m\u001b[38;5;241;43m.\u001b[39;49m\u001b[43m_parent_ident\u001b[49m\u001b[43m[\u001b[49m\u001b[38;5;124;43m\"\u001b[39;49m\u001b[38;5;124;43mshell\u001b[39;49m\u001b[38;5;124;43m\"\u001b[39;49m\u001b[43m]\u001b[49m\u001b[43m,\u001b[49m\n\u001b[0;32m   1180\u001b[0m \u001b[43m    \u001b[49m\u001b[38;5;28;43mself\u001b[39;49m\u001b[38;5;241;43m.\u001b[39;49m\u001b[43mget_parent\u001b[49m\u001b[43m(\u001b[49m\u001b[38;5;124;43m\"\u001b[39;49m\u001b[38;5;124;43mshell\u001b[39;49m\u001b[38;5;124;43m\"\u001b[39;49m\u001b[43m)\u001b[49m\u001b[43m,\u001b[49m\n\u001b[0;32m   1181\u001b[0m \u001b[43m    \u001b[49m\u001b[43mpassword\u001b[49m\u001b[38;5;241;43m=\u001b[39;49m\u001b[38;5;28;43;01mFalse\u001b[39;49;00m\u001b[43m,\u001b[49m\n\u001b[0;32m   1182\u001b[0m \u001b[43m\u001b[49m\u001b[43m)\u001b[49m\n",
      "File \u001b[1;32mc:\\users\\assoumane\\appdata\\local\\programs\\python\\python38\\lib\\site-packages\\ipykernel\\kernelbase.py:1219\u001b[0m, in \u001b[0;36mKernel._input_request\u001b[1;34m(self, prompt, ident, parent, password)\u001b[0m\n\u001b[0;32m   1216\u001b[0m             \u001b[38;5;28;01mbreak\u001b[39;00m\n\u001b[0;32m   1217\u001b[0m \u001b[38;5;28;01mexcept\u001b[39;00m \u001b[38;5;167;01mKeyboardInterrupt\u001b[39;00m:\n\u001b[0;32m   1218\u001b[0m     \u001b[38;5;66;03m# re-raise KeyboardInterrupt, to truncate traceback\u001b[39;00m\n\u001b[1;32m-> 1219\u001b[0m     \u001b[38;5;28;01mraise\u001b[39;00m \u001b[38;5;167;01mKeyboardInterrupt\u001b[39;00m(\u001b[38;5;124m\"\u001b[39m\u001b[38;5;124mInterrupted by user\u001b[39m\u001b[38;5;124m\"\u001b[39m) \u001b[38;5;28;01mfrom\u001b[39;00m \u001b[38;5;28mNone\u001b[39m\n\u001b[0;32m   1220\u001b[0m \u001b[38;5;28;01mexcept\u001b[39;00m \u001b[38;5;167;01mException\u001b[39;00m:\n\u001b[0;32m   1221\u001b[0m     \u001b[38;5;28mself\u001b[39m\u001b[38;5;241m.\u001b[39mlog\u001b[38;5;241m.\u001b[39mwarning(\u001b[38;5;124m\"\u001b[39m\u001b[38;5;124mInvalid Message:\u001b[39m\u001b[38;5;124m\"\u001b[39m, exc_info\u001b[38;5;241m=\u001b[39m\u001b[38;5;28;01mTrue\u001b[39;00m)\n",
      "\u001b[1;31mKeyboardInterrupt\u001b[0m: Interrupted by user"
     ]
    }
   ],
   "source": [
    "import re\n",
    "class username : \n",
    "    \"\"\"Paramètres de connexion du joueur\"\"\"\n",
    "    def __init__(self):\n",
    "        self.username = self.format_username()\n",
    "        \n",
    "    def format_username(self):\n",
    "        \"\"\" Format du username de taille 7 : eric123 \"\"\"\n",
    "\n",
    "        test = False\n",
    "        while(test == False) :\n",
    "            username = input(\"\\n\\n\\nusername : \")\n",
    "            #print('Vous avez écris : ' + username)\n",
    "        # ne doit pas être un numéro \n",
    "            if re.match(r\"[^\\d]\", username):\n",
    "                    login_test = username\n",
    "                    # ne doit pas commencer par un numéro\n",
    "                    \n",
    "                    if re.match(\"[^[0-9]\",login_test):\n",
    "                        #login = login_test\n",
    "                        # ne contient pas de symbôle\n",
    "                        sym = ['_','-','^','\"',' ','%','=','{','}','/','\\\\' , '+',\"$\",'*','.',',',';']\n",
    "                        login_test = ''.join(list(filter(lambda x : x not in sym, login_test )))\n",
    "                        \n",
    "                        if re.match(r'[^A-Z0-9]{4}[0-9]{3}',login_test) :\n",
    "                                test = True\n",
    "                                print(\"Vôtre username est: \" + login_test)\n",
    "                                return login_test\n",
    "\n",
    "username().username"
   ]
  },
  {
   "cell_type": "markdown",
   "id": "81012e19",
   "metadata": {},
   "source": [
    "#### TEST DE LA CLASSE PASSWORD"
   ]
  },
  {
   "cell_type": "markdown",
   "id": "5161f990-96dd-4943-821c-42ab49a4dd83",
   "metadata": {},
   "source": [
    "import re\n",
    "class password :\n",
    "    def __init__(self):\n",
    "        self.motdepasse = self.format_motdepasse()\n",
    "        \n",
    "    def format_motdepasse(self):\n",
    "                test = False\n",
    "                while(test == False) :\n",
    "                    \"\"\"Le mot de passe n'étant pas un chiffre et ne commençant pas par un chiffre ,\n",
    "                    doit contenir 3 caractères alphanumériques suivis de 2 symbôles: $ + * = ou %\"\"\"\n",
    "                    motdepasse = input(\"\\n\\nMot de passe : \")\n",
    "                # ne doit pas être un numéro \n",
    "                    if re.match(r\"[^\\d]\", motdepasse):\n",
    "                            motdepasse_test = motdepasse\n",
    "                                # doit contenir des caractères alphanum suivis de $ + * = %\n",
    "                            if re.match(r'[a-zA-Z0-9_]{3}[$+*=%]{2}',motdepasse_test) :\n",
    "                                        test = True                    \n",
    "                                        print(\"Vôtre mot de passe est: \" + motdepasse_test)\n",
    "                                        return motdepasse_test\n",
    "                                    \n",
    "# afficher le mot de passe                                    \n",
    "password().motdepasse\n"
   ]
  },
  {
   "cell_type": "markdown",
   "id": "a64600d3",
   "metadata": {},
   "source": [
    "### TEST DE OPTION"
   ]
  },
  {
   "cell_type": "code",
   "execution_count": 23,
   "id": "d6d16a2a",
   "metadata": {},
   "outputs": [
    {
     "name": "stdout",
     "output_type": "stream",
     "text": [
      "1 - Inscription\n",
      "2 - Connexion\n",
      "3 - Quitter\n"
     ]
    },
    {
     "name": "stdin",
     "output_type": "stream",
     "text": [
      "Choisir  1 ou 2 ou 3 : 1\n",
      "Choisir  1 ou 2 ou 3 : 1\n",
      "Choisir  1 ou 2 ou 3 : 2\n",
      "Choisir  1 ou 2 ou 3 : 3\n",
      "Choisir  1 ou 2 ou 3 : 3\n",
      "Choisir  1 ou 2 ou 3 : 1 2 3\n",
      "Choisir  1 ou 2 ou 3 : 3\n"
     ]
    },
    {
     "ename": "KeyboardInterrupt",
     "evalue": "Interrupted by user",
     "output_type": "error",
     "traceback": [
      "\u001b[1;31m---------------------------------------------------------------------------\u001b[0m",
      "\u001b[1;31mKeyboardInterrupt\u001b[0m                         Traceback (most recent call last)",
      "Input \u001b[1;32mIn [23]\u001b[0m, in \u001b[0;36m<cell line: 21>\u001b[1;34m()\u001b[0m\n\u001b[0;32m     18\u001b[0m             \u001b[38;5;28;01melif\u001b[39;00m num \u001b[38;5;241m==\u001b[39m \u001b[38;5;241m3\u001b[39m :\n\u001b[0;32m     19\u001b[0m                 test \u001b[38;5;241m=\u001b[39m \u001b[38;5;28;01mTrue\u001b[39;00m\n\u001b[1;32m---> 21\u001b[0m \u001b[43moption\u001b[49m\u001b[43m(\u001b[49m\u001b[43m)\u001b[49m\n",
      "Input \u001b[1;32mIn [23]\u001b[0m, in \u001b[0;36moption\u001b[1;34m()\u001b[0m\n\u001b[0;32m      6\u001b[0m test \u001b[38;5;241m=\u001b[39m \u001b[38;5;28;01mFalse\u001b[39;00m\n\u001b[0;32m      7\u001b[0m \u001b[38;5;28;01mwhile\u001b[39;00m(test \u001b[38;5;241m==\u001b[39m \u001b[38;5;28;01mFalse\u001b[39;00m):\n\u001b[1;32m----> 8\u001b[0m     num \u001b[38;5;241m=\u001b[39m \u001b[38;5;28;43minput\u001b[39;49m\u001b[43m(\u001b[49m\u001b[38;5;124;43m'\u001b[39;49m\u001b[38;5;124;43mChoisir  1 ou 2 ou 3 :\u001b[39;49m\u001b[38;5;124;43m'\u001b[39;49m\u001b[43m)\u001b[49m\n\u001b[0;32m      9\u001b[0m     \u001b[38;5;28;01mif\u001b[39;00m re\u001b[38;5;241m.\u001b[39mmatch(\u001b[38;5;124mr\u001b[39m\u001b[38;5;124m\"\u001b[39m\u001b[38;5;124m[1 2 3]\u001b[39m\u001b[38;5;124m\"\u001b[39m,num):\n\u001b[0;32m     11\u001b[0m         \u001b[38;5;28;01mif\u001b[39;00m num \u001b[38;5;241m==\u001b[39m \u001b[38;5;241m1\u001b[39m :\n\u001b[0;32m     12\u001b[0m             \u001b[38;5;66;03m#self.inscription()\u001b[39;00m\n",
      "File \u001b[1;32mc:\\users\\assoumane\\appdata\\local\\programs\\python\\python38\\lib\\site-packages\\ipykernel\\kernelbase.py:1177\u001b[0m, in \u001b[0;36mKernel.raw_input\u001b[1;34m(self, prompt)\u001b[0m\n\u001b[0;32m   1173\u001b[0m \u001b[38;5;28;01mif\u001b[39;00m \u001b[38;5;129;01mnot\u001b[39;00m \u001b[38;5;28mself\u001b[39m\u001b[38;5;241m.\u001b[39m_allow_stdin:\n\u001b[0;32m   1174\u001b[0m     \u001b[38;5;28;01mraise\u001b[39;00m StdinNotImplementedError(\n\u001b[0;32m   1175\u001b[0m         \u001b[38;5;124m\"\u001b[39m\u001b[38;5;124mraw_input was called, but this frontend does not support input requests.\u001b[39m\u001b[38;5;124m\"\u001b[39m\n\u001b[0;32m   1176\u001b[0m     )\n\u001b[1;32m-> 1177\u001b[0m \u001b[38;5;28;01mreturn\u001b[39;00m \u001b[38;5;28;43mself\u001b[39;49m\u001b[38;5;241;43m.\u001b[39;49m\u001b[43m_input_request\u001b[49m\u001b[43m(\u001b[49m\n\u001b[0;32m   1178\u001b[0m \u001b[43m    \u001b[49m\u001b[38;5;28;43mstr\u001b[39;49m\u001b[43m(\u001b[49m\u001b[43mprompt\u001b[49m\u001b[43m)\u001b[49m\u001b[43m,\u001b[49m\n\u001b[0;32m   1179\u001b[0m \u001b[43m    \u001b[49m\u001b[38;5;28;43mself\u001b[39;49m\u001b[38;5;241;43m.\u001b[39;49m\u001b[43m_parent_ident\u001b[49m\u001b[43m[\u001b[49m\u001b[38;5;124;43m\"\u001b[39;49m\u001b[38;5;124;43mshell\u001b[39;49m\u001b[38;5;124;43m\"\u001b[39;49m\u001b[43m]\u001b[49m\u001b[43m,\u001b[49m\n\u001b[0;32m   1180\u001b[0m \u001b[43m    \u001b[49m\u001b[38;5;28;43mself\u001b[39;49m\u001b[38;5;241;43m.\u001b[39;49m\u001b[43mget_parent\u001b[49m\u001b[43m(\u001b[49m\u001b[38;5;124;43m\"\u001b[39;49m\u001b[38;5;124;43mshell\u001b[39;49m\u001b[38;5;124;43m\"\u001b[39;49m\u001b[43m)\u001b[49m\u001b[43m,\u001b[49m\n\u001b[0;32m   1181\u001b[0m \u001b[43m    \u001b[49m\u001b[43mpassword\u001b[49m\u001b[38;5;241;43m=\u001b[39;49m\u001b[38;5;28;43;01mFalse\u001b[39;49;00m\u001b[43m,\u001b[49m\n\u001b[0;32m   1182\u001b[0m \u001b[43m\u001b[49m\u001b[43m)\u001b[49m\n",
      "File \u001b[1;32mc:\\users\\assoumane\\appdata\\local\\programs\\python\\python38\\lib\\site-packages\\ipykernel\\kernelbase.py:1219\u001b[0m, in \u001b[0;36mKernel._input_request\u001b[1;34m(self, prompt, ident, parent, password)\u001b[0m\n\u001b[0;32m   1216\u001b[0m             \u001b[38;5;28;01mbreak\u001b[39;00m\n\u001b[0;32m   1217\u001b[0m \u001b[38;5;28;01mexcept\u001b[39;00m \u001b[38;5;167;01mKeyboardInterrupt\u001b[39;00m:\n\u001b[0;32m   1218\u001b[0m     \u001b[38;5;66;03m# re-raise KeyboardInterrupt, to truncate traceback\u001b[39;00m\n\u001b[1;32m-> 1219\u001b[0m     \u001b[38;5;28;01mraise\u001b[39;00m \u001b[38;5;167;01mKeyboardInterrupt\u001b[39;00m(\u001b[38;5;124m\"\u001b[39m\u001b[38;5;124mInterrupted by user\u001b[39m\u001b[38;5;124m\"\u001b[39m) \u001b[38;5;28;01mfrom\u001b[39;00m \u001b[38;5;28mNone\u001b[39m\n\u001b[0;32m   1220\u001b[0m \u001b[38;5;28;01mexcept\u001b[39;00m \u001b[38;5;167;01mException\u001b[39;00m:\n\u001b[0;32m   1221\u001b[0m     \u001b[38;5;28mself\u001b[39m\u001b[38;5;241m.\u001b[39mlog\u001b[38;5;241m.\u001b[39mwarning(\u001b[38;5;124m\"\u001b[39m\u001b[38;5;124mInvalid Message:\u001b[39m\u001b[38;5;124m\"\u001b[39m, exc_info\u001b[38;5;241m=\u001b[39m\u001b[38;5;28;01mTrue\u001b[39;00m)\n",
      "\u001b[1;31mKeyboardInterrupt\u001b[0m: Interrupted by user"
     ]
    }
   ],
   "source": [
    "def option():\n",
    "    print('1 - Inscription')\n",
    "    print('2 - Connexion')\n",
    "    print('3 - Quitter')\n",
    "    \n",
    "    test = False\n",
    "    while(test == False):\n",
    "        num = input('Choisir  1 ou 2 ou 3 :')\n",
    "        if re.match(r\"[1 2 3]\",num):\n",
    "            \n",
    "            if num == 1 :\n",
    "                #self.inscription()\n",
    "                return num\n",
    "            elif num == 2 :\n",
    "                #self.connexion()\n",
    "                #session()\n",
    "                return num\n",
    "            elif num == 3 :\n",
    "                test = True\n",
    "                \n",
    "option()"
   ]
  },
  {
   "cell_type": "markdown",
   "id": "81c787d1",
   "metadata": {},
   "source": [
    "### TEST CLASSE INSCRIPTION"
   ]
  },
  {
   "cell_type": "code",
   "execution_count": 55,
   "id": "18623c31",
   "metadata": {},
   "outputs": [
    {
     "name": "stdout",
     "output_type": "stream",
     "text": [
      "\n",
      "\n",
      "\n",
      "username : aze745\n",
      "\n",
      "\n",
      "\n",
      "username : azdf425\n",
      "Vôtre username est: azdf425\n",
      "\n",
      "\n",
      "Mot de passe : azs$$\n",
      "Vôtre mot de passe est: azs$$\n"
     ]
    },
    {
     "data": {
      "text/plain": [
       "<__main__.inscription at 0x1a307e4c550>"
      ]
     },
     "execution_count": 55,
     "metadata": {},
     "output_type": "execute_result"
    }
   ],
   "source": [
    "class inscription:\n",
    "    liste_inscris = {}\n",
    "    nbre_compte = 0\n",
    "    def __init__(self):\n",
    "        self.username = username().username\n",
    "        self.password = password().motdepasse\n",
    "        inscription.liste_inscris[self.username] = self.password\n",
    "        inscription.nbre_compte += 1\n",
    "        \n",
    "inscription()"
   ]
  },
  {
   "cell_type": "code",
   "execution_count": 56,
   "id": "73abdfd3",
   "metadata": {},
   "outputs": [
    {
     "name": "stdout",
     "output_type": "stream",
     "text": [
      "\n",
      "\n",
      "\n",
      "username : asju458\n",
      "Vôtre username est: asju458\n",
      "\n",
      "\n",
      "Mot de passe : vhn$$\n",
      "Vôtre mot de passe est: vhn$$\n"
     ]
    },
    {
     "data": {
      "text/plain": [
       "<__main__.inscription at 0x1a307e4cf40>"
      ]
     },
     "execution_count": 56,
     "metadata": {},
     "output_type": "execute_result"
    }
   ],
   "source": [
    "inscription()"
   ]
  },
  {
   "cell_type": "code",
   "execution_count": 61,
   "id": "371015be",
   "metadata": {},
   "outputs": [
    {
     "data": {
      "text/plain": [
       "{'azdf425': 'azs$$', 'asju458': 'vhn$$'}"
      ]
     },
     "execution_count": 61,
     "metadata": {},
     "output_type": "execute_result"
    }
   ],
   "source": [
    "inscription.liste_inscris"
   ]
  },
  {
   "cell_type": "code",
   "execution_count": null,
   "id": "80c61adf",
   "metadata": {},
   "outputs": [],
   "source": [
    "class erreur_connexion():\n",
    "    def __init__(self,type):\n",
    "        self.type = type\n",
    "        "
   ]
  },
  {
   "cell_type": "markdown",
   "id": "755c4c40",
   "metadata": {},
   "source": [
    "### TEST DE CONNEXION"
   ]
  },
  {
   "cell_type": "code",
   "execution_count": 84,
   "id": "2e17efab",
   "metadata": {},
   "outputs": [
    {
     "name": "stdout",
     "output_type": "stream",
     "text": [
      "username : asju458\n",
      "mot de passe : vhn$$\n"
     ]
    },
    {
     "data": {
      "text/plain": [
       "True"
      ]
     },
     "execution_count": 84,
     "metadata": {},
     "output_type": "execute_result"
    }
   ],
   "source": [
    "class connexion :\n",
    "    \n",
    "    def __init__(self):\n",
    "        self.username = input('username : ') #username().username\n",
    "        self.password = input('mot de passe : ') #password().motdepasse\n",
    "        #self.connexion_ok()\n",
    "        \n",
    "        \n",
    "    def connexion_ok(self) :\n",
    "        test = False\n",
    "        while(test == False):\n",
    "            if self.username in inscription.liste_inscris :\n",
    "                if self.password == inscription.liste_inscris[self.username] :\n",
    "                    print('Connexion réussi')\n",
    "                    test = True\n",
    "                    return True\n",
    "            \n",
    "            print('Echec connexion')\n",
    "            test = True\n",
    "            return False\n",
    "            \n",
    "            \n",
    "#connexion().connexion_ok()"
   ]
  },
  {
   "cell_type": "code",
   "execution_count": 77,
   "id": "ac397ac2",
   "metadata": {},
   "outputs": [
    {
     "data": {
      "text/plain": [
       "{'azdf425': 'azs$$', 'asju458': 'vhn$$'}"
      ]
     },
     "execution_count": 77,
     "metadata": {},
     "output_type": "execute_result"
    }
   ],
   "source": [
    "inscription.liste_inscris"
   ]
  },
  {
   "cell_type": "code",
   "execution_count": 9,
   "id": "d8500b3c",
   "metadata": {},
   "outputs": [
    {
     "data": {
      "text/plain": [
       "1"
      ]
     },
     "execution_count": 9,
     "metadata": {},
     "output_type": "execute_result"
    }
   ],
   "source": [
    "inscription.nbre_compte"
   ]
  },
  {
   "cell_type": "code",
   "execution_count": 18,
   "id": "ff0f610d",
   "metadata": {},
   "outputs": [],
   "source": [
    "import os\n",
    "sauvegarde_username = os.open('sauvegarde-username.txt',os.O_RDWR | os.O_CREAT)\n",
    "#sauvegarde_username"
   ]
  },
  {
   "cell_type": "code",
   "execution_count": null,
   "id": "995dde21",
   "metadata": {},
   "outputs": [],
   "source": [
    "# sauvegarde des mots de passes\n",
    "class sauvegarde :\n",
    "    user = None\n",
    "    passw = None\n",
    "    hsauv = None\n",
    "    \n",
    "    def __init__(self,user,passw,hsauv) :\n",
    "        \n",
    "        hsauv = strftime('%d-%m-%Y %H:%M:%S', gmtime())\n",
    "        #self.sauv_pass()\n",
    "        \n",
    "    def sauv_pass(self,user,passw,hsauv):\n",
    "        fich1 = os.open('sauvegarde-username.txt',os.O_RDWR | os.O_CREAT)\n",
    "        fich2 = open('sauvegarde-username.txt','a')\n",
    "        fich2.write([ user,'**\\\\' + passw + '/**' , + '[' + hsauv + ']' ])\n",
    "        \n",
    "    #def "
   ]
  },
  {
   "cell_type": "code",
   "execution_count": 4,
   "id": "2254faca",
   "metadata": {},
   "outputs": [
    {
     "data": {
      "text/plain": [
       "'22-05-2022 14:58:40'"
      ]
     },
     "execution_count": 4,
     "metadata": {},
     "output_type": "execute_result"
    }
   ],
   "source": [
    "strftime('%d-%m-%Y %H:%M:%S', gmtime())"
   ]
  },
  {
   "cell_type": "code",
   "execution_count": 1,
   "id": "b120fd94",
   "metadata": {},
   "outputs": [
    {
     "data": {
      "text/plain": [
       "2"
      ]
     },
     "execution_count": 1,
     "metadata": {},
     "output_type": "execute_result"
    }
   ],
   "source": [
    "x = 2\n",
    "x"
   ]
  },
  {
   "cell_type": "markdown",
   "id": "3b52f6d9",
   "metadata": {},
   "source": [
    "### REPRISE DU SCRIPT"
   ]
  },
  {
   "cell_type": "code",
   "execution_count": 1,
   "id": "dbcf7a33",
   "metadata": {},
   "outputs": [],
   "source": [
    "import re, os\n",
    "import time, random\n",
    "from datetime import datetime as dt\n",
    "from time import gmtime, strftime\n",
    "import socket, platform, sys\n",
    "\n",
    "\n",
    "\n",
    "######### MOT DE PASSE  ###############\n",
    "class password :\n",
    "    def __init__(self):\n",
    "        self.motdepasse = self.format_motdepasse()\n",
    "        \n",
    "    def format_motdepasse(self):\n",
    "                test = False\n",
    "                while(test == False) :\n",
    "                    \"\"\"Le mot de passe n'étant pas un chiffre et ne commençant pas par un chiffre ,\n",
    "                    doit contenir 3 caractères alphanumériques suivis de 2 symbôles: $ + * = ou %\"\"\"\n",
    "                    motdepasse = input(\"\\n\\nMot de passe : \")\n",
    "                # ne doit pas être un numéro \n",
    "                    if re.match(r\"[^\\d]\", motdepasse):\n",
    "                            motdepasse_test = motdepasse\n",
    "                                # doit contenir des caractères alphanum suivis de $ + * = %\n",
    "                            if re.match(r'[a-zA-Z0-9]{3}[$+*=%]{2}',motdepasse_test) :\n",
    "                                        test = True                    \n",
    "                                        print(\"Vôtre mot de passe est: \" + motdepasse_test)\n",
    "                                        return motdepasse_test\n",
    "\n",
    "\n",
    "\n",
    "\n",
    "############ USERNAME ##################\n",
    "class username : \n",
    "    \"\"\"Paramètres de connexion du joueur\"\"\"\n",
    "    def __init__(self):\n",
    "        self.username = self.format_username()\n",
    "        \n",
    "    def format_username(self):\n",
    "        \"\"\" Format du username de taille 7 : eric123 \"\"\"\n",
    "\n",
    "        test = False\n",
    "        while(test == False) :\n",
    "            username = input(\"\\n\\n\\nusername : \")\n",
    "            #print('Vous avez écris : ' + username)\n",
    "        # ne doit pas être un numéro \n",
    "            if re.match(r\"[^\\d]\", username):\n",
    "                    login_test = username\n",
    "                    # ne doit pas commencer par un numéro\n",
    "                    \n",
    "                    if re.match(\"[^[0-9]\",login_test):\n",
    "                        #login = login_test\n",
    "                        # ne contient pas de symbôle\n",
    "                        sym = ['_','-','^','\"',' ','%','=','{','}','/','\\\\' , '+',\"$\",'*','.',',',';']\n",
    "                        login_test = ''.join(list(filter(lambda x : x not in sym, login_test )))\n",
    "                        \n",
    "                        if re.match(r'[^A-Z0-9]{4}[0-9]{3}',login_test) :\n",
    "                                test = True\n",
    "                                print(\"Vôtre username est: \" + login_test)\n",
    "                                return login_test\n",
    "                            \n",
    "                            \n",
    "                            \n",
    "\n",
    "#####################  sauvegarde des mots de passes  ###############\n",
    "class sauvegarde :\n",
    "    liste_compte = {}\n",
    "    #user = None\n",
    "    #passw = None\n",
    "    #hsauv = None\n",
    "    \n",
    "    def __init__(self,username,password) :\n",
    "        self.username = username\n",
    "        self.password = password\n",
    "\n",
    "        \n",
    "    def sauv_pass(self,hsauv,v = None, p = None , s = None):\n",
    "        fich1 = os.open('sauvegarde-username.txt',os.O_RDWR | os.O_CREAT)\n",
    "        fich2 = open('sauvegarde-username.txt','a')\n",
    "        hsauv = strftime('%d-%m-%Y %H:%M:%S', gmtime())\n",
    "        s = socket.gethostbyname(socket.gethostname())\n",
    "        p = platform.uname()\n",
    "        v = sys.version\n",
    "        fich2.write('\\n')\n",
    "        fich2.writelines([' '*3 + self.username,' '*7 + '**\\\\' + self.password + '/**' + ' '*4 ,  '[' + hsauv + ']' +\\\n",
    "                         \n",
    "          v + ' ù_y     }' + str(p) + '    111  ' + s + '...'   ])\n",
    "        fich2.write('\\n')\n",
    "        fich2.write('-'*100)\n",
    "        sauvegarde.nbre_compte = len(sauvegarde.liste_compte)         \n",
    "        fich2.close()\n",
    " \n",
    "            \n",
    "###################################### DONNEE ##################################\n",
    "\n",
    "\n",
    "class donnee :\n",
    "    \n",
    "    liste_compte = {}\n",
    "    \n",
    "    def __init__(self) :\n",
    "        \n",
    "        self.liste()\n",
    "\n",
    "    def liste(self):\n",
    "        fich = open(\"sauvegarde-username.txt\",'r').read()\n",
    "        #u =  re.compile(r'\\w{7}').findall(fich )\n",
    "        u =  re.compile(r'[a-zA-Z]{4}[0-9]{3}').findall(fich ) \n",
    "        p = re.compile(r'[a-zA-Z0-9]{3}[$+*=%]{2}').findall(fich) \n",
    "        #donnee.liste_compte = {u[i]:p[i] for i in range(len(u))}\n",
    "        for i in range(len(u)):\n",
    "            donnee.liste_compte[u[i]] = p[i]\n",
    "        #fich.close()\n",
    "        \n",
    "#donnee().liste_compte            \n",
    "            \n",
    "            \n",
    "############# INSCRIPTION  #########################                 \n",
    "\n",
    "\n",
    "\n",
    "\n",
    "\n",
    "class inscription :\n",
    "    liste_inscris = donnee().liste_compte \n",
    "    #liste_compte = {}\n",
    "    \n",
    "    nbre_compte = 0\n",
    "    def __init__(self):\n",
    "        self.username = username().username\n",
    "        self.password = None  #password().motdepasse\n",
    "        self.inscription_ok()\n",
    "        #self.inscription_nok()\n",
    "        \n",
    "                      \n",
    "    def inscription_ok(self):\n",
    "        inscription.liste_inscris = donnee().liste_compte \n",
    "        if self.username not in inscription.liste_inscris :\n",
    "            self.password  = password().motdepasse\n",
    "            inscription.liste_inscris[self.username] = self.password\n",
    "            #inscription.nbre_compte += 1 \n",
    "            hsauv = strftime('%d-%m-%Y %H:%M:%S', gmtime())\n",
    "            sauvegarde('i\\\\' + self.username, self.password).sauv_pass(hsauv)\n",
    "            inscription.liste_inscris = donnee().liste_compte \n",
    "            print('Inscription réussi !!!')\n",
    "        else : print('username déjà utilisé !!!')\n",
    "            \n",
    "    def inscription_nok(self):\n",
    "        inscription.liste_inscris = donnee().liste_compte \n",
    "        if self.username in inscription.liste_inscris :\n",
    "            print('username déjà utilisé !!!')\n",
    "            \n",
    "            \n",
    "\n",
    "            \n",
    "########### CONNEXION  ###############      \n",
    "        \n",
    "class connexion :\n",
    "    \n",
    "    def __init__(self):\n",
    "        self.username = input('username : ') #username().username\n",
    "        self.password = input('mot de passe : ') #password().motdepasse\n",
    "        self.adminusername = None\n",
    "        self.adminpassword = None\n",
    "        #self.connexion_ok()\n",
    "        \n",
    "        \n",
    "    def connexion_ok(self) :\n",
    "        test = False\n",
    "        while(test == False):\n",
    "            if self.username in inscription.liste_inscris :\n",
    "                if self.password == inscription.liste_inscris[self.username] :\n",
    "                    print('Connexion réussi !!!')\n",
    "                    hsauv = strftime('%d-%m-%Y %H:%M:%S', gmtime())\n",
    "                    sauvegarde('c\\\\' + self.username, self.password ).sauv_pass(hsauv)\n",
    "                    inscription.liste_inscris # = donnee().liste_compte \n",
    "                    test = True\n",
    "                    return True\n",
    "            \n",
    "            print('Echec connexion')\n",
    "            test = True\n",
    "            return False\n",
    "            \n",
    "            \n",
    "#connexion().connexion_ok()        \n",
    "        \n",
    "\n",
    "class utilisateur :\n",
    "    def __init__(self,username,password):\n",
    "        \n",
    "        self.username = username\n",
    "        self.password = password\n",
    "        \n",
    "        #inscrit?\n",
    "        #connecter?\n",
    "        #voir ses activités\n",
    "        \n",
    "    \n",
    "    def estinscris(self):\n",
    "        inscription.liste_inscris #copie du contenu de donnee dans la liste d'inscription \n",
    "        return self.username in inscription.liste_inscris\n",
    "        \n",
    "    def isconnect(self):\n",
    "        inscription.liste_inscris #copie du contenu de donnee dans la liste d'inscription \n",
    "        return self.username in inscription.liste_inscris and self.password == inscription.liste_inscris[self.username]\n",
    "    \n",
    "    def monespace(self):\n",
    "        if self.isconnect() :\n",
    "            new_password = password().motdepasse  #input('Modifier votre profile : ')\n",
    "            self.password  = new_password\n",
    "            hsauv = strftime('%d-%m-%Y %H:%M:%S', gmtime())\n",
    "            sauvegarde('cm\\\\' + self.username,self.password).sauv_pass(hsauv)\n",
    "            inscription.liste_inscris #copie du contenu de donnee dans la liste d'inscription \n",
    "            \n",
    "    \n",
    "class administrateur :\n",
    "    superadminuser = 'sojl'\n",
    "    superadminpass = 'azerty1@3$'\n",
    "    \n",
    "    \n",
    "    \n",
    "\n",
    "#################### PROGRAMME SOJLUST  ############ SOJLUST  ####### SOJLUST  ########## SOJLUST ##########\n",
    "\n",
    "class sojlust :\n",
    "    def __init__(self, coup = 51, cadrage = 35, barre = '|') :\n",
    "        self.coup = coup\n",
    "        self.cadrage = cadrage\n",
    "        self.barre = barre\n",
    "        self.connexion = option()\n",
    "\n",
    "     # affichage de la chaine de caractères   \n",
    "        \n",
    "    def __str__(self):\n",
    "        return (' '*self.cadrage + '|'*self.coup )\n",
    "    \n",
    "     # la valeur proposée par user\n",
    "    def prop_valeur(self, *prop):\n",
    "        #self.\n",
    "        pass\n",
    "\n",
    "\n",
    "    \n",
    "    \n",
    "\n",
    "    \n",
    "\n",
    "######## OPTION #########\n",
    "\n",
    "#import re\n",
    "def option():\n",
    "    print('1 - Inscription')\n",
    "    print('2 - Connexion')\n",
    "    print('3 - Quitter')\n",
    "    \n",
    "    test = False\n",
    "    while(test == False):\n",
    "        num = input('Choisir  1 ou 2 ou 3 :')\n",
    "        if re.match(r\"[1 2 3]\",num):\n",
    "            \n",
    "            if num == '1' :\n",
    "                insc = inscription()\n",
    "                print('Page d\"inscription')\n",
    "                test = True\n",
    "            elif num == '2' :\n",
    "                conn = connexion().connexion_ok()\n",
    "                print('page de connexion !!!')\n",
    "                test = True\n",
    "            elif num == '3' :\n",
    "                test = True\n",
    "                print('QUIT !!!')\n",
    "                \n",
    "#option()    \n",
    "    \n",
    "    \n",
    "############ Execution du script  ################\n",
    "# nom de lordi, lieu de connexion, temps de connexion (date a laquelle on appue sur quit)\n",
    "# echec de connexion pour les logs\n",
    "sojlust().connexion\n",
    "#option()"
   ]
  },
  {
   "cell_type": "code",
   "execution_count": 2,
   "id": "baf61bad",
   "metadata": {},
   "outputs": [
    {
     "data": {
      "text/plain": [
       "{'gdfs245': 'kjl$$',\n",
       " 'dfgt854': 'bdk%$',\n",
       " 'wkjf548': 'kfd==',\n",
       " 'mldj458': 'glj%$',\n",
       " 'gdfs246': 'kjl$=',\n",
       " 'defr351': 'jex=%',\n",
       " 'kzca831': 'syu%%',\n",
       " 'hdge874': 'qzc%%'}"
      ]
     },
     "execution_count": 2,
     "metadata": {},
     "output_type": "execute_result"
    }
   ],
   "source": [
    "donnee().liste_compte"
   ]
  },
  {
   "cell_type": "code",
   "execution_count": 3,
   "id": "2f994f2f",
   "metadata": {},
   "outputs": [
    {
     "data": {
      "text/plain": [
       "{'gdfs245': 'kjl$$',\n",
       " 'dfgt854': 'bdk%$',\n",
       " 'wkjf548': 'kfd==',\n",
       " 'mldj458': 'glj%$',\n",
       " 'gdfs246': 'kjl$=',\n",
       " 'defr351': 'jex=%',\n",
       " 'kzca831': 'syu%%',\n",
       " 'hdge874': 'qzc%%'}"
      ]
     },
     "execution_count": 3,
     "metadata": {},
     "output_type": "execute_result"
    }
   ],
   "source": [
    "inscription.liste_inscris"
   ]
  },
  {
   "cell_type": "code",
   "execution_count": 4,
   "id": "e3afddbb",
   "metadata": {},
   "outputs": [
    {
     "data": {
      "text/plain": [
       "True"
      ]
     },
     "execution_count": 4,
     "metadata": {},
     "output_type": "execute_result"
    }
   ],
   "source": [
    "inscription.liste_inscris == donnee().liste_compte"
   ]
  },
  {
   "cell_type": "code",
   "execution_count": 5,
   "id": "80719828",
   "metadata": {},
   "outputs": [
    {
     "data": {
      "text/plain": [
       "True"
      ]
     },
     "execution_count": 5,
     "metadata": {},
     "output_type": "execute_result"
    }
   ],
   "source": [
    "# Ancien mot de passe -- connexion à tester --\n",
    "utilisateur('kzca831','syu%%').isconnect()"
   ]
  },
  {
   "cell_type": "code",
   "execution_count": 6,
   "id": "ad85ecfe",
   "metadata": {},
   "outputs": [
    {
     "data": {
      "text/plain": [
       "False"
      ]
     },
     "execution_count": 6,
     "metadata": {},
     "output_type": "execute_result"
    }
   ],
   "source": [
    "# connexion à tester avec un faux mot de passe\n",
    "utilisateur('kzca831','syu$$').isconnect()"
   ]
  },
  {
   "cell_type": "code",
   "execution_count": 7,
   "id": "359b5370",
   "metadata": {},
   "outputs": [
    {
     "name": "stdout",
     "output_type": "stream",
     "text": [
      "\n",
      "\n",
      "Mot de passe : syu$$\n",
      "Vôtre mot de passe est: syu$$\n"
     ]
    }
   ],
   "source": [
    "# modifier le mot de passe\n",
    "utilisateur('kzca831','syu%%').monespace()"
   ]
  },
  {
   "cell_type": "code",
   "execution_count": 17,
   "id": "80b87e59",
   "metadata": {},
   "outputs": [
    {
     "data": {
      "text/plain": [
       "True"
      ]
     },
     "execution_count": 17,
     "metadata": {},
     "output_type": "execute_result"
    }
   ],
   "source": [
    "# tester le nouveau mot de passe\n",
    "utilisateur('kzca831','syu%%').isconnect()"
   ]
  },
  {
   "cell_type": "code",
   "execution_count": 12,
   "id": "8f3aaf73",
   "metadata": {},
   "outputs": [
    {
     "data": {
      "text/plain": [
       "{'gdfs245': 'kjl$$',\n",
       " 'dfgt854': 'bdk%$',\n",
       " 'wkjf548': 'kfd==',\n",
       " 'mldj458': 'glj%$',\n",
       " 'gdfs246': 'kjl$=',\n",
       " 'defr351': 'jex=%',\n",
       " 'kzca831': 'syu%%',\n",
       " 'hdge874': 'qzc%%'}"
      ]
     },
     "execution_count": 12,
     "metadata": {},
     "output_type": "execute_result"
    }
   ],
   "source": [
    "donnee().liste_compte"
   ]
  },
  {
   "cell_type": "code",
   "execution_count": 9,
   "id": "018dd312",
   "metadata": {},
   "outputs": [
    {
     "data": {
      "text/plain": [
       "{'gdfs245': 'kjl$$',\n",
       " 'dfgt854': 'bdk%$',\n",
       " 'wkjf548': 'kfd==',\n",
       " 'mldj458': 'glj%$',\n",
       " 'gdfs246': 'kjl$=',\n",
       " 'defr351': 'jex=%',\n",
       " 'kzca831': 'syu%%',\n",
       " 'hdge874': 'qzc%%'}"
      ]
     },
     "execution_count": 9,
     "metadata": {},
     "output_type": "execute_result"
    }
   ],
   "source": [
    "inscription.liste_inscris"
   ]
  },
  {
   "cell_type": "code",
   "execution_count": 14,
   "id": "6dbd08f7",
   "metadata": {},
   "outputs": [
    {
     "data": {
      "text/plain": [
       "True"
      ]
     },
     "execution_count": 14,
     "metadata": {},
     "output_type": "execute_result"
    }
   ],
   "source": [
    "inscription.liste_inscris == donnee().liste_compte"
   ]
  },
  {
   "cell_type": "code",
   "execution_count": 56,
   "id": "1e64e529",
   "metadata": {},
   "outputs": [
    {
     "data": {
      "text/plain": [
       "{}"
      ]
     },
     "execution_count": 56,
     "metadata": {},
     "output_type": "execute_result"
    }
   ],
   "source": [
    "sauvegarde.liste_compte"
   ]
  },
  {
   "cell_type": "code",
   "execution_count": null,
   "id": "de5fa667",
   "metadata": {},
   "outputs": [],
   "source": []
  },
  {
   "cell_type": "code",
   "execution_count": 12,
   "id": "f33fe619",
   "metadata": {},
   "outputs": [
    {
     "name": "stdout",
     "output_type": "stream",
     "text": [
      "1 - Inscription\n",
      "2 - Connexion\n",
      "3 - Quitter\n",
      "Choisir  1 ou 2 ou 3 :djhi875\n",
      "Choisir  1 ou 2 ou 3 :fdh$$\n",
      "Choisir  1 ou 2 ou 3 :1\n",
      "\n",
      "\n",
      "\n",
      "username : 1\n",
      "\n",
      "\n",
      "\n",
      "username : gdfs245\n",
      "Vôtre username est: gdfs245\n",
      "\n",
      "\n",
      "Mot de passe : kjl$$\n",
      "Vôtre mot de passe est: kjl$$\n",
      "Inscription réussi !!!\n",
      "Page d\"inscription\n"
     ]
    }
   ],
   "source": [
    "#  i\\idjs785       **\\kjh%%/**\n",
    "sojlust().connexion"
   ]
  },
  {
   "cell_type": "code",
   "execution_count": 14,
   "id": "ebe396b5",
   "metadata": {},
   "outputs": [
    {
     "name": "stdout",
     "output_type": "stream",
     "text": [
      "1 - Inscription\n",
      "2 - Connexion\n",
      "3 - Quitter\n",
      "Choisir  1 ou 2 ou 3 :2\n",
      "username : gdfs245\n",
      "mot de passe : kjl$$\n",
      "Connexion réussi !!!\n",
      "page de connexion !!!\n"
     ]
    }
   ],
   "source": [
    "sojlust().connexion\n"
   ]
  },
  {
   "cell_type": "code",
   "execution_count": null,
   "id": "5ab23e6a",
   "metadata": {},
   "outputs": [],
   "source": []
  },
  {
   "cell_type": "code",
   "execution_count": 5,
   "id": "8f1a1859",
   "metadata": {},
   "outputs": [
    {
     "data": {
      "text/plain": [
       "{'aujl215': 'jhd$$', 'dhbc854': 'lkd%%'}"
      ]
     },
     "execution_count": 5,
     "metadata": {},
     "output_type": "execute_result"
    }
   ],
   "source": [
    "inscription.liste_inscris"
   ]
  },
  {
   "cell_type": "code",
   "execution_count": 8,
   "id": "48e24f35",
   "metadata": {},
   "outputs": [
    {
     "name": "stdout",
     "output_type": "stream",
     "text": [
      "1 - Inscription\n",
      "2 - Connexion\n",
      "3 - Quitter\n",
      "Choisir  1 ou 2 ou 3 :2\n",
      "username : azer478\n",
      "mot de passe : dfg%$\n",
      "Connexion réussi\n",
      "page de connexion !!!\n"
     ]
    }
   ],
   "source": [
    "sojlust().connexion"
   ]
  },
  {
   "cell_type": "code",
   "execution_count": 7,
   "id": "8073a1e2",
   "metadata": {},
   "outputs": [
    {
     "name": "stdout",
     "output_type": "stream",
     "text": [
      "1 - Inscription\n",
      "2 - Connexion\n",
      "3 - Quitter\n",
      "Choisir  1 ou 2 ou 3 :2\n",
      "username : dera032\n",
      "mot de passe : gft$$\n",
      "Connexion réussi\n",
      "page de connexion !!!\n"
     ]
    }
   ],
   "source": [
    "sojlust().connexion"
   ]
  },
  {
   "cell_type": "markdown",
   "id": "54f83aea",
   "metadata": {},
   "source": [
    "### Traitement du fichier de sauvegarde"
   ]
  },
  {
   "cell_type": "code",
   "execution_count": 24,
   "id": "fb52bb76",
   "metadata": {},
   "outputs": [
    {
     "name": "stdout",
     "output_type": "stream",
     "text": [
      "['gdfs245', 'gdfs245', 'dfgt854', 'wkjf548']\n"
     ]
    },
    {
     "data": {
      "text/plain": [
       "{'gdfs245': 'kjl$$', 'dfgt854': 'bdk%$', 'wkjf548': 'kfd=='}"
      ]
     },
     "execution_count": 24,
     "metadata": {},
     "output_type": "execute_result"
    }
   ],
   "source": [
    "x = open(\"sauvegarde-username.txt\",'r').read()\n",
    "u =  re.compile(r'\\w{7}').findall(x) \n",
    "print(u)\n",
    "\n",
    "p = re.compile(r'[a-zA-Z0-9]{3}[$+*=%]{2}').findall(x) \n",
    "p\n",
    "{u[i]:p[i] for i in range(len(u))}\n"
   ]
  },
  {
   "cell_type": "code",
   "execution_count": 12,
   "id": "3347ebc4",
   "metadata": {},
   "outputs": [
    {
     "data": {
      "text/plain": [
       "{'gdfs245': 'kjl$$',\n",
       " 'dfgt854': 'bdk%$',\n",
       " 'wkjf548': 'kfd==',\n",
       " 'mldj458': 'glj%$'}"
      ]
     },
     "execution_count": 12,
     "metadata": {},
     "output_type": "execute_result"
    }
   ],
   "source": [
    "class donnee :\n",
    "    \n",
    "    liste_compte = {}\n",
    "    \n",
    "    def __init__(self) :\n",
    "        x = open(\"sauvegarde-username.txt\",'r').read()\n",
    "        u =  re.compile(r'\\w{7}').findall(x) \n",
    "        p = re.compile(r'[a-zA-Z0-9]{3}[$+*=%]{2}').findall(x) \n",
    "        donnee.liste_compte = {u[i]:p[i] for i in range(len(u))}\n",
    "        \n",
    "donnee().liste_compte"
   ]
  },
  {
   "cell_type": "code",
   "execution_count": 4,
   "id": "211455ca",
   "metadata": {},
   "outputs": [
    {
     "data": {
      "text/plain": [
       "\"\\n   i\\\\gdfs245       **\\\\kjl$$/**    [22-05-2022 15:46:28]\\n----------------------------------------------------------------------------------------------------\\n   c\\\\gdfs245       **\\\\kjl$$/**    [22-05-2022 15:48:20]\\n----------------------------------------------------------------------------------------------------\\n   i\\\\dfgt854       **\\\\bdk%$/**    [22-05-2022 18:35:49]\\n----------------------------------------------------------------------------------------------------\\n   i\\\\wkjf548       **\\\\kfd==/**    [22-05-2022 18:38:38]\\n----------------------------------------------------------------------------------------------------\\n   i\\\\mldj458       **\\\\glj%$/**    [22-05-2022 18:34:52]\\n----------------------------------------------------------------------------------------------------\\n   c\\\\wkjf548       **\\\\kfd==/**    [22-05-2022 21:37:39]\\n----------------------------------------------------------------------------------------------------\\n   c\\\\dfgt854       **\\\\bdk%$/**    [22-05-2022 21:38:57]\\n----------------------------------------------------------------------------------------------------\\n   c\\\\gdfs245       **\\\\kjl$$/**    [23-05-2022 12:02:05]3.9.7 (default, Sep 16 2021, 16:59:28) [MSC v.1916 64 bit (AMD64)] ù_y     }uname_result(system='Windows', node='DESKTOP-GDN6TNT', release='10', version='10.0.18363', machine='AMD64')    111  192.168.1.67...\\n----------------------------------------------------------------------------------------------------\\n   c\\\\gdfs245       **\\\\kjl$$/**    [23-05-2022 12:25:49]3.9.7 (default, Sep 16 2021, 16:59:28) [MSC v.1916 64 bit (AMD64)] ù_y     }uname_result(system='Windows', node='DESKTOP-GDN6TNT', release='10', version='10.0.18363', machine='AMD64')    111  192.168.1.67...\\n----------------------------------------------------------------------------------------------------\\n   i\\\\gdfs246       **\\\\kjl$=/**    [23-05-2022 12:27:05]3.9.7 (default, Sep 16 2021, 16:59:28) [MSC v.1916 64 bit (AMD64)] ù_y     }uname_result(system='Windows', node='DESKTOP-GDN6TNT', release='10', version='10.0.18363', machine='AMD64')    111  192.168.1.67...\\n----------------------------------------------------------------------------------------------------\""
      ]
     },
     "execution_count": 4,
     "metadata": {},
     "output_type": "execute_result"
    }
   ],
   "source": [
    "x = open(\"sauvegarde-username.txt\",'r').read()\n",
    "x"
   ]
  },
  {
   "cell_type": "code",
   "execution_count": 10,
   "id": "319c6515",
   "metadata": {},
   "outputs": [
    {
     "name": "stdout",
     "output_type": "stream",
     "text": [
      "['gdfs245', 'gdfs245', 'dfgt854', 'wkjf548', 'mldj458', 'wkjf548', 'dfgt854', 'gdfs245']\n",
      "['kjl$$', 'kjl$$', 'bdk%$', 'kfd==', 'glj%$', 'kfd==', 'bdk%$', 'kjl$$']\n"
     ]
    },
    {
     "data": {
      "text/plain": [
       "{'gdfs245': 'kjl$$',\n",
       " 'dfgt854': 'bdk%$',\n",
       " 'wkjf548': 'kfd==',\n",
       " 'mldj458': 'glj%$'}"
      ]
     },
     "execution_count": 10,
     "metadata": {},
     "output_type": "execute_result"
    }
   ],
   "source": [
    "import re\n",
    "fich = open(\"sauvegarde-username.txt\",'r').read()\n",
    "#u =  re.compile(r'\\w{7}').findall(fich ) \n",
    "u =  re.compile(r'[a-zA-Z]{4}[0-9]{3}').findall(fich ) \n",
    "print(u)\n",
    "p = re.compile(r'[a-zA-Z0-9]{3}[$+*=%]{2}').findall(fich) \n",
    "print(p)\n",
    "{u[i]:p[i] for i in range(len(u))}"
   ]
  },
  {
   "cell_type": "code",
   "execution_count": 9,
   "id": "3226b7c4",
   "metadata": {},
   "outputs": [
    {
     "name": "stdout",
     "output_type": "stream",
     "text": [
      "['gdfs245', 'gdfs245', 'dfgt854', 'wkjf548', 'mldj458', 'wkjf548', 'dfgt854', 'gdfs245']\n"
     ]
    }
   ],
   "source": [
    "u =  re.compile(r'[a-zA-Z]{4}[0-9]{3}').findall(fich ) \n",
    "print(u)"
   ]
  },
  {
   "cell_type": "code",
   "execution_count": 7,
   "id": "d041e642",
   "metadata": {},
   "outputs": [
    {
     "name": "stdout",
     "output_type": "stream",
     "text": [
      "['22-05-2022 15:46:28', '22-05-2022 15:48:20', '22-05-2022 18:35:49', '22-05-2022 18:38:38', '22-05-2022 18:34:52', '22-05-2022 21:37:39', '22-05-2022 21:38:57', '23-05-2022 12:02:05', '23-05-2022 12:25:49', '23-05-2022 12:27:05']\n"
     ]
    }
   ],
   "source": [
    "#récupératuon des dates\n",
    "print(re.compile(r'[0-9]*-[0-9]*-[0-9]*\\s[0-9]*:[0-9]*:[0-9]*').findall(x))\n",
    "\n",
    "#recupération des noms de machines\n",
    "\n",
    "#recupération des tentatives de connexion\n",
    "\n",
    "# géolocalisation"
   ]
  },
  {
   "cell_type": "code",
   "execution_count": null,
   "id": "ecbe0569",
   "metadata": {},
   "outputs": [],
   "source": [
    "# "
   ]
  },
  {
   "cell_type": "code",
   "execution_count": 8,
   "id": "695464e6",
   "metadata": {},
   "outputs": [
    {
     "data": {
      "text/plain": [
       "['ldj458', 'fgt854', 'dfs246', 'kjf548', 'dfs245']"
      ]
     },
     "execution_count": 8,
     "metadata": {},
     "output_type": "execute_result"
    }
   ],
   "source": [
    "# le\n",
    "cpattern = list(set([i[3:] for i in re.compile(r'[ic]\\\\[\\w]*',).findall(x) ]))\n",
    "cpattern"
   ]
  },
  {
   "cell_type": "code",
   "execution_count": 10,
   "id": "b03bd091",
   "metadata": {},
   "outputs": [
    {
     "name": "stdout",
     "output_type": "stream",
     "text": [
      "['gdfs245', 'gdfs245', 'dfgt854', 'wkjf548', 'mldj458', 'wkjf548', 'dfgt854', 'gdfs245', 'default', 'uname_r', 'Windows', 'DESKTOP', 'GDN6TNT', 'release', 'version', 'machine', 'gdfs245', 'default', 'uname_r', 'Windows', 'DESKTOP', 'GDN6TNT', 'release', 'version', 'machine', 'gdfs246', 'default', 'uname_r', 'Windows', 'DESKTOP', 'GDN6TNT', 'release', 'version', 'machine']\n"
     ]
    },
    {
     "data": {
      "text/plain": [
       "['kjl$$',\n",
       " 'kjl$$',\n",
       " 'bdk%$',\n",
       " 'kfd==',\n",
       " 'glj%$',\n",
       " 'kfd==',\n",
       " 'bdk%$',\n",
       " 'kjl$$',\n",
       " 'kjl$$',\n",
       " 'kjl$=']"
      ]
     },
     "execution_count": 10,
     "metadata": {},
     "output_type": "execute_result"
    }
   ],
   "source": [
    "# tout caractere alphanumerique de longueur 7 --->> username\n",
    "u =  re.compile(r'\\w{7}').findall(x) \n",
    "print(u)\n",
    "\n",
    "p = re.compile(r'[a-zA-Z0-9]{3}[$+*=%]{2}').findall(x) \n",
    "p\n"
   ]
  },
  {
   "cell_type": "code",
   "execution_count": 56,
   "id": "28dd6b0e",
   "metadata": {},
   "outputs": [
    {
     "name": "stdout",
     "output_type": "stream",
     "text": [
      "{'c': 'd', 'a': 'b'}\n"
     ]
    }
   ],
   "source": [
    "g = {'c':'d' }\n",
    "g.update({'a':'b'})\n",
    "print(g)"
   ]
  },
  {
   "cell_type": "markdown",
   "id": "a2baaa17",
   "metadata": {},
   "source": [
    "### Information sur la Machine / Système"
   ]
  },
  {
   "cell_type": "code",
   "execution_count": 5,
   "id": "c4bf747e",
   "metadata": {},
   "outputs": [
    {
     "name": "stdout",
     "output_type": "stream",
     "text": [
      "3.9.7 (default, Sep 16 2021, 16:59:28) [MSC v.1916 64 bit (AMD64)] ... uname_result(system='Windows', node='DESKTOP-GDN6TNT', release='10', version='10.0.18363', machine='AMD64') ... 192.168.1.67 ...\n"
     ]
    }
   ],
   "source": [
    "import socket, platform, sys \n",
    "s = socket.gethostbyname(socket.gethostname())\n",
    "p = platform.uname()\n",
    "v = sys.version\n",
    "\n",
    "print(v,'...',p,'...',s,'...')"
   ]
  },
  {
   "cell_type": "code",
   "execution_count": 37,
   "id": "de8b29a2",
   "metadata": {},
   "outputs": [
    {
     "data": {
      "text/plain": [
       "{'gdfs245': 'kjl$$',\n",
       " 'dfgt854': 'bdk%$',\n",
       " 'wkjf548': 'kfd==',\n",
       " 'mldj458': 'glj%$'}"
      ]
     },
     "execution_count": 37,
     "metadata": {},
     "output_type": "execute_result"
    }
   ],
   "source": [
    "donnee.liste_compte"
   ]
  },
  {
   "cell_type": "markdown",
   "id": "21ec69e8",
   "metadata": {},
   "source": [
    "### Générer des fichiers log avec python"
   ]
  },
  {
   "cell_type": "code",
   "execution_count": null,
   "id": "88c29088",
   "metadata": {},
   "outputs": [],
   "source": [
    "class logfiles :\n",
    "\n",
    "    def __init__(self) :\n",
    "        pass\n",
    "    \n",
    "    # fichier qui récupère toutes les actions\n",
    "    \n",
    "    \n",
    "    #def "
   ]
  }
 ],
 "metadata": {
  "kernelspec": {
   "display_name": "Python 3 (ipykernel)",
   "language": "python",
   "name": "python3"
  },
  "language_info": {
   "codemirror_mode": {
    "name": "ipython",
    "version": 3
   },
   "file_extension": ".py",
   "mimetype": "text/x-python",
   "name": "python",
   "nbconvert_exporter": "python",
   "pygments_lexer": "ipython3",
   "version": "3.8.5"
  }
 },
 "nbformat": 4,
 "nbformat_minor": 5
}
