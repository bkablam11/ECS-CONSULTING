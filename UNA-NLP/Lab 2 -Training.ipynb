{
 "cells": [
  {
   "cell_type": "markdown",
   "id": "407bb4ea",
   "metadata": {},
   "source": [
    "## eXercice1"
   ]
  },
  {
   "cell_type": "markdown",
   "id": "70a45cb5-7145-405b-9f98-9db4d8d7d49a",
   "metadata": {},
   "source": [
    "On dispose d'une liste de noms de localités et l'on se propose\n",
    "de rechercher celles dont le nom de termine par ville.\n",
    "On ne distingue pas les majuscules et les minuscules dans la\n",
    "recherche. Les villes en questions sont indiquées comme suit:\n",
    "    \n",
    "Ablon\n",
    "Acqueville\n",
    "Agy\n",
    "Aigner-Ville\n",
    "Airan\n",
    "Amayé-sur-Orne\n",
    "Amblie\n",
    "Amfreville\n",
    "Angervillers\n",
    "Angoville"
   ]
  },
  {
   "cell_type": "code",
   "execution_count": 2,
   "id": "bcf52b6a",
   "metadata": {},
   "outputs": [],
   "source": [
    "chaine=\"Ablon\\n\\\n",
    "Angoville\\n\\\n",
    "Agy\\n\\\n",
    "Aigner-Ville\\n\\\n",
    "Airan\\n\\\n",
    "Amayé-sur-Orne\\n\\\n",
    "Amblie\\n\\\n",
    "Amfreville\\n\\\n",
    "Angervillers\\n\\\n",
    "Acqueville\\n\"\n",
    "#chaine2=\"Ablon\\n Acqueville\\nAgy\\nAigner-Ville\\nAiran\\nAmayé-sur-Orne\\nAmblie\\nAmfreville\\nAngervillers\\nAngoville\""
   ]
  },
  {
   "cell_type": "code",
   "execution_count": 3,
   "id": "52e8b3a0",
   "metadata": {},
   "outputs": [
    {
     "data": {
      "text/plain": [
       "['Angoville', 'Aigner-Ville', 'Amfreville', 'Acqueville']"
      ]
     },
     "execution_count": 3,
     "metadata": {},
     "output_type": "execute_result"
    }
   ],
   "source": [
    "import re\n",
    "regex=re.compile(\".+[Vv]ille$\", re.MULTILINE)\n",
    "regex.findall(chaine)\n",
    "#ou bien\n",
    "#x=re.findall(regex, chaine)\n",
    "#print(x)"
   ]
  },
  {
   "cell_type": "code",
   "execution_count": 4,
   "id": "062c3439",
   "metadata": {},
   "outputs": [
    {
     "data": {
      "text/plain": [
       "['Angoville', 'Aigner-Ville', 'Amfreville', 'Acqueville']"
      ]
     },
     "execution_count": 4,
     "metadata": {},
     "output_type": "execute_result"
    }
   ],
   "source": [
    "import re\n",
    "pattern = \".*ville$\"\n",
    "cpattern = re.compile(pattern, re.MULTILINE+re.IGNORECASE)\n",
    "cpattern.findall(chaine)"
   ]
  },
  {
   "cell_type": "code",
   "execution_count": null,
   "id": "1b78d49a",
   "metadata": {},
   "outputs": [],
   "source": []
  },
  {
   "cell_type": "markdown",
   "id": "b8395392",
   "metadata": {},
   "source": [
    "### eXercice2\n",
    "##### Correspondance avec une expression exacte uniquement"
   ]
  },
  {
   "cell_type": "raw",
   "id": "803508bb",
   "metadata": {},
   "source": [
    "Rechercher une correspondance avec les expressions :\n",
    "    \"stock tips\"  \n",
    "    \"stock tip\"      \n",
    "    \"stock   tips\"\n",
    "    \"stock   tip\"  \n",
    "    \"stocktip\"\n",
    "    \"stocktips\""
   ]
  },
  {
   "cell_type": "code",
   "execution_count": 5,
   "id": "8bda0ece",
   "metadata": {},
   "outputs": [
    {
     "name": "stdout",
     "output_type": "stream",
     "text": [
      "stock tips je ne suis pas stock tip elle ne pense stock   tips stock   tip est une fille  stocktip tu es beau stocktips ghstocktips\n"
     ]
    }
   ],
   "source": [
    "chain=\"stock tips je ne suis pas stock tip elle ne pense stock   tips stock   tip est une fille  stocktip tu es beau stocktips ghstocktips\"\n",
    "print(chain)"
   ]
  },
  {
   "cell_type": "code",
   "execution_count": 6,
   "id": "34c5b05d",
   "metadata": {},
   "outputs": [
    {
     "name": "stdout",
     "output_type": "stream",
     "text": [
      "['stock tips']\n"
     ]
    }
   ],
   "source": [
    "import re\n",
    "ropattern=re.compile(r\"^stock\\s{0,3}tips?\") \n",
    "x=re.findall(ropattern, chain)\n",
    "print(x)"
   ]
  },
  {
   "cell_type": "code",
   "execution_count": 7,
   "id": "0e130c06",
   "metadata": {},
   "outputs": [
    {
     "name": "stdout",
     "output_type": "stream",
     "text": [
      "<re.Match object; span=(0, 9), match='stock tip'>\n",
      "None\n"
     ]
    }
   ],
   "source": [
    "print(re.match(ropattern, \"stock tip\"))\n",
    "print(re.match(ropattern, \"astocktips\"))"
   ]
  },
  {
   "cell_type": "markdown",
   "id": "28cdb442",
   "metadata": {},
   "source": [
    "### eXercice3\n",
    "##### Correspondance avec un mot ou une expression figurant dans une liste"
   ]
  },
  {
   "cell_type": "code",
   "execution_count": null,
   "id": "4813c204",
   "metadata": {},
   "outputs": [
    {
     "ename": "SyntaxError",
     "evalue": "invalid syntax (2269246587.py, line 1)",
     "output_type": "error",
     "traceback": [
      "\u001b[1;36m  Input \u001b[1;32mIn [8]\u001b[1;36m\u001b[0m\n\u001b[1;33m    Rechercher une correspondance avec tout mot ou toute expression\u001b[0m\n\u001b[1;37m               ^\u001b[0m\n\u001b[1;31mSyntaxError\u001b[0m\u001b[1;31m:\u001b[0m invalid syntax\n"
     ]
    }
   ],
   "source": [
    "Rechercher une correspondance avec tout mot ou toute expression\n",
    "parmi les mots suivants : baloney , darn, drat, fooey, gosh darnit, heck"
   ]
  },
  {
   "cell_type": "code",
   "execution_count": null,
   "id": "58bb7c3b",
   "metadata": {},
   "outputs": [
    {
     "name": "stdout",
     "output_type": "stream",
     "text": [
      "None\n"
     ]
    }
   ],
   "source": [
    "regex3=re.compile(r\"(baloney|darn|dart|fooey|gosh darnit|heck)\")\n",
    "test1=re.match(regex3, 'baloney')\n",
    "test2=re.match(regex3, 'darn')\n",
    "test3=re.match(regex3, 'drat')\n",
    "test4=re.match(regex3, 'fooey')\n",
    "test5=re.match(regex3, 'gosh darnit')\n",
    "test6=re.match(regex3, 'heck')\n",
    "print(re.fullmatch(regex3, 'heckn'))"
   ]
  },
  {
   "cell_type": "markdown",
   "id": "41edc64a",
   "metadata": {},
   "source": [
    "### eXercice4\n",
    "##### Correspondance avec un mot présentant des variantes\n",
    "##### orthographiques ou des caractères spéciaux"
   ]
  },
  {
   "cell_type": "markdown",
   "id": "c8ed71f5-22d1-49d0-a394-55bdb2319e01",
   "metadata": {},
   "source": [
    "Rechercher une correspondance avec le mot \"viagra\" et certaines autres\n",
    "orthographes pouvant être utilisés par les spammeurs telles que :\n",
    "vi@gra , v1agra, v1@gra, v!@gr@"
   ]
  },
  {
   "cell_type": "code",
   "execution_count": 14,
   "id": "82c36c16",
   "metadata": {},
   "outputs": [
    {
     "name": "stdout",
     "output_type": "stream",
     "text": [
      "[]\n"
     ]
    }
   ],
   "source": [
    "chaine_car= \"\"\"Le viagra est une substance dangeureuse, on l'écrit souvent en Italie vi@gra, \n",
    "au Japon v1agra, en Chine continentale v1@gra et les amoureux l'écrivent v!@gr@\"\"\"\n",
    "regex2=re.compile(r\"(^v[i1!][a@]gr[a@])\")\n",
    "m=re.findall(regex2, chaine_car)\n",
    "print(m)"
   ]
  },
  {
   "cell_type": "markdown",
   "id": "2dcc980d",
   "metadata": {
    "tags": []
   },
   "source": []
  },
  {
   "cell_type": "raw",
   "id": "5982b230",
   "metadata": {},
   "source": [
    "Rechercher une correspondance dans toutes les adresses e-mail des domaines\n",
    "yahoo.com, hotmail.com et gmail.com."
   ]
  },
  {
   "cell_type": "code",
   "execution_count": 15,
   "id": "4462ae8a",
   "metadata": {},
   "outputs": [
    {
     "name": "stdout",
     "output_type": "stream",
     "text": [
      "<re.Match object; span=(0, 17), match='amani@hotmail.com'>\n"
     ]
    }
   ],
   "source": [
    "chaine2=\"\"\"Je suis Koua saint blanc Amani, j'ai crée recemment une adresse mail sur yahoo.\n",
    "Ma nouvelle adresse mail est kouasaint@yahoo.com et je la trouve assez cool.\n",
    "Le suffixe de toutes les adresses mail est .@yahoo.com.\n",
    "J'avais déjà une adresse mail sur google, kouasaintblancamani@gmail.com et \n",
    "aussi une sur microsoft dont l'adresse est amani@hotmail.com\"\"\"\n",
    "\n",
    "regex3=re.compile(r\"\\w+(@yahoo|@hotmail|@gmail)\\.com$\")\n",
    "result=re.fullmatch(regex3, \"amani@hotmail.com\")\n",
    "print(result)"
   ]
  },
  {
   "cell_type": "markdown",
   "id": "5adf88cf",
   "metadata": {},
   "source": [
    "### eXercice6\n",
    "##### Correspondance avec une adresse IP comprise dans une plage"
   ]
  },
  {
   "cell_type": "raw",
   "id": "7cecc7c2",
   "metadata": {},
   "source": [
    "Rechercher une correspondance avec toute adresse IP comprise\n",
    "dans la plage allant de 192.168.1.0 à 192.168.1.255."
   ]
  },
  {
   "cell_type": "code",
   "execution_count": 16,
   "id": "c93463df",
   "metadata": {},
   "outputs": [
    {
     "name": "stdout",
     "output_type": "stream",
     "text": [
      "(0|1|2|3|4|5|6|7|8|9|10|11|12|13|14|15|16|17|18|19|20|21|22|23|24|25|26|27|28|29|30|31|32|33|34|35|36|37|38|39|40|41|42|43|44|45|46|47|48|49|50|51|52|53|54|55|56|57|58|59|60|61|62|63|64|65|66|67|68|69|70|71|72|73|74|75|76|77|78|79|80|81|82|83|84|85|86|87|88|89|90|91|92|93|94|95|96|97|98|99|100|101|102|103|104|105|106|107|108|109|110|111|112|113|114|115|116|117|118|119|120|121|122|123|124|125|126|127|128|129|130|131|132|133|134|135|136|137|138|139|140|141|142|143|144|145|146|147|148|149|150|151|152|153|154|155|156|157|158|159|160|161|162|163|164|165|166|167|168|169|170|171|172|173|174|175|176|177|178|179|180|181|182|183|184|185|186|187|188|189|190|191|192|193|194|195|196|197|198|199|200|201|202|203|204|205|206|207|208|209|210|211|212|213|214|215|216|217|218|219|220|221|222|223|224|225|226|227|228|229|230|231|232|233|234|235|236|237|238|239|240|241|242|243|244|245|246|247|248|249|250|251|252|253|254|255)\n"
     ]
    }
   ],
   "source": [
    "a='|'\n",
    "liste=list(range(0,256))\n",
    "for ele in liste:\n",
    "    liste[liste.index(ele)]=str(ele)\n",
    "lis=a.join(liste)\n",
    "plage='('+lis+')'\n",
    "print(plage)"
   ]
  },
  {
   "cell_type": "code",
   "execution_count": 17,
   "id": "10264379",
   "metadata": {},
   "outputs": [
    {
     "name": "stdout",
     "output_type": "stream",
     "text": [
      "<re.Match object; span=(0, 12), match='192.168.1.10'>\n"
     ]
    }
   ],
   "source": [
    "regex3=re.compile(r\"192\\.168\\.1\\.{}\".format(plage))\n",
    "x=re.fullmatch(regex3, '192.168.1.10')\n",
    "print(x)"
   ]
  },
  {
   "cell_type": "markdown",
   "id": "2948d4be",
   "metadata": {},
   "source": [
    "# méthode du prof\n",
    "on recherche les adresses IP"
   ]
  },
  {
   "cell_type": "code",
   "execution_count": 18,
   "id": "912d0384",
   "metadata": {},
   "outputs": [
    {
     "name": "stdout",
     "output_type": "stream",
     "text": [
      "<re.Match object; span=(0, 13), match='192.168.1.110'>\n"
     ]
    }
   ],
   "source": [
    "listee=list(map(lambda x:str(x), list(range(0,256))))\n",
    "print(re.fullmatch(r\"192\\.168\\.1\\.({})\".format('|'.join(listee)), \"192.168.1.110\"))"
   ]
  },
  {
   "cell_type": "markdown",
   "id": "36442191",
   "metadata": {},
   "source": [
    "### eXercice7\n",
    "##### Correspondance avec un format alphanumérique"
   ]
  },
  {
   "cell_type": "markdown",
   "id": "277e8dc4-92cc-41c3-acda-5a445d836bb0",
   "metadata": {},
   "source": [
    "Rechercher une correspondance dans les numéros de bons de\n",
    "commande de votre entreprise. Ils peuvent se présenter \n",
    "sous des formats différents, tels que : PO nn-nnnnn ,\n",
    "PO-nn-nnnn , PO# nn nnnn ,PO#nn-nnnn, PO nnnnnn où les n\n",
    "sont des chiffres. ex: PO-25-2456"
   ]
  },
  {
   "cell_type": "code",
   "execution_count": 20,
   "id": "ea20b6cc",
   "metadata": {},
   "outputs": [],
   "source": [
    "pattern1=re.compile(\"^PO[ -#]{1} ?\")"
   ]
  },
  {
   "cell_type": "markdown",
   "id": "6678f164-a408-4301-b88a-1fb2facb5c40",
   "metadata": {},
   "source": [
    "### Exercice 4 - password"
   ]
  },
  {
   "cell_type": "code",
   "execution_count": 21,
   "id": "5525228b-92d3-4835-bc5d-4124c7df8de3",
   "metadata": {},
   "outputs": [
    {
     "name": "stdin",
     "output_type": "stream",
     "text": [
      "Enter your password:  blanchard2010@\n"
     ]
    },
    {
     "name": "stdout",
     "output_type": "stream",
     "text": [
      "password must contain one capital letter\n"
     ]
    },
    {
     "name": "stdin",
     "output_type": "stream",
     "text": [
      "Enter your password:  Blanchard2010@\n"
     ]
    },
    {
     "ename": "TypeError",
     "evalue": "unsupported operand type(s) for &: 'str' and 'int'",
     "output_type": "error",
     "traceback": [
      "\u001b[1;31m---------------------------------------------------------------------------\u001b[0m",
      "\u001b[1;31mTypeError\u001b[0m                                 Traceback (most recent call last)",
      "Input \u001b[1;32mIn [21]\u001b[0m, in \u001b[0;36m<cell line: 18>\u001b[1;34m()\u001b[0m\n\u001b[0;32m     26\u001b[0m     \u001b[38;5;28mprint\u001b[39m(\u001b[38;5;124m\"\u001b[39m\u001b[38;5;124mpassword must contain one capital letter\u001b[39m\u001b[38;5;124m\"\u001b[39m)\n\u001b[0;32m     27\u001b[0m \u001b[38;5;28;01melif\u001b[39;00m re\u001b[38;5;241m.\u001b[39mmatch(\u001b[38;5;124mr\u001b[39m\u001b[38;5;124m'\u001b[39m\u001b[38;5;124m[a-z A-Z 0-9 !@#$\u001b[39m\u001b[38;5;124m%\u001b[39m\u001b[38;5;124m&]\u001b[39m\u001b[38;5;132;01m{6}\u001b[39;00m\u001b[38;5;124m'\u001b[39m, password):\n\u001b[1;32m---> 28\u001b[0m     pattern \u001b[38;5;241m=\u001b[39m \u001b[43mre\u001b[49m\u001b[38;5;241;43m.\u001b[39;49m\u001b[43mcompile\u001b[49m\u001b[43m(\u001b[49m\u001b[38;5;124;43mr\u001b[39;49m\u001b[38;5;124;43m'\u001b[39;49m\u001b[38;5;124;43m[a-z A-Z 0-9 !@#$\u001b[39;49m\u001b[38;5;124;43m%\u001b[39;49m\u001b[38;5;124;43m&]\u001b[39;49m\u001b[38;5;132;43;01m{6}\u001b[39;49;00m\u001b[38;5;124;43m'\u001b[39;49m\u001b[43m,\u001b[49m\u001b[43m \u001b[49m\u001b[43mpassword\u001b[49m\u001b[43m)\u001b[49m\n\u001b[0;32m     29\u001b[0m     result \u001b[38;5;241m=\u001b[39m pattern\u001b[38;5;241m.\u001b[39mmatch(password)\n\u001b[0;32m     30\u001b[0m     \u001b[38;5;28mprint\u001b[39m(\u001b[38;5;124m'\u001b[39m\u001b[38;5;124mpassword is correct\u001b[39m\u001b[38;5;124m'\u001b[39m)\n",
      "File \u001b[1;32mc:\\users\\assoumane\\appdata\\local\\programs\\python\\python38\\lib\\re.py:252\u001b[0m, in \u001b[0;36mcompile\u001b[1;34m(pattern, flags)\u001b[0m\n\u001b[0;32m    250\u001b[0m \u001b[38;5;28;01mdef\u001b[39;00m \u001b[38;5;21mcompile\u001b[39m(pattern, flags\u001b[38;5;241m=\u001b[39m\u001b[38;5;241m0\u001b[39m):\n\u001b[0;32m    251\u001b[0m     \u001b[38;5;124m\"\u001b[39m\u001b[38;5;124mCompile a regular expression pattern, returning a Pattern object.\u001b[39m\u001b[38;5;124m\"\u001b[39m\n\u001b[1;32m--> 252\u001b[0m     \u001b[38;5;28;01mreturn\u001b[39;00m \u001b[43m_compile\u001b[49m\u001b[43m(\u001b[49m\u001b[43mpattern\u001b[49m\u001b[43m,\u001b[49m\u001b[43m \u001b[49m\u001b[43mflags\u001b[49m\u001b[43m)\u001b[49m\n",
      "File \u001b[1;32mc:\\users\\assoumane\\appdata\\local\\programs\\python\\python38\\lib\\re.py:304\u001b[0m, in \u001b[0;36m_compile\u001b[1;34m(pattern, flags)\u001b[0m\n\u001b[0;32m    302\u001b[0m \u001b[38;5;28;01mif\u001b[39;00m \u001b[38;5;129;01mnot\u001b[39;00m sre_compile\u001b[38;5;241m.\u001b[39misstring(pattern):\n\u001b[0;32m    303\u001b[0m     \u001b[38;5;28;01mraise\u001b[39;00m \u001b[38;5;167;01mTypeError\u001b[39;00m(\u001b[38;5;124m\"\u001b[39m\u001b[38;5;124mfirst argument must be string or compiled pattern\u001b[39m\u001b[38;5;124m\"\u001b[39m)\n\u001b[1;32m--> 304\u001b[0m p \u001b[38;5;241m=\u001b[39m \u001b[43msre_compile\u001b[49m\u001b[38;5;241;43m.\u001b[39;49m\u001b[43mcompile\u001b[49m\u001b[43m(\u001b[49m\u001b[43mpattern\u001b[49m\u001b[43m,\u001b[49m\u001b[43m \u001b[49m\u001b[43mflags\u001b[49m\u001b[43m)\u001b[49m\n\u001b[0;32m    305\u001b[0m \u001b[38;5;28;01mif\u001b[39;00m \u001b[38;5;129;01mnot\u001b[39;00m (flags \u001b[38;5;241m&\u001b[39m DEBUG):\n\u001b[0;32m    306\u001b[0m     \u001b[38;5;28;01mif\u001b[39;00m \u001b[38;5;28mlen\u001b[39m(_cache) \u001b[38;5;241m>\u001b[39m\u001b[38;5;241m=\u001b[39m _MAXCACHE:\n\u001b[0;32m    307\u001b[0m         \u001b[38;5;66;03m# Drop the oldest item\u001b[39;00m\n",
      "File \u001b[1;32mc:\\users\\assoumane\\appdata\\local\\programs\\python\\python38\\lib\\sre_compile.py:764\u001b[0m, in \u001b[0;36mcompile\u001b[1;34m(p, flags)\u001b[0m\n\u001b[0;32m    762\u001b[0m \u001b[38;5;28;01mif\u001b[39;00m isstring(p):\n\u001b[0;32m    763\u001b[0m     pattern \u001b[38;5;241m=\u001b[39m p\n\u001b[1;32m--> 764\u001b[0m     p \u001b[38;5;241m=\u001b[39m \u001b[43msre_parse\u001b[49m\u001b[38;5;241;43m.\u001b[39;49m\u001b[43mparse\u001b[49m\u001b[43m(\u001b[49m\u001b[43mp\u001b[49m\u001b[43m,\u001b[49m\u001b[43m \u001b[49m\u001b[43mflags\u001b[49m\u001b[43m)\u001b[49m\n\u001b[0;32m    765\u001b[0m \u001b[38;5;28;01melse\u001b[39;00m:\n\u001b[0;32m    766\u001b[0m     pattern \u001b[38;5;241m=\u001b[39m \u001b[38;5;28;01mNone\u001b[39;00m\n",
      "File \u001b[1;32mc:\\users\\assoumane\\appdata\\local\\programs\\python\\python38\\lib\\sre_parse.py:948\u001b[0m, in \u001b[0;36mparse\u001b[1;34m(str, flags, state)\u001b[0m\n\u001b[0;32m    945\u001b[0m state\u001b[38;5;241m.\u001b[39mstr \u001b[38;5;241m=\u001b[39m \u001b[38;5;28mstr\u001b[39m\n\u001b[0;32m    947\u001b[0m \u001b[38;5;28;01mtry\u001b[39;00m:\n\u001b[1;32m--> 948\u001b[0m     p \u001b[38;5;241m=\u001b[39m _parse_sub(source, state, \u001b[43mflags\u001b[49m\u001b[43m \u001b[49m\u001b[38;5;241;43m&\u001b[39;49m\u001b[43m \u001b[49m\u001b[43mSRE_FLAG_VERBOSE\u001b[49m, \u001b[38;5;241m0\u001b[39m)\n\u001b[0;32m    949\u001b[0m \u001b[38;5;28;01mexcept\u001b[39;00m Verbose:\n\u001b[0;32m    950\u001b[0m     \u001b[38;5;66;03m# the VERBOSE flag was switched on inside the pattern.  to be\u001b[39;00m\n\u001b[0;32m    951\u001b[0m     \u001b[38;5;66;03m# on the safe side, we'll parse the whole thing again...\u001b[39;00m\n\u001b[0;32m    952\u001b[0m     state \u001b[38;5;241m=\u001b[39m State()\n",
      "\u001b[1;31mTypeError\u001b[0m: unsupported operand type(s) for &: 'str' and 'int'"
     ]
    }
   ],
   "source": [
    "# python validate password using RegEx\n",
    "\"\"\"_his python video #10 covers the concept to write a python program \n",
    "to check the validity of a password using RegEx. \n",
    "Password should contain at least \n",
    "1) upper case letter, \n",
    "2) one special symbol \n",
    "3) one digit \n",
    "4) length of the character must be 6 char long, \n",
    "depending on these condition we will validate password, \n",
    "and also we will see how to write protected password using \n",
    "getsspas module and validate it using regex in python.\n",
    "\"\"\"\n",
    "\n",
    "import re\n",
    "\n",
    "pattern = re.compile(r'')\n",
    "while True:\n",
    "    password = input(\"Enter your password: \")\n",
    "    if (len(password)<6):\n",
    "        print(\"password must be 6 characters long\")\n",
    "    elif re.search(r'[!@#$%&]', password) is None:\n",
    "        print(\"password must contain atleasr one special symbol\")\n",
    "    elif re.search(r'\\d', password) is None:\n",
    "        print(\"password must contain atleast one digit\")\n",
    "    elif re.search(r'[A-Z]', password) is None:\n",
    "        print(\"password must contain one capital letter\")\n",
    "    elif re.match(r'[a-z A-Z 0-9 !@#$%&]{6}', password):\n",
    "        pattern = re.compile(r'[a-z A-Z 0-9 !@#$%&]{6}', password)\n",
    "        result = pattern.match(password)\n",
    "        print('password is correct')\n",
    "        break\n",
    "    else:\n",
    "        print('password invalid')"
   ]
  },
  {
   "cell_type": "code",
   "execution_count": null,
   "id": "98bf87be-8fb1-4334-9223-d1374b5d76ac",
   "metadata": {},
   "outputs": [],
   "source": []
  }
 ],
 "metadata": {
  "kernelspec": {
   "display_name": "Python 3 (ipykernel)",
   "language": "python",
   "name": "python3"
  },
  "language_info": {
   "codemirror_mode": {
    "name": "ipython",
    "version": 3
   },
   "file_extension": ".py",
   "mimetype": "text/x-python",
   "name": "python",
   "nbconvert_exporter": "python",
   "pygments_lexer": "ipython3",
   "version": "3.8.5"
  }
 },
 "nbformat": 4,
 "nbformat_minor": 5
}
