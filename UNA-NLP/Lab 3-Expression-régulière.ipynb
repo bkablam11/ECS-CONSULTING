{
 "cells": [
  {
   "cell_type": "raw",
   "id": "1c0a4203",
   "metadata": {},
   "source": [
    "Les expressions régulières (regex ou re) permettent de vérifier si le contenu d'une variable a la forme (pattern) de ce que l'on attend."
   ]
  },
  {
   "cell_type": "markdown",
   "id": "318658ea",
   "metadata": {},
   "source": [
    "### Les opérateurs d'expression régulières"
   ]
  },
  {
   "cell_type": "raw",
   "id": "6fbce8d3",
   "metadata": {},
   "source": [
    "re : est le module permettant de traiter les expressions régulières.  Ce module doit d'abord être import comme suit :\n",
    "import re"
   ]
  },
  {
   "cell_type": "code",
   "execution_count": 1,
   "id": "72a2a97f",
   "metadata": {},
   "outputs": [],
   "source": [
    "import re"
   ]
  },
  {
   "cell_type": "raw",
   "id": "bb7a04c1",
   "metadata": {},
   "source": [
    "Les symbôles les plus souvent utilisés pour définir une expression régulière : .^$+?{}[]\\|() "
   ]
  },
  {
   "cell_type": "raw",
   "id": "96baa87c",
   "metadata": {},
   "source": [
    ".   Le point correspont à n'importe quel caractère.\n",
    "\n",
    "\n",
    "Exemple : l’expression A.G peut correspondre par exemples à ATG, AtG, A4G, mais aussi à A-G ou à A G. "
   ]
  },
  {
   "cell_type": "raw",
   "id": "d196b9e8",
   "metadata": {},
   "source": [
    "^ indique un commencement de segment (quand il est à l'extérieur des crochets)\n",
    "^ signifie le 'contraire de'  (quand il est à l'interieur des crochets)\n",
    "\n",
    "En pratique, il désigne le début d'une nouvelle ligne puisqu'il indique de renvoyer la proposition s'il n'y a aucun caractère devant (Attention l'espace est un caractère)."
   ]
  },
  {
   "cell_type": "raw",
   "id": "709d804a",
   "metadata": {},
   "source": [
    "$ Fin de segment. C'est à dire tous les mots ou expressions finissant par la suite de caractères indiquées.\n",
    "En pratique, $ désigne une fin de ligne, puisqu'aucun caractère n'est censé être présent après ce caractère (y compris les espaces)."
   ]
  },
  {
   "cell_type": "raw",
   "id": "1d719f9b",
   "metadata": {},
   "source": [
    "[xy] une liste de segment possible.\n",
    "\n",
    "Exemple [abc] équivaut à : a,b ou c (NB: le ou inclut le et).\n",
    "        [ABC] le caractère A ou B ou C (un seul caractère)\n",
    "        \n",
    "        l'expression T[ABC]G peut matcher la chaine de caractère TAG, TBG, TCG mais pas TG.\n",
    "        \n",
    "        \n",
    "[A-Z] n'importe quelle lettre majuscule.\n",
    "     Exemple : l'expression C[A-Z]T correspond à CAT, CBT, CCT...\n",
    "     \n",
    "[a-z] n'importe quelle lettre minuscule.\n",
    "[0-9] n'importe quel chiffre\n",
    "[A-Za-z0-9_] n'importe quel caractère alphanumérique\n",
    "[^AB] n'importe quel caractère sauf A et B. Exemple : l'expression CG[^AB]T correspond à CG9T, CGCT... mais pas à CGAT ni à CGBT"
   ]
  },
  {
   "cell_type": "raw",
   "id": "3e5b9e0d",
   "metadata": {},
   "source": [
    "(x|y) Indique un choix multiple; équivaut à \"x\" OU \"y\".\n",
    "\n",
    "Exemple :\n",
    "   (CG|TT) chaînes de caractères qui correspondent à CG ou TT. \n",
    "   l’expression A(CG|TT)C correspond à ACGC ou ATTC. NB: Quand les parenthèses \n",
    "   sont spécifiées, elles s'appliquent à l'ensemble formé par les caractères et non individuellement."
   ]
  },
  {
   "cell_type": "raw",
   "id": "5a89f8ee",
   "metadata": {},
   "source": [
    "\\d le segment est composé uniquement de chiffre. Ce qui peut donc s'écrire comme [0-9]. \n",
    "   Tous les caractères rencontrés sont des chiffres (peu importe leur nombre) \n",
    "\\D le segment n'est pas composé de chiffres, ce qui équivaut à [^0-9]. "
   ]
  },
  {
   "cell_type": "raw",
   "id": "2d8866de",
   "metadata": {},
   "source": [
    "\\s Un espace, ce qui équivaut à [ \\t\\n\\r\\f\\v] qui sont les séparateur classiques \\t, \\n, \\r, \\f ou \\v \n",
    "   (voir la section UTILISATION DE L’ANTISLASH \\ . \n",
    " \n",
    " \\S Pas d'espace, ce qui équivaut à [^ \\t\\n\\r\\f\\v]. "
   ]
  },
  {
   "cell_type": "raw",
   "id": "e7e75bbb",
   "metadata": {},
   "source": [
    "\\w Présence alphanumérique, ce qui équivaut à [a-zA-Z0-9_].\n",
    "\n",
    "\\W Pas de présence alphanumérique [^a-zA-Z0-9_]. "
   ]
  },
  {
   "cell_type": "raw",
   "id": "609a3e97",
   "metadata": {},
   "source": [
    "\\ Est un caractère d'échappement (permettant de continuer un ligne, ou écrire une \n",
    "apostrophe, etc...). Exemple : l’expression \\+ désigne le caractère + sans autre signification \n",
    "particulière. L’expression A\\.G correspond à A.G et non pas à A suivi de n’importe quel \n",
    "caractère, suivi de G. "
   ]
  },
  {
   "cell_type": "raw",
   "id": "4ca100fd",
   "metadata": {},
   "source": [
    "? Définit 0 à 1 fois le caractère précédent ou l’expression entre parenthèses. \n",
    "  Exemple:\n",
    "        GR(.)?S \n",
    "        Résultats possibles: GRS, GROS, GRIS, GRAS.\n",
    "        L’expression A(CG)?T correspond à AT ou ACGT. \n",
    "\n",
    "\n",
    "+ Définit 1 à n fois le caractère précédent ou l’expression entre parenthèses précédente.\n",
    "  Exemple:\n",
    "        GR(.)+S . \n",
    "        Résultats possibles: GROS, GRIS, GRAS. \n",
    "        L’expression A(CG)+T correspond à ACGT, ACGCGT... mais pas à AT. \n",
    "        \n",
    "* Définit 0 à plusieurs fois le caractère précédent ou l’expression entre parenthèses précédente.\n",
    "  Exemple: \n",
    "        GR(.)*S. \n",
    "        Résultats possibles: GRS,GROO,GRIIIS,GROlivierS. \n",
    "        L’expression A(CG)*T correspond à AT, ACGT, ACGCGT...\n",
    "        \n",
    "        \n",
    "{ } permet d'imposer le nombre d'occurences d'un caractères ou une expression. Les différentes variantes sont : \n",
    "    {n} n fois le caractère précédent ou l’expression entre parenthèses précédente\n",
    "    {n,m} n à m fois le caractère précédent ou l’expression entre parenthèses précédente\n",
    "    {n,} au moins n fois le caractère précédent ou l’expression entre parenthèses précédente \n",
    "    {,m} au plus m fois le caractère précédent ou l’expression entre parenthèses précédente\n",
    "\n",
    "     Exemples :\n",
    "              A{2}    : on attend à ce que la lettre A (en majuscule) se répète 2 fois consécutivement ;\n",
    "              BRA{,9} : on attend à ce que le segment BRA s répète de 0 à 9 fois consécutives ; \n",
    "              BA{1,9} : on attend à ce que le segment BA se répète de 1 à 9 fois consécutives ; \n",
    "              VO{1,} : on attend à ce que le segment VO soit présent au mois une fois. "
   ]
  },
  {
   "cell_type": "markdown",
   "id": "2d959f6c",
   "metadata": {},
   "source": [
    "## eXercice1"
   ]
  },
  {
   "cell_type": "raw",
   "id": "4147645b",
   "metadata": {},
   "source": [
    "Soit le pattern suivant: \"GR(.)?S\" Vérifions si le texte \"GRIS\" correspond à ce pattern."
   ]
  },
  {
   "cell_type": "code",
   "execution_count": 2,
   "id": "d32af807",
   "metadata": {},
   "outputs": [
    {
     "name": "stdout",
     "output_type": "stream",
     "text": [
      "<re.Match object; span=(0, 4), match='GRIS'>\n"
     ]
    }
   ],
   "source": [
    "import re\n",
    "print(re.match(r\"GR(.)?S\", \"GRIS\")) "
   ]
  },
  {
   "cell_type": "code",
   "execution_count": 7,
   "id": "77b40a29-d472-4f88-a76f-1ae3b453258a",
   "metadata": {},
   "outputs": [
    {
     "name": "stdout",
     "output_type": "stream",
     "text": [
      "<re.Match object; span=(0, 3), match='GRS'>\n"
     ]
    }
   ],
   "source": [
    "patern = \"GR(.)?S\"\n",
    "string = \"GRS\"\n",
    "print(re.match(patern, string))"
   ]
  },
  {
   "cell_type": "markdown",
   "id": "b436e6db",
   "metadata": {},
   "source": [
    "## eXercice2"
   ]
  },
  {
   "cell_type": "raw",
   "id": "138e2a5e",
   "metadata": {},
   "source": [
    "\n",
    "     GR(.)+S   GRIS \n",
    "     GR(.)?S   GRS\n",
    "     GRA(.)?S  GRAS\n",
    "     GAS(.)?   GRAS\n",
    "     GR(A)?S   GRAS\n",
    "     GR(A)?S   GRS"
   ]
  },
  {
   "cell_type": "markdown",
   "id": "7cc9d2e6",
   "metadata": {},
   "source": [
    "## eXercice3"
   ]
  },
  {
   "cell_type": "raw",
   "id": "bec365f9",
   "metadata": {},
   "source": [
    "               |\n",
    "               |\n",
    "               |\n",
    "M(.)+N         |   MAISON\n",
    "M(.)+(O)+N     |MAISON\n",
    "M(.)+([a-z])+N |MAISON\n",
    "M(.)+([A-Z])+N |MAISON\n",
    "^!             |   !MAISON!\n",
    "!MAISON        |!MAISON!\n",
    "^!MAISO!$      |!MAISON!\n",
    "^!MAISON!$     |!MAISON!\n",
    "^!M(.)+!$      |!MAISON!"
   ]
  },
  {
   "cell_type": "code",
   "execution_count": 3,
   "id": "9f885425",
   "metadata": {},
   "outputs": [
    {
     "name": "stdout",
     "output_type": "stream",
     "text": [
      "<re.Match object; span=(0, 14), match='03 88 00 00 00'>\n"
     ]
    }
   ],
   "source": [
    "import re\n",
    "print(re.match(r\"^0[0-9]([ .-/]?[0-9]{2}){4}\",\"03 88 00 00 00\"))\n"
   ]
  },
  {
   "cell_type": "raw",
   "id": "e07d55d4",
   "metadata": {},
   "source": [
    "([0-9 ]{14})                       03 88 00 00 00\n",
    "^0[0-9]([ .-/]?[0-9]{2}){4}        03 88 00 00 00\n",
    "^0[0-9]([ .-/]?[0-9]{2}){4}        03/88/00/00/00\n",
    "^0[0-9]([ .-/]?[0-9]{2}){4}        03_88_00_00_00"
   ]
  },
  {
   "cell_type": "code",
   "execution_count": 4,
   "id": "812e817d",
   "metadata": {},
   "outputs": [
    {
     "name": "stdout",
     "output_type": "stream",
     "text": [
      "['111', '222']\n",
      "olivier a 33 ans\n"
     ]
    }
   ],
   "source": [
    "x=re.findall(\"([0-9]+)\", \"Bonjour 111 Aurevoir 222\") # recherche dans le texte \"Bonjour 111 Aurevoir 222\", le pattern([0-9]+\n",
    "print(x) # Il s'agit ici d'une recherche simple.\n",
    "#Pour faire une recherche et un remplacement, on fait:\n",
    "x= re.sub(r\"Bienvenue chez (?P<chezqui>\\w+) ! Tu as (?P<age>\\d+) ans?\", \\\n",
    "          r\"\\g<chezqui> a \\g<age> ans\", \"Bienvenue chez olivier ! Tu as 33 ans\")\n",
    "print(x)"
   ]
  },
  {
   "cell_type": "code",
   "execution_count": 5,
   "id": "6ddb089d",
   "metadata": {},
   "outputs": [],
   "source": [
    "x1 = re.compile(r\"[0-9]+\") # 1 ou plusieurs caractères numériques entre 0 et 9\n",
    "x2 = re.compile(r\"([0-9])+\") # le '+' s'applique au résultat qui est entre parenthèse\n",
    "x21 =re.compile(r\"([0-2]?)\")\n",
    "x3 = re.compile(r\"([0-9])\")\n",
    "x4 = re.compile(r\"[0-9]\")\n",
    "x5 = re.compile(r\"([0-9]+)+\")\n"
   ]
  },
  {
   "cell_type": "code",
   "execution_count": 6,
   "id": "606d34a9",
   "metadata": {},
   "outputs": [
    {
     "name": "stdout",
     "output_type": "stream",
     "text": [
      "['123', '456'] re.compile('[0-9]+')\n"
     ]
    }
   ],
   "source": [
    "x=re.findall(x1, \"Bonjour 123 Aurevoir 456\")\n",
    "print(x,x1)"
   ]
  },
  {
   "cell_type": "code",
   "execution_count": 7,
   "id": "0f7ac2f8",
   "metadata": {},
   "outputs": [
    {
     "name": "stdout",
     "output_type": "stream",
     "text": [
      "['3', '6'] re.compile('([0-9])+')\n"
     ]
    }
   ],
   "source": [
    "x=re.findall(x2, \"Bonjour 123 Aurevoir 456\")\n",
    "print(x,x2)"
   ]
  },
  {
   "cell_type": "code",
   "execution_count": 8,
   "id": "cfe756dd",
   "metadata": {},
   "outputs": [
    {
     "name": "stdout",
     "output_type": "stream",
     "text": [
      "['2', '3', '4'] re.compile('([0-9])+')\n"
     ]
    }
   ],
   "source": [
    "x=re.findall(x2, \"12-3-4\")\n",
    "print(x,x2)"
   ]
  },
  {
   "cell_type": "code",
   "execution_count": 9,
   "id": "34f6de11",
   "metadata": {},
   "outputs": [
    {
     "name": "stdout",
     "output_type": "stream",
     "text": [
      "['', '', '', '', '', '', '', '', '1', '2', '', '', '', '', '', '', '', '', '', '', '', '', '', '', ''] re.compile('([0-2]?)')\n"
     ]
    }
   ],
   "source": [
    "x=re.findall(x21, \"Bonjour 123 Aurevoir 456\")\n",
    "print(x,x21)"
   ]
  },
  {
   "cell_type": "code",
   "execution_count": 10,
   "id": "c269a8d8",
   "metadata": {},
   "outputs": [
    {
     "name": "stdout",
     "output_type": "stream",
     "text": [
      "['1', '2', '3', '4', '5', '6'] re.compile('([0-9])')\n"
     ]
    }
   ],
   "source": [
    "x=re.findall(x3, \"Bonjour 123 Aurevoir 456\")\n",
    "print(x,x3)"
   ]
  },
  {
   "cell_type": "code",
   "execution_count": 11,
   "id": "7412192d",
   "metadata": {},
   "outputs": [
    {
     "name": "stdout",
     "output_type": "stream",
     "text": [
      "['1', '2', '3', '4', '5', '6'] re.compile('[0-9]')\n"
     ]
    }
   ],
   "source": [
    "x=re.findall(x4, \"Bonjour 123 Aurevoir 456\")\n",
    "print(x,x4)"
   ]
  },
  {
   "cell_type": "code",
   "execution_count": 12,
   "id": "3b96f038",
   "metadata": {},
   "outputs": [
    {
     "name": "stdout",
     "output_type": "stream",
     "text": [
      "['123', '456'] re.compile('([0-9]+)+')\n"
     ]
    }
   ],
   "source": [
    "x=re.findall(x5, \"Bonjour 123 Aurevoir 456\")\n",
    "print(x,x5)"
   ]
  },
  {
   "cell_type": "raw",
   "id": "66e838bc",
   "metadata": {},
   "source": [
    "La parenthèse ici n'a pas un grand sens c'est plutôt la position du '+' qui change les choses."
   ]
  },
  {
   "cell_type": "raw",
   "id": "05caf15b",
   "metadata": {},
   "source": [
    "Au delà de l'intérêt de vérifier si un texte indiqué\n",
    "matche ou pas avec le pattern, l'intérêt majeur des \n",
    "expressions régulières réside dans le traitement de\n",
    "texte ou dans le texte mining. Souvent on est amené\n",
    "à rechercher dans un texte un certain pattern et faire\n",
    "le traitement nécessaire.Parmi les opérations les \n",
    "plus souvent rencontrées, on a la recherche d’un\n",
    "texte ou la recherche et remplacement d’un texte.\n",
    "Lorsque le texte à rechercher ou à remplacer repond à \n",
    "un certaine logique lexicale, on peut alors définir\n",
    "une expresion régulière.Toutefois, pour un pattern\n",
    "donné, lorsque l'expression régulière qui le traduit\n",
    "est relativement simple et que cette expression ne \n",
    "sera pas utilisé dans le programme de manière réccurente,\n",
    "on peut se contenter d'une simple définition\n",
    "(définition ponctuelle)."
   ]
  },
  {
   "cell_type": "code",
   "execution_count": null,
   "id": "09da0cdd",
   "metadata": {},
   "outputs": [],
   "source": []
  },
  {
   "cell_type": "markdown",
   "id": "0ca392f8",
   "metadata": {},
   "source": [
    "### La fonction search()"
   ]
  },
  {
   "cell_type": "raw",
   "id": "73a7b2bd",
   "metadata": {},
   "source": [
    "La fonction search( permet de rechercher le motif (pattern) au sein d’une chaîne de caractères\n",
    "avec une syntaxe de la forme search(motif, chaine). Si motif existe dans chaine, Python\n",
    "renvoie une instance MatchObject."
   ]
  },
  {
   "cell_type": "code",
   "execution_count": 13,
   "id": "9ee85760",
   "metadata": {},
   "outputs": [
    {
     "name": "stdout",
     "output_type": "stream",
     "text": [
      "<re.Match object; span=(7, 12), match='tigre'>\n"
     ]
    }
   ],
   "source": [
    "#Exemple 1: recherche simple\n",
    "animaux = \"girafe tigre singe\"\n",
    "x=re.search('tigre', animaux)\n",
    "print(x)"
   ]
  },
  {
   "cell_type": "code",
   "execution_count": 14,
   "id": "1037976b",
   "metadata": {},
   "outputs": [
    {
     "name": "stdout",
     "output_type": "stream",
     "text": [
      "OK\n"
     ]
    }
   ],
   "source": [
    "#Exemple2: test\n",
    "if re.search('tigre', animaux):\n",
    "    print(\"OK\")"
   ]
  },
  {
   "cell_type": "markdown",
   "id": "e5657f45",
   "metadata": {},
   "source": [
    "### La fonction compile()"
   ]
  },
  {
   "cell_type": "code",
   "execution_count": 15,
   "id": "d4823bdf",
   "metadata": {},
   "outputs": [
    {
     "name": "stdout",
     "output_type": "stream",
     "text": [
      "<re.Match object; span=(30, 38), match='Bernardo'>\n"
     ]
    }
   ],
   "source": [
    "# Exemple 2 : recherche avec spécification\n",
    "z=re.compile(r\"[bB][a-zA-Z]*\") # chaines commençant par b ou B suivies de n'importe quelles lettres de a-z ou A-Z\n",
    "phrase = \"Zorro zozotte contrairement à Bernardo\"\n",
    "x=z.search(phrase)\n",
    "print(x)"
   ]
  },
  {
   "cell_type": "code",
   "execution_count": 16,
   "id": "a289b6bd",
   "metadata": {},
   "outputs": [
    {
     "name": "stdout",
     "output_type": "stream",
     "text": [
      "['123 ']\n",
      "['123 ']\n"
     ]
    }
   ],
   "source": [
    "import re\n",
    "# recherche dansle pattern([0-9]+\n",
    "x=re.findall(\"([0-9]+ )\", \"Bonjour 123 Aurevoir 456\") \n",
    "print(x) # Il s'agit ici d'une recherche simple.\n",
    "\n",
    "print(x) # renvoie: olivier a 33 ans"
   ]
  },
  {
   "cell_type": "code",
   "execution_count": 17,
   "id": "81399ac0",
   "metadata": {},
   "outputs": [
    {
     "name": "stdout",
     "output_type": "stream",
     "text": [
      "Bienvenue chez olivier ! Tu as 33ans\n"
     ]
    }
   ],
   "source": [
    "#Pour faire une recherche et un remplacement, on fait:\n",
    "x= re.sub(r\"Bienvenue chez (?P<chezqui>\\w+) ! Tu as (?P<age>\\d+) ans\\\n",
    "?\", r\"\\g<chezqui> a \\g<age> ans\", \"Bienvenue chez olivier ! Tu as 33\\\n",
    "ans\")\n",
    "print(x)"
   ]
  },
  {
   "cell_type": "markdown",
   "id": "cfc9f8e0-6ace-4c9d-baf0-4c57a5b5ebe2",
   "metadata": {},
   "source": [
    "### Exercice 4"
   ]
  },
  {
   "cell_type": "code",
   "execution_count": null,
   "id": "97d10ccc",
   "metadata": {},
   "outputs": [],
   "source": []
  }
 ],
 "metadata": {
  "kernelspec": {
   "display_name": "Python 3 (ipykernel)",
   "language": "python",
   "name": "python3"
  },
  "language_info": {
   "codemirror_mode": {
    "name": "ipython",
    "version": 3
   },
   "file_extension": ".py",
   "mimetype": "text/x-python",
   "name": "python",
   "nbconvert_exporter": "python",
   "pygments_lexer": "ipython3",
   "version": "3.8.5"
  }
 },
 "nbformat": 4,
 "nbformat_minor": 5
}
